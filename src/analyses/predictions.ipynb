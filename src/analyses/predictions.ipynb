{
 "cells": [
  {
   "cell_type": "markdown",
   "metadata": {},
   "source": [
    "# Prediction Models (classification / regression)"
   ]
  },
  {
   "cell_type": "code",
   "execution_count": 1,
   "metadata": {},
   "outputs": [],
   "source": [
    "from itertools import combinations\n",
    "from scipy.stats import ttest_ind\n",
    "from sklearn.ensemble import RandomForestClassifier\n",
    "from sklearn.linear_model import LinearRegression, LogisticRegression\n",
    "from sklearn.model_selection import cross_val_score, GridSearchCV\n",
    "from sklearn.neighbors import KNeighborsClassifier\n",
    "from sklearn.preprocessing import LabelBinarizer, LabelEncoder, MinMaxScaler, MultiLabelBinarizer, PolynomialFeatures, StandardScaler\n",
    "from sklearn.svm import SVC, SVR\n",
    "from sklearn.tree import DecisionTreeClassifier, plot_tree\n",
    "\n",
    "import matplotlib.pyplot as plt\n",
    "import numpy as np\n",
    "import pandas as pd"
   ]
  },
  {
   "cell_type": "markdown",
   "metadata": {},
   "source": [
    "## Preprocessing"
   ]
  },
  {
   "cell_type": "code",
   "execution_count": 2,
   "metadata": {},
   "outputs": [
    {
     "data": {
      "text/html": [
       "<div>\n",
       "<style scoped>\n",
       "    .dataframe tbody tr th:only-of-type {\n",
       "        vertical-align: middle;\n",
       "    }\n",
       "\n",
       "    .dataframe tbody tr th {\n",
       "        vertical-align: top;\n",
       "    }\n",
       "\n",
       "    .dataframe thead th {\n",
       "        text-align: right;\n",
       "    }\n",
       "</style>\n",
       "<table border=\"1\" class=\"dataframe\">\n",
       "  <thead>\n",
       "    <tr style=\"text-align: right;\">\n",
       "      <th></th>\n",
       "      <th>title</th>\n",
       "      <th>author</th>\n",
       "      <th>price</th>\n",
       "      <th>description</th>\n",
       "      <th>author_description</th>\n",
       "      <th>genres</th>\n",
       "      <th>n_ratings</th>\n",
       "      <th>n_reviews</th>\n",
       "      <th>ratings</th>\n",
       "      <th>pages_format</th>\n",
       "      <th>...</th>\n",
       "      <th>setting</th>\n",
       "      <th>publication_date</th>\n",
       "      <th>publication_year</th>\n",
       "      <th>n_pages</th>\n",
       "      <th>one_star</th>\n",
       "      <th>two_stars</th>\n",
       "      <th>three_stars</th>\n",
       "      <th>four_stars</th>\n",
       "      <th>five_stars</th>\n",
       "      <th>average_rating</th>\n",
       "    </tr>\n",
       "  </thead>\n",
       "  <tbody>\n",
       "    <tr>\n",
       "      <th>0</th>\n",
       "      <td>The Weed That Strings the Hangman's Bag</td>\n",
       "      <td>Alan Bradley</td>\n",
       "      <td>4.99</td>\n",
       "      <td>From Dagger Award-winning and internationally ...</td>\n",
       "      <td>Librarian Note: There is more than one author ...</td>\n",
       "      <td>['Mystery',  'Fiction',  'Historical Fiction',...</td>\n",
       "      <td>55692.0</td>\n",
       "      <td>5756.0</td>\n",
       "      <td>[395.0, 1540.0, 12237.0, 25714.0, 15806.0]</td>\n",
       "      <td>364 pages, Hardcover</td>\n",
       "      <td>...</td>\n",
       "      <td>NaN</td>\n",
       "      <td>2010-03-09</td>\n",
       "      <td>2010.0</td>\n",
       "      <td>364.0</td>\n",
       "      <td>0.007093</td>\n",
       "      <td>0.027652</td>\n",
       "      <td>0.219726</td>\n",
       "      <td>0.461718</td>\n",
       "      <td>0.283811</td>\n",
       "      <td>3.987503</td>\n",
       "    </tr>\n",
       "    <tr>\n",
       "      <th>1</th>\n",
       "      <td>A Good Man in Africa</td>\n",
       "      <td>William  Boyd</td>\n",
       "      <td>11.99</td>\n",
       "      <td>In the small African republic of Kinjanja, Bri...</td>\n",
       "      <td>Note: William^^BoydOf Scottish descent, Boyd w...</td>\n",
       "      <td>['Fiction',  'Africa',  'Humor',  'Novels',  '...</td>\n",
       "      <td>5018.0</td>\n",
       "      <td>298.0</td>\n",
       "      <td>[90.0, 257.0, 1222.0, 2184.0, 1265.0]</td>\n",
       "      <td>352 pages, Paperback</td>\n",
       "      <td>...</td>\n",
       "      <td>['Kinjanja']</td>\n",
       "      <td>2003-01-14</td>\n",
       "      <td>2003.0</td>\n",
       "      <td>352.0</td>\n",
       "      <td>0.017935</td>\n",
       "      <td>0.051216</td>\n",
       "      <td>0.243523</td>\n",
       "      <td>0.435233</td>\n",
       "      <td>0.252092</td>\n",
       "      <td>3.852332</td>\n",
       "    </tr>\n",
       "    <tr>\n",
       "      <th>2</th>\n",
       "      <td>It Had to Be You</td>\n",
       "      <td>Janice  Thompson</td>\n",
       "      <td>0.00</td>\n",
       "      <td>Bella couldn't be happier that her long-feudin...</td>\n",
       "      <td>Welcome to the wacky, wonderful world of inspi...</td>\n",
       "      <td>['Christian Fiction',  'Romance',  'Christian'...</td>\n",
       "      <td>2152.0</td>\n",
       "      <td>132.0</td>\n",
       "      <td>[14.0, 86.0, 421.0, 735.0, 896.0]</td>\n",
       "      <td>336 pages, Paperback</td>\n",
       "      <td>...</td>\n",
       "      <td>['Galveston, Texas']</td>\n",
       "      <td>2010-05-01</td>\n",
       "      <td>2010.0</td>\n",
       "      <td>336.0</td>\n",
       "      <td>0.006506</td>\n",
       "      <td>0.039963</td>\n",
       "      <td>0.195632</td>\n",
       "      <td>0.341543</td>\n",
       "      <td>0.416357</td>\n",
       "      <td>4.121283</td>\n",
       "    </tr>\n",
       "    <tr>\n",
       "      <th>3</th>\n",
       "      <td>Missing</td>\n",
       "      <td>Kelley Armstrong</td>\n",
       "      <td>6.99</td>\n",
       "      <td>Everyone knows they left. No one knows they're...</td>\n",
       "      <td>Kelley Armstrong has been telling stories sinc...</td>\n",
       "      <td>['Young Adult',  'Mystery',  'Thriller',  'Fic...</td>\n",
       "      <td>3393.0</td>\n",
       "      <td>491.0</td>\n",
       "      <td>[54.0, 185.0, 799.0, 1308.0, 1047.0]</td>\n",
       "      <td>515 pages, ebook</td>\n",
       "      <td>...</td>\n",
       "      <td>NaN</td>\n",
       "      <td>2017-04-18</td>\n",
       "      <td>2017.0</td>\n",
       "      <td>515.0</td>\n",
       "      <td>0.015915</td>\n",
       "      <td>0.054524</td>\n",
       "      <td>0.235485</td>\n",
       "      <td>0.385500</td>\n",
       "      <td>0.308576</td>\n",
       "      <td>3.916298</td>\n",
       "    </tr>\n",
       "    <tr>\n",
       "      <th>4</th>\n",
       "      <td>Dawn of Rebellion</td>\n",
       "      <td>Michelle  Lynn</td>\n",
       "      <td>0.00</td>\n",
       "      <td>My name is Dawn Nolan, and I've grown up on th...</td>\n",
       "      <td>Michelle moved around the Midwest most of her ...</td>\n",
       "      <td>['Young Adult',  'Dystopia',  'Romance',  'Sci...</td>\n",
       "      <td>142.0</td>\n",
       "      <td>76.0</td>\n",
       "      <td>[1.0, 6.0, 23.0, 41.0, 71.0]</td>\n",
       "      <td>321 pages, Paperback</td>\n",
       "      <td>...</td>\n",
       "      <td>NaN</td>\n",
       "      <td>2013-10-17</td>\n",
       "      <td>2013.0</td>\n",
       "      <td>321.0</td>\n",
       "      <td>0.007042</td>\n",
       "      <td>0.042254</td>\n",
       "      <td>0.161972</td>\n",
       "      <td>0.288732</td>\n",
       "      <td>0.500000</td>\n",
       "      <td>4.232394</td>\n",
       "    </tr>\n",
       "  </tbody>\n",
       "</table>\n",
       "<p>5 rows × 29 columns</p>\n",
       "</div>"
      ],
      "text/plain": [
       "                                     title            author  price  \\\n",
       "0  The Weed That Strings the Hangman's Bag      Alan Bradley   4.99   \n",
       "1                     A Good Man in Africa     William  Boyd  11.99   \n",
       "2                         It Had to Be You  Janice  Thompson   0.00   \n",
       "3                                  Missing  Kelley Armstrong   6.99   \n",
       "4                        Dawn of Rebellion    Michelle  Lynn   0.00   \n",
       "\n",
       "                                         description  \\\n",
       "0  From Dagger Award-winning and internationally ...   \n",
       "1  In the small African republic of Kinjanja, Bri...   \n",
       "2  Bella couldn't be happier that her long-feudin...   \n",
       "3  Everyone knows they left. No one knows they're...   \n",
       "4  My name is Dawn Nolan, and I've grown up on th...   \n",
       "\n",
       "                                  author_description  \\\n",
       "0  Librarian Note: There is more than one author ...   \n",
       "1  Note: William^^BoydOf Scottish descent, Boyd w...   \n",
       "2  Welcome to the wacky, wonderful world of inspi...   \n",
       "3  Kelley Armstrong has been telling stories sinc...   \n",
       "4  Michelle moved around the Midwest most of her ...   \n",
       "\n",
       "                                              genres  n_ratings  n_reviews  \\\n",
       "0  ['Mystery',  'Fiction',  'Historical Fiction',...    55692.0     5756.0   \n",
       "1  ['Fiction',  'Africa',  'Humor',  'Novels',  '...     5018.0      298.0   \n",
       "2  ['Christian Fiction',  'Romance',  'Christian'...     2152.0      132.0   \n",
       "3  ['Young Adult',  'Mystery',  'Thriller',  'Fic...     3393.0      491.0   \n",
       "4  ['Young Adult',  'Dystopia',  'Romance',  'Sci...      142.0       76.0   \n",
       "\n",
       "                                      ratings          pages_format  ...  \\\n",
       "0  [395.0, 1540.0, 12237.0, 25714.0, 15806.0]  364 pages, Hardcover  ...   \n",
       "1       [90.0, 257.0, 1222.0, 2184.0, 1265.0]  352 pages, Paperback  ...   \n",
       "2           [14.0, 86.0, 421.0, 735.0, 896.0]  336 pages, Paperback  ...   \n",
       "3        [54.0, 185.0, 799.0, 1308.0, 1047.0]      515 pages, ebook  ...   \n",
       "4                [1.0, 6.0, 23.0, 41.0, 71.0]  321 pages, Paperback  ...   \n",
       "\n",
       "                setting publication_date publication_year n_pages  one_star  \\\n",
       "0                   NaN       2010-03-09           2010.0   364.0  0.007093   \n",
       "1          ['Kinjanja']       2003-01-14           2003.0   352.0  0.017935   \n",
       "2  ['Galveston, Texas']       2010-05-01           2010.0   336.0  0.006506   \n",
       "3                   NaN       2017-04-18           2017.0   515.0  0.015915   \n",
       "4                   NaN       2013-10-17           2013.0   321.0  0.007042   \n",
       "\n",
       "  two_stars three_stars four_stars five_stars average_rating  \n",
       "0  0.027652    0.219726   0.461718   0.283811       3.987503  \n",
       "1  0.051216    0.243523   0.435233   0.252092       3.852332  \n",
       "2  0.039963    0.195632   0.341543   0.416357       4.121283  \n",
       "3  0.054524    0.235485   0.385500   0.308576       3.916298  \n",
       "4  0.042254    0.161972   0.288732   0.500000       4.232394  \n",
       "\n",
       "[5 rows x 29 columns]"
      ]
     },
     "execution_count": 2,
     "metadata": {},
     "output_type": "execute_result"
    }
   ],
   "source": [
    "df = pd.read_csv(\"./../../data/goodreads_data.csv\", converters={\"genres\": lambda x: x[1:-1].split(\",\")})\n",
    "df[\"publication_date\"] = pd.to_datetime(df[\"published\"].apply(lambda x: \" \".join(str(x).split()[:3])), errors=\"coerce\")\n",
    "df[\"publication_year\"] = df[\"publication_date\"].dt.year.astype(\"float\")\n",
    "df[\"n_pages\"] = df[\"pages_format\"].apply(lambda x: int(x.split()[0]) if x.split()[0].isdigit() else np.nan).astype(\"float\")\n",
    "df[\"format\"] = df[\"pages_format\"].apply(lambda x: x.replace(\"Kindle Edition\", \"Kindle\").split()[-1].lower() if x.replace(\"Kindle Edition\", \"Kindle\").split()[-1].lower() in [\"hardcover\", \"paperback\", \"ebook\", \"audiobook\", \"audio\", \"cd\", \"kindle\"] else \"other\").astype(\"category\")\n",
    "\n",
    "dic_rating = {1: \"one_star\", 2: \"two_stars\", 3: \"three_stars\", 4: \"four_stars\", 5: \"five_stars\"}\n",
    "for key, value in dic_rating.items():\n",
    "    df[value] = df[\"ratings\"].apply(lambda x: float(x[1:-1].split(\",\")[key-1])) / df[\"n_ratings\"]\n",
    "df[\"average_rating\"] = df[\"ratings\"].apply(lambda x: sum([(i+1) * float(x[1:-1].split(\",\")[i]) for i in range(5)])) / df[\"n_ratings\"]\n",
    "\n",
    "df.head(5)"
   ]
  },
  {
   "cell_type": "code",
   "execution_count": 3,
   "metadata": {},
   "outputs": [
    {
     "name": "stdout",
     "output_type": "stream",
     "text": [
      "Number of books (with duplicates):  24630\n",
      "Number of books (without duplicates):  19666\n"
     ]
    }
   ],
   "source": [
    "print(\"Number of books (with duplicates): \", len(df))\n",
    "df.drop_duplicates(subset=[\"title\", \"author\"], keep='first', inplace=True, ignore_index=True)\n",
    "print(\"Number of books (without duplicates): \", len(df))"
   ]
  },
  {
   "cell_type": "markdown",
   "metadata": {},
   "source": [
    "## Formats Classification"
   ]
  },
  {
   "cell_type": "code",
   "execution_count": 31,
   "metadata": {},
   "outputs": [
    {
     "name": "stdout",
     "output_type": "stream",
     "text": [
      "Number of features:  6\n"
     ]
    }
   ],
   "source": [
    "features = [\"price\", \"n_ratings\", \"n_reviews\", \"publication_year\", \"n_pages\", \"average_rating\"]\n",
    "print(\"Number of features: \", len(features))"
   ]
  },
  {
   "cell_type": "code",
   "execution_count": 32,
   "metadata": {},
   "outputs": [
    {
     "name": "stdout",
     "output_type": "stream",
     "text": [
      "Number of classes:  8\n"
     ]
    }
   ],
   "source": [
    "df_format = df[features + [\"format\"]].dropna()\n",
    "\n",
    "X_format = df_format[features].values\n",
    "X_format = MinMaxScaler().fit_transform(X_format)\n",
    "\n",
    "lb = LabelEncoder()\n",
    "y_format = lb.fit_transform(df_format[\"format\"].values)\n",
    "\n",
    "print(\"Number of classes: \", len(lb.classes_))"
   ]
  },
  {
   "cell_type": "code",
   "execution_count": 33,
   "metadata": {},
   "outputs": [],
   "source": [
    "scores = {}"
   ]
  },
  {
   "cell_type": "markdown",
   "metadata": {},
   "source": [
    "### K Nearest Neighbors"
   ]
  },
  {
   "cell_type": "code",
   "execution_count": 34,
   "metadata": {},
   "outputs": [
    {
     "name": "stdout",
     "output_type": "stream",
     "text": [
      "Best parameters:  {'n_neighbors': 19, 'p': 1, 'weights': 'uniform'}\n",
      "Best score:  0.6054517446729996\n"
     ]
    },
    {
     "name": "stderr",
     "output_type": "stream",
     "text": [
      "C:\\Users\\Ethan\\AppData\\Local\\Packages\\PythonSoftwareFoundation.Python.3.11_qbz5n2kfra8p0\\LocalCache\\local-packages\\Python311\\site-packages\\sklearn\\model_selection\\_split.py:737: UserWarning: The least populated class in y has only 8 members, which is less than n_splits=10.\n",
      "  warnings.warn(\n"
     ]
    }
   ],
   "source": [
    "params = {\n",
    "    \"n_neighbors\": range(3, 21, 2),\n",
    "    \"weights\": [\"uniform\", \"distance\"],\n",
    "    \"p\": [1, 2]\n",
    "}\n",
    "\n",
    "gridsearch = GridSearchCV(KNeighborsClassifier(), params, cv=5)\n",
    "gridsearch = gridsearch.fit(X_format, y_format)\n",
    "\n",
    "print(\"Best parameters: \", gridsearch.best_params_)\n",
    "print(\"Best score: \", gridsearch.best_score_)\n",
    "\n",
    "scores[\"KNN\"] = cross_val_score(gridsearch.best_estimator_, X_format, y_format, cv=10)"
   ]
  },
  {
   "cell_type": "markdown",
   "metadata": {},
   "source": [
    "### Logistic Regression"
   ]
  },
  {
   "cell_type": "code",
   "execution_count": 35,
   "metadata": {},
   "outputs": [
    {
     "name": "stdout",
     "output_type": "stream",
     "text": [
      "Best parameters:  {'C': 100, 'class_weight': None, 'max_iter': 500, 'solver': 'liblinear'}\n",
      "Best score:  0.5767803948477317\n"
     ]
    },
    {
     "name": "stderr",
     "output_type": "stream",
     "text": [
      "C:\\Users\\Ethan\\AppData\\Local\\Packages\\PythonSoftwareFoundation.Python.3.11_qbz5n2kfra8p0\\LocalCache\\local-packages\\Python311\\site-packages\\sklearn\\model_selection\\_split.py:737: UserWarning: The least populated class in y has only 8 members, which is less than n_splits=10.\n",
      "  warnings.warn(\n"
     ]
    }
   ],
   "source": [
    "params = {\n",
    "    \"max_iter\": [500, 1000, 2000],\n",
    "    \"C\": [0.1, 1, 10, 100],\n",
    "    \"class_weight\": [\"balanced\", None],\n",
    "    \"solver\": [\"liblinear\", \"lbfgs\"]\n",
    "}\n",
    "\n",
    "gridsearch = GridSearchCV(LogisticRegression(), params, cv=5)\n",
    "gridsearch = gridsearch.fit(X_format, y_format)\n",
    "\n",
    "print(\"Best parameters: \", gridsearch.best_params_)\n",
    "print(\"Best score: \", gridsearch.best_score_)\n",
    "\n",
    "scores[\"LogisticRegression\"] = cross_val_score(gridsearch.best_estimator_, X_format, y_format, cv=10)"
   ]
  },
  {
   "cell_type": "markdown",
   "metadata": {},
   "source": [
    "### Decision Tree"
   ]
  },
  {
   "cell_type": "code",
   "execution_count": 36,
   "metadata": {},
   "outputs": [
    {
     "name": "stdout",
     "output_type": "stream",
     "text": [
      "Best parameters:  {'criterion': 'gini', 'max_depth': 7}\n",
      "Best score:  0.617433589665569\n"
     ]
    },
    {
     "name": "stderr",
     "output_type": "stream",
     "text": [
      "C:\\Users\\Ethan\\AppData\\Local\\Packages\\PythonSoftwareFoundation.Python.3.11_qbz5n2kfra8p0\\LocalCache\\local-packages\\Python311\\site-packages\\sklearn\\model_selection\\_split.py:737: UserWarning: The least populated class in y has only 8 members, which is less than n_splits=10.\n",
      "  warnings.warn(\n"
     ]
    }
   ],
   "source": [
    "params = {\n",
    "    \"criterion\": [\"gini\", \"entropy\"],\n",
    "    \"max_depth\": range(3, 11),\n",
    "}\n",
    "\n",
    "gridsearch = GridSearchCV(DecisionTreeClassifier(), params, cv=5)\n",
    "gridsearch = gridsearch.fit(X_format, y_format)\n",
    "\n",
    "print(\"Best parameters: \", gridsearch.best_params_)\n",
    "print(\"Best score: \", gridsearch.best_score_)\n",
    "\n",
    "scores[\"DecisionTree\"] = cross_val_score(gridsearch.best_estimator_, X_format, y_format, cv=10)"
   ]
  },
  {
   "cell_type": "code",
   "execution_count": 37,
   "metadata": {},
   "outputs": [
    {
     "data": {
      "text/plain": [
       "[Text(0.4721563981042654, 0.9375, 'publication_year <= 0.911\\ngini = 0.636\\nsamples = 19113\\nvalue = [8.0, 36.0, 55.0, 945.0, 5177.0, 2739.0, 265.0, 9888.0]\\nclass = paperback'),\n",
       " Text(0.22985781990521326, 0.8125, 'publication_year <= 0.9\\ngini = 0.357\\nsamples = 7421\\nvalue = [0, 5, 11, 28, 1487, 39, 91, 5760]\\nclass = paperback'),\n",
       " Text(0.11670616113744076, 0.6875, 'publication_year <= 0.716\\ngini = 0.3\\nsamples = 5761\\nvalue = [0, 3, 2, 18, 899, 26, 80, 4733]\\nclass = paperback'),\n",
       " Text(0.0485781990521327, 0.5625, 'average_rating <= 0.528\\ngini = 0.57\\nsamples = 186\\nvalue = [0, 0, 0, 3, 86, 2, 9, 86]\\nclass = hardcover'),\n",
       " Text(0.023696682464454975, 0.4375, 'n_pages <= 0.005\\ngini = 0.497\\nsamples = 29\\nvalue = [0, 0, 0, 2, 3, 1, 3, 20]\\nclass = paperback'),\n",
       " Text(0.009478672985781991, 0.3125, 'price <= 0.005\\ngini = 0.625\\nsamples = 4\\nvalue = [0, 0, 0, 1, 0, 1, 2, 0]\\nclass = other'),\n",
       " Text(0.004739336492890996, 0.1875, 'gini = 0.0\\nsamples = 2\\nvalue = [0, 0, 0, 0, 0, 0, 2, 0]\\nclass = other'),\n",
       " Text(0.014218009478672985, 0.1875, 'publication_year <= 0.357\\ngini = 0.5\\nsamples = 2\\nvalue = [0, 0, 0, 1, 0, 1, 0, 0]\\nclass = ebook'),\n",
       " Text(0.009478672985781991, 0.0625, 'gini = 0.0\\nsamples = 1\\nvalue = [0, 0, 0, 1, 0, 0, 0, 0]\\nclass = ebook'),\n",
       " Text(0.018957345971563982, 0.0625, 'gini = 0.0\\nsamples = 1\\nvalue = [0, 0, 0, 0, 0, 1, 0, 0]\\nclass = kindle'),\n",
       " Text(0.037914691943127965, 0.3125, 'n_pages <= 0.068\\ngini = 0.342\\nsamples = 25\\nvalue = [0, 0, 0, 1, 3, 0, 1, 20]\\nclass = paperback'),\n",
       " Text(0.03317535545023697, 0.1875, 'average_rating <= 0.364\\ngini = 0.288\\nsamples = 24\\nvalue = [0, 0, 0, 0, 3, 0, 1, 20]\\nclass = paperback'),\n",
       " Text(0.02843601895734597, 0.0625, 'gini = 0.0\\nsamples = 1\\nvalue = [0, 0, 0, 0, 1, 0, 0, 0]\\nclass = hardcover'),\n",
       " Text(0.037914691943127965, 0.0625, 'gini = 0.234\\nsamples = 23\\nvalue = [0, 0, 0, 0, 2, 0, 1, 20]\\nclass = paperback'),\n",
       " Text(0.04265402843601896, 0.1875, 'gini = 0.0\\nsamples = 1\\nvalue = [0, 0, 0, 1, 0, 0, 0, 0]\\nclass = ebook'),\n",
       " Text(0.07345971563981042, 0.4375, 'n_ratings <= 0.0\\ngini = 0.542\\nsamples = 157\\nvalue = [0, 0, 0, 1, 83, 1, 6, 66]\\nclass = hardcover'),\n",
       " Text(0.05687203791469194, 0.3125, 'n_pages <= 0.003\\ngini = 0.346\\nsamples = 25\\nvalue = [0, 0, 0, 0, 20, 1, 2, 2]\\nclass = hardcover'),\n",
       " Text(0.052132701421800945, 0.1875, 'gini = 0.0\\nsamples = 1\\nvalue = [0, 0, 0, 0, 0, 1, 0, 0]\\nclass = kindle'),\n",
       " Text(0.061611374407582936, 0.1875, 'n_reviews <= 0.0\\ngini = 0.292\\nsamples = 24\\nvalue = [0, 0, 0, 0, 20, 0, 2, 2]\\nclass = hardcover'),\n",
       " Text(0.05687203791469194, 0.0625, 'gini = 0.531\\nsamples = 8\\nvalue = [0, 0, 0, 0, 5, 0, 2, 1]\\nclass = hardcover'),\n",
       " Text(0.06635071090047394, 0.0625, 'gini = 0.117\\nsamples = 16\\nvalue = [0, 0, 0, 0, 15, 0, 0, 1]\\nclass = hardcover'),\n",
       " Text(0.09004739336492891, 0.3125, 'n_pages <= 0.034\\ngini = 0.536\\nsamples = 132\\nvalue = [0, 0, 0, 1, 63, 0, 4, 64]\\nclass = paperback'),\n",
       " Text(0.08056872037914692, 0.1875, 'n_pages <= 0.022\\ngini = 0.525\\nsamples = 113\\nvalue = [0.0, 0.0, 0.0, 1.0, 47.0, 0.0, 3.0, 62.0]\\nclass = paperback'),\n",
       " Text(0.07582938388625593, 0.0625, 'gini = 0.534\\nsamples = 80\\nvalue = [0, 0, 0, 1, 41, 0, 2, 36]\\nclass = hardcover'),\n",
       " Text(0.08530805687203792, 0.0625, 'gini = 0.345\\nsamples = 33\\nvalue = [0, 0, 0, 0, 6, 0, 1, 26]\\nclass = paperback'),\n",
       " Text(0.0995260663507109, 0.1875, 'price <= 0.058\\ngini = 0.277\\nsamples = 19\\nvalue = [0, 0, 0, 0, 16, 0, 1, 2]\\nclass = hardcover'),\n",
       " Text(0.0947867298578199, 0.0625, 'gini = 0.111\\nsamples = 17\\nvalue = [0, 0, 0, 0, 16, 0, 1, 0]\\nclass = hardcover'),\n",
       " Text(0.10426540284360189, 0.0625, 'gini = 0.0\\nsamples = 2\\nvalue = [0, 0, 0, 0, 0, 0, 0, 2]\\nclass = paperback'),\n",
       " Text(0.1848341232227488, 0.5625, 'n_pages <= 0.004\\ngini = 0.284\\nsamples = 5575\\nvalue = [0, 3, 2, 15, 813, 24, 71, 4647]\\nclass = paperback'),\n",
       " Text(0.14691943127962084, 0.4375, 'average_rating <= 0.651\\ngini = 0.598\\nsamples = 232\\nvalue = [0.0, 2.0, 2.0, 4.0, 83.0, 3.0, 18.0, 120.0]\\nclass = paperback'),\n",
       " Text(0.12796208530805686, 0.3125, 'average_rating <= 0.615\\ngini = 0.528\\nsamples = 95\\nvalue = [0, 1, 1, 4, 25, 0, 4, 60]\\nclass = paperback'),\n",
       " Text(0.11848341232227488, 0.1875, 'average_rating <= 0.497\\ngini = 0.619\\nsamples = 59\\nvalue = [0, 1, 1, 4, 20, 0, 3, 30]\\nclass = paperback'),\n",
       " Text(0.11374407582938388, 0.0625, 'gini = 0.439\\nsamples = 14\\nvalue = [0, 0, 0, 3, 1, 0, 0, 10]\\nclass = paperback'),\n",
       " Text(0.12322274881516587, 0.0625, 'gini = 0.618\\nsamples = 45\\nvalue = [0, 1, 1, 1, 19, 0, 3, 20]\\nclass = paperback'),\n",
       " Text(0.13744075829383887, 0.1875, 'price <= 0.045\\ngini = 0.285\\nsamples = 36\\nvalue = [0, 0, 0, 0, 5, 0, 1, 30]\\nclass = paperback'),\n",
       " Text(0.13270142180094788, 0.0625, 'gini = 0.179\\nsamples = 31\\nvalue = [0, 0, 0, 0, 2, 0, 1, 28]\\nclass = paperback'),\n",
       " Text(0.14218009478672985, 0.0625, 'gini = 0.48\\nsamples = 5\\nvalue = [0, 0, 0, 0, 3, 0, 0, 2]\\nclass = hardcover'),\n",
       " Text(0.16587677725118483, 0.3125, 'n_ratings <= 0.001\\ngini = 0.618\\nsamples = 137\\nvalue = [0, 1, 1, 0, 58, 3, 14, 60]\\nclass = paperback'),\n",
       " Text(0.15639810426540285, 0.1875, 'n_pages <= 0.003\\ngini = 0.558\\nsamples = 77\\nvalue = [0.0, 0.0, 0.0, 0.0, 33.0, 3.0, 2.0, 39.0]\\nclass = paperback'),\n",
       " Text(0.15165876777251186, 0.0625, 'gini = 0.57\\nsamples = 65\\nvalue = [0, 0, 0, 0, 31, 3, 2, 29]\\nclass = hardcover'),\n",
       " Text(0.16113744075829384, 0.0625, 'gini = 0.278\\nsamples = 12\\nvalue = [0, 0, 0, 0, 2, 0, 0, 10]\\nclass = paperback'),\n",
       " Text(0.17535545023696683, 0.1875, 'n_pages <= 0.002\\ngini = 0.663\\nsamples = 60\\nvalue = [0, 1, 1, 0, 25, 0, 12, 21]\\nclass = hardcover'),\n",
       " Text(0.17061611374407584, 0.0625, 'gini = 0.568\\nsamples = 9\\nvalue = [0, 1, 0, 0, 3, 0, 5, 0]\\nclass = other'),\n",
       " Text(0.18009478672985782, 0.0625, 'gini = 0.625\\nsamples = 51\\nvalue = [0.0, 0.0, 1.0, 0.0, 22.0, 0.0, 7.0, 21.0]\\nclass = hardcover'),\n",
       " Text(0.22274881516587677, 0.4375, 'n_ratings <= 0.0\\ngini = 0.263\\nsamples = 5343\\nvalue = [0.0, 1.0, 0.0, 11.0, 730.0, 21.0, 53.0, 4527.0]\\nclass = paperback'),\n",
       " Text(0.2037914691943128, 0.3125, 'n_pages <= 0.034\\ngini = 0.378\\nsamples = 899\\nvalue = [0, 0, 0, 0, 204, 4, 12, 679]\\nclass = paperback'),\n",
       " Text(0.1943127962085308, 0.1875, 'average_rating <= 0.69\\ngini = 0.351\\nsamples = 800\\nvalue = [0, 0, 0, 0, 164, 3, 10, 623]\\nclass = paperback'),\n",
       " Text(0.1895734597156398, 0.0625, 'gini = 0.326\\nsamples = 704\\nvalue = [0, 0, 0, 0, 130, 2, 9, 563]\\nclass = paperback'),\n",
       " Text(0.1990521327014218, 0.0625, 'gini = 0.484\\nsamples = 96\\nvalue = [0, 0, 0, 0, 34, 1, 1, 60]\\nclass = paperback'),\n",
       " Text(0.2132701421800948, 0.1875, 'n_pages <= 0.038\\ngini = 0.516\\nsamples = 99\\nvalue = [0, 0, 0, 0, 40, 1, 2, 56]\\nclass = paperback'),\n",
       " Text(0.20853080568720378, 0.0625, 'gini = 0.539\\nsamples = 41\\nvalue = [0, 0, 0, 0, 22, 1, 1, 17]\\nclass = hardcover'),\n",
       " Text(0.21800947867298578, 0.0625, 'gini = 0.451\\nsamples = 58\\nvalue = [0, 0, 0, 0, 18, 0, 1, 39]\\nclass = paperback'),\n",
       " Text(0.24170616113744076, 0.3125, 'price <= 0.1\\ngini = 0.236\\nsamples = 4444\\nvalue = [0, 1, 0, 11, 526, 17, 41, 3848]\\nclass = paperback'),\n",
       " Text(0.23222748815165878, 0.1875, 'average_rating <= 0.626\\ngini = 0.23\\nsamples = 4357\\nvalue = [0, 1, 0, 11, 499, 17, 38, 3791]\\nclass = paperback'),\n",
       " Text(0.22748815165876776, 0.0625, 'gini = 0.204\\nsamples = 2473\\nvalue = [0.0, 1.0, 0.0, 8.0, 245.0, 8.0, 18.0, 2193.0]\\nclass = paperback'),\n",
       " Text(0.23696682464454977, 0.0625, 'gini = 0.262\\nsamples = 1884\\nvalue = [0, 0, 0, 3, 254, 9, 20, 1598]\\nclass = paperback'),\n",
       " Text(0.25118483412322273, 0.1875, 'n_pages <= 0.059\\ngini = 0.473\\nsamples = 87\\nvalue = [0, 0, 0, 0, 27, 0, 3, 57]\\nclass = paperback'),\n",
       " Text(0.24644549763033174, 0.0625, 'gini = 0.421\\nsamples = 72\\nvalue = [0, 0, 0, 0, 17, 0, 3, 52]\\nclass = paperback'),\n",
       " Text(0.2559241706161137, 0.0625, 'gini = 0.444\\nsamples = 15\\nvalue = [0, 0, 0, 0, 10, 0, 0, 5]\\nclass = hardcover'),\n",
       " Text(0.34300947867298576, 0.6875, 'price <= 0.046\\ngini = 0.492\\nsamples = 1660\\nvalue = [0.0, 2.0, 9.0, 10.0, 588.0, 13.0, 11.0, 1027.0]\\nclass = paperback'),\n",
       " Text(0.30924170616113744, 0.5625, 'n_reviews <= 0.002\\ngini = 0.425\\nsamples = 782\\nvalue = [0.0, 0.0, 2.0, 8.0, 206.0, 4.0, 6.0, 556.0]\\nclass = paperback'),\n",
       " Text(0.28672985781990523, 0.4375, 'n_pages <= 0.005\\ngini = 0.365\\nsamples = 442\\nvalue = [0, 0, 2, 5, 92, 2, 1, 340]\\nclass = paperback'),\n",
       " Text(0.27488151658767773, 0.3125, 'n_pages <= 0.002\\ngini = 0.426\\nsamples = 13\\nvalue = [0, 0, 0, 0, 9, 0, 0, 4]\\nclass = hardcover'),\n",
       " Text(0.27014218009478674, 0.1875, 'price <= 0.033\\ngini = 0.444\\nsamples = 6\\nvalue = [0, 0, 0, 0, 2, 0, 0, 4]\\nclass = paperback'),\n",
       " Text(0.26540284360189575, 0.0625, 'gini = 0.0\\nsamples = 4\\nvalue = [0, 0, 0, 0, 0, 0, 0, 4]\\nclass = paperback'),\n",
       " Text(0.27488151658767773, 0.0625, 'gini = 0.0\\nsamples = 2\\nvalue = [0, 0, 0, 0, 2, 0, 0, 0]\\nclass = hardcover'),\n",
       " Text(0.2796208530805687, 0.1875, 'gini = 0.0\\nsamples = 7\\nvalue = [0, 0, 0, 0, 7, 0, 0, 0]\\nclass = hardcover'),\n",
       " Text(0.2985781990521327, 0.3125, 'n_pages <= 0.047\\ngini = 0.349\\nsamples = 429\\nvalue = [0, 0, 2, 5, 83, 2, 1, 336]\\nclass = paperback'),\n",
       " Text(0.2890995260663507, 0.1875, 'n_ratings <= 0.0\\ngini = 0.339\\nsamples = 422\\nvalue = [0, 0, 2, 5, 78, 2, 1, 334]\\nclass = paperback'),\n",
       " Text(0.2843601895734597, 0.0625, 'gini = 0.41\\nsamples = 124\\nvalue = [0, 0, 0, 0, 34, 0, 1, 89]\\nclass = paperback'),\n",
       " Text(0.2938388625592417, 0.0625, 'gini = 0.302\\nsamples = 298\\nvalue = [0, 0, 2, 5, 44, 2, 0, 245]\\nclass = paperback'),\n",
       " Text(0.3080568720379147, 0.1875, 'n_reviews <= 0.0\\ngini = 0.408\\nsamples = 7\\nvalue = [0, 0, 0, 0, 5, 0, 0, 2]\\nclass = hardcover'),\n",
       " Text(0.3033175355450237, 0.0625, 'gini = 0.0\\nsamples = 4\\nvalue = [0, 0, 0, 0, 4, 0, 0, 0]\\nclass = hardcover'),\n",
       " Text(0.3127962085308057, 0.0625, 'gini = 0.444\\nsamples = 3\\nvalue = [0, 0, 0, 0, 1, 0, 0, 2]\\nclass = paperback'),\n",
       " Text(0.33175355450236965, 0.4375, 'n_ratings <= 0.001\\ngini = 0.484\\nsamples = 340\\nvalue = [0.0, 0.0, 0.0, 3.0, 114.0, 2.0, 5.0, 216.0]\\nclass = paperback'),\n",
       " Text(0.32701421800947866, 0.3125, 'gini = 0.0\\nsamples = 9\\nvalue = [0, 0, 0, 0, 9, 0, 0, 0]\\nclass = hardcover'),\n",
       " Text(0.33649289099526064, 0.3125, 'publication_year <= 0.905\\ngini = 0.473\\nsamples = 331\\nvalue = [0.0, 0.0, 0.0, 3.0, 105.0, 2.0, 5.0, 216.0]\\nclass = paperback'),\n",
       " Text(0.32701421800947866, 0.1875, 'average_rating <= 0.748\\ngini = 0.382\\nsamples = 186\\nvalue = [0, 0, 0, 2, 42, 0, 2, 140]\\nclass = paperback'),\n",
       " Text(0.3222748815165877, 0.0625, 'gini = 0.369\\nsamples = 183\\nvalue = [0, 0, 0, 2, 39, 0, 2, 140]\\nclass = paperback'),\n",
       " Text(0.33175355450236965, 0.0625, 'gini = 0.0\\nsamples = 3\\nvalue = [0, 0, 0, 0, 3, 0, 0, 0]\\nclass = hardcover'),\n",
       " Text(0.3459715639810427, 0.1875, 'n_pages <= 0.017\\ngini = 0.536\\nsamples = 145\\nvalue = [0, 0, 0, 1, 63, 2, 3, 76]\\nclass = paperback'),\n",
       " Text(0.3412322274881517, 0.0625, 'gini = 0.431\\nsamples = 40\\nvalue = [0, 0, 0, 0, 8, 1, 2, 29]\\nclass = paperback'),\n",
       " Text(0.35071090047393366, 0.0625, 'gini = 0.525\\nsamples = 105\\nvalue = [0, 0, 0, 1, 55, 1, 1, 47]\\nclass = hardcover'),\n",
       " Text(0.3767772511848341, 0.5625, 'n_pages <= 0.002\\ngini = 0.523\\nsamples = 878\\nvalue = [0.0, 2.0, 7.0, 2.0, 382.0, 9.0, 5.0, 471.0]\\nclass = paperback'),\n",
       " Text(0.36018957345971564, 0.4375, 'n_ratings <= 0.017\\ngini = 0.32\\nsamples = 5\\nvalue = [0, 1, 4, 0, 0, 0, 0, 0]\\nclass = cd'),\n",
       " Text(0.35545023696682465, 0.3125, 'gini = 0.0\\nsamples = 4\\nvalue = [0, 0, 4, 0, 0, 0, 0, 0]\\nclass = cd'),\n",
       " Text(0.36492890995260663, 0.3125, 'gini = 0.0\\nsamples = 1\\nvalue = [0, 1, 0, 0, 0, 0, 0, 0]\\nclass = audiobook'),\n",
       " Text(0.3933649289099526, 0.4375, 'n_reviews <= 0.0\\ngini = 0.517\\nsamples = 873\\nvalue = [0, 1, 3, 2, 382, 9, 5, 471]\\nclass = paperback'),\n",
       " Text(0.3744075829383886, 0.3125, 'average_rating <= 0.62\\ngini = 0.475\\nsamples = 114\\nvalue = [0, 0, 0, 1, 32, 4, 1, 76]\\nclass = paperback'),\n",
       " Text(0.36492890995260663, 0.1875, 'average_rating <= 0.48\\ngini = 0.528\\nsamples = 78\\nvalue = [0.0, 0.0, 0.0, 1.0, 29.0, 2.0, 1.0, 45.0]\\nclass = paperback'),\n",
       " Text(0.36018957345971564, 0.0625, 'gini = 0.41\\nsamples = 31\\nvalue = [0, 0, 0, 1, 6, 1, 0, 23]\\nclass = paperback'),\n",
       " Text(0.3696682464454976, 0.0625, 'gini = 0.541\\nsamples = 47\\nvalue = [0, 0, 0, 0, 23, 1, 1, 22]\\nclass = hardcover'),\n",
       " Text(0.38388625592417064, 0.1875, 'n_pages <= 0.028\\ngini = 0.248\\nsamples = 36\\nvalue = [0, 0, 0, 0, 3, 2, 0, 31]\\nclass = paperback'),\n",
       " Text(0.3791469194312796, 0.0625, 'gini = 0.071\\nsamples = 27\\nvalue = [0, 0, 0, 0, 0, 1, 0, 26]\\nclass = paperback'),\n",
       " Text(0.3886255924170616, 0.0625, 'gini = 0.568\\nsamples = 9\\nvalue = [0, 0, 0, 0, 3, 1, 0, 5]\\nclass = paperback'),\n",
       " Text(0.41232227488151657, 0.3125, 'n_ratings <= 0.0\\ngini = 0.516\\nsamples = 759\\nvalue = [0, 1, 3, 1, 350, 5, 4, 395]\\nclass = paperback'),\n",
       " Text(0.4028436018957346, 0.1875, 'price <= 0.083\\ngini = 0.308\\nsamples = 21\\nvalue = [0, 0, 0, 0, 17, 0, 0, 4]\\nclass = hardcover'),\n",
       " Text(0.3981042654028436, 0.0625, 'gini = 0.188\\nsamples = 19\\nvalue = [0, 0, 0, 0, 17, 0, 0, 2]\\nclass = hardcover'),\n",
       " Text(0.4075829383886256, 0.0625, 'gini = 0.0\\nsamples = 2\\nvalue = [0, 0, 0, 0, 0, 0, 0, 2]\\nclass = paperback'),\n",
       " Text(0.4218009478672986, 0.1875, 'n_pages <= 0.022\\ngini = 0.516\\nsamples = 738\\nvalue = [0.0, 1.0, 3.0, 1.0, 333.0, 5.0, 4.0, 391.0]\\nclass = paperback'),\n",
       " Text(0.41706161137440756, 0.0625, 'gini = 0.514\\nsamples = 338\\nvalue = [0, 0, 3, 0, 171, 2, 0, 162]\\nclass = hardcover'),\n",
       " Text(0.4265402843601896, 0.0625, 'gini = 0.508\\nsamples = 400\\nvalue = [0, 1, 0, 1, 162, 3, 4, 229]\\nclass = paperback'),\n",
       " Text(0.7144549763033176, 0.8125, 'price <= 0.034\\ngini = 0.716\\nsamples = 11692\\nvalue = [8, 31, 44, 917, 3690, 2700, 174, 4128]\\nclass = paperback'),\n",
       " Text(0.5693127962085308, 0.6875, 'publication_year <= 0.927\\ngini = 0.701\\nsamples = 5541\\nvalue = [3.0, 7.0, 9.0, 705.0, 653.0, 2143.0, 111.0, 1910.0]\\nclass = kindle'),\n",
       " Text(0.49881516587677727, 0.5625, 'n_reviews <= 0.007\\ngini = 0.6\\nsamples = 607\\nvalue = [0.0, 3.0, 4.0, 54.0, 149.0, 43.0, 7.0, 347.0]\\nclass = paperback'),\n",
       " Text(0.46919431279620855, 0.4375, 'n_pages <= 0.013\\ngini = 0.58\\nsamples = 535\\nvalue = [0.0, 1.0, 2.0, 53.0, 113.0, 39.0, 6.0, 321.0]\\nclass = paperback'),\n",
       " Text(0.45023696682464454, 0.3125, 'n_reviews <= 0.0\\ngini = 0.715\\nsamples = 110\\nvalue = [0, 1, 2, 22, 17, 16, 3, 49]\\nclass = paperback'),\n",
       " Text(0.44075829383886256, 0.1875, 'average_rating <= 0.546\\ngini = 0.491\\nsamples = 26\\nvalue = [0, 0, 0, 3, 1, 3, 1, 18]\\nclass = paperback'),\n",
       " Text(0.43601895734597157, 0.0625, 'gini = 0.675\\nsamples = 13\\nvalue = [0, 0, 0, 3, 1, 3, 0, 6]\\nclass = paperback'),\n",
       " Text(0.44549763033175355, 0.0625, 'gini = 0.142\\nsamples = 13\\nvalue = [0, 0, 0, 0, 0, 0, 1, 12]\\nclass = paperback'),\n",
       " Text(0.4597156398104265, 0.1875, 'n_reviews <= 0.0\\ngini = 0.751\\nsamples = 84\\nvalue = [0, 1, 2, 19, 16, 13, 2, 31]\\nclass = paperback'),\n",
       " Text(0.4549763033175355, 0.0625, 'gini = 0.473\\nsamples = 13\\nvalue = [0, 0, 0, 9, 0, 2, 0, 2]\\nclass = ebook'),\n",
       " Text(0.46445497630331756, 0.0625, 'gini = 0.737\\nsamples = 71\\nvalue = [0, 1, 2, 10, 16, 11, 2, 29]\\nclass = paperback'),\n",
       " Text(0.4881516587677725, 0.3125, 'n_reviews <= 0.001\\ngini = 0.531\\nsamples = 425\\nvalue = [0, 0, 0, 31, 96, 23, 3, 272]\\nclass = paperback'),\n",
       " Text(0.4786729857819905, 0.1875, 'n_pages <= 0.043\\ngini = 0.452\\nsamples = 192\\nvalue = [0, 0, 0, 8, 30, 14, 2, 138]\\nclass = paperback'),\n",
       " Text(0.47393364928909953, 0.0625, 'gini = 0.438\\nsamples = 189\\nvalue = [0, 0, 0, 8, 28, 13, 2, 138]\\nclass = paperback'),\n",
       " Text(0.4834123222748815, 0.0625, 'gini = 0.444\\nsamples = 3\\nvalue = [0, 0, 0, 0, 2, 1, 0, 0]\\nclass = hardcover'),\n",
       " Text(0.4976303317535545, 0.1875, 'n_ratings <= 0.0\\ngini = 0.578\\nsamples = 233\\nvalue = [0, 0, 0, 23, 66, 9, 1, 134]\\nclass = paperback'),\n",
       " Text(0.4928909952606635, 0.0625, 'gini = 0.32\\nsamples = 10\\nvalue = [0, 0, 0, 0, 8, 0, 0, 2]\\nclass = hardcover'),\n",
       " Text(0.5023696682464455, 0.0625, 'gini = 0.57\\nsamples = 223\\nvalue = [0.0, 0.0, 0.0, 23.0, 58.0, 9.0, 1.0, 132.0]\\nclass = paperback'),\n",
       " Text(0.5284360189573459, 0.4375, 'n_pages <= 0.003\\ngini = 0.615\\nsamples = 72\\nvalue = [0, 2, 2, 1, 36, 4, 1, 26]\\nclass = hardcover'),\n",
       " Text(0.5118483412322274, 0.3125, 'n_ratings <= 0.004\\ngini = 0.5\\nsamples = 4\\nvalue = [0, 2, 2, 0, 0, 0, 0, 0]\\nclass = audiobook'),\n",
       " Text(0.5071090047393365, 0.1875, 'gini = 0.0\\nsamples = 1\\nvalue = [0, 0, 1, 0, 0, 0, 0, 0]\\nclass = cd'),\n",
       " Text(0.5165876777251185, 0.1875, 'n_ratings <= 0.06\\ngini = 0.444\\nsamples = 3\\nvalue = [0, 2, 1, 0, 0, 0, 0, 0]\\nclass = audiobook'),\n",
       " Text(0.5118483412322274, 0.0625, 'gini = 0.0\\nsamples = 2\\nvalue = [0, 2, 0, 0, 0, 0, 0, 0]\\nclass = audiobook'),\n",
       " Text(0.5213270142180095, 0.0625, 'gini = 0.0\\nsamples = 1\\nvalue = [0, 0, 1, 0, 0, 0, 0, 0]\\nclass = cd'),\n",
       " Text(0.5450236966824644, 0.3125, 'n_pages <= 0.021\\ngini = 0.57\\nsamples = 68\\nvalue = [0, 0, 0, 1, 36, 4, 1, 26]\\nclass = hardcover'),\n",
       " Text(0.5355450236966824, 0.1875, 'average_rating <= 0.567\\ngini = 0.604\\nsamples = 39\\nvalue = [0, 0, 0, 0, 15, 4, 1, 19]\\nclass = paperback'),\n",
       " Text(0.5308056872037915, 0.0625, 'gini = 0.591\\nsamples = 22\\nvalue = [0, 0, 0, 0, 12, 2, 1, 7]\\nclass = hardcover'),\n",
       " Text(0.5402843601895735, 0.0625, 'gini = 0.457\\nsamples = 17\\nvalue = [0, 0, 0, 0, 3, 2, 0, 12]\\nclass = paperback'),\n",
       " Text(0.5545023696682464, 0.1875, 'price <= 0.002\\ngini = 0.416\\nsamples = 29\\nvalue = [0, 0, 0, 1, 21, 0, 0, 7]\\nclass = hardcover'),\n",
       " Text(0.5497630331753555, 0.0625, 'gini = 0.0\\nsamples = 11\\nvalue = [0, 0, 0, 0, 11, 0, 0, 0]\\nclass = hardcover'),\n",
       " Text(0.5592417061611374, 0.0625, 'gini = 0.537\\nsamples = 18\\nvalue = [0, 0, 0, 1, 10, 0, 0, 7]\\nclass = hardcover'),\n",
       " Text(0.6398104265402843, 0.5625, 'publication_year <= 0.965\\ngini = 0.69\\nsamples = 4934\\nvalue = [3.0, 4.0, 5.0, 651.0, 504.0, 2100.0, 104.0, 1563.0]\\nclass = kindle'),\n",
       " Text(0.6018957345971564, 0.4375, 'n_reviews <= 0.001\\ngini = 0.705\\nsamples = 3925\\nvalue = [1.0, 2.0, 5.0, 593.0, 387.0, 1471.0, 99.0, 1367.0]\\nclass = kindle'),\n",
       " Text(0.5829383886255924, 0.3125, 'n_pages <= 0.007\\ngini = 0.648\\nsamples = 1893\\nvalue = [0.0, 0.0, 1.0, 242.0, 71.0, 774.0, 33.0, 772.0]\\nclass = kindle'),\n",
       " Text(0.5734597156398105, 0.1875, 'price <= 0.025\\ngini = 0.577\\nsamples = 155\\nvalue = [0.0, 0.0, 1.0, 38.0, 0.0, 91.0, 5.0, 20.0]\\nclass = kindle'),\n",
       " Text(0.5687203791469194, 0.0625, 'gini = 0.56\\nsamples = 150\\nvalue = [0, 0, 1, 36, 0, 91, 5, 17]\\nclass = kindle'),\n",
       " Text(0.5781990521327014, 0.0625, 'gini = 0.48\\nsamples = 5\\nvalue = [0, 0, 0, 2, 0, 0, 0, 3]\\nclass = paperback'),\n",
       " Text(0.5924170616113744, 0.1875, 'publication_year <= 0.949\\ngini = 0.643\\nsamples = 1738\\nvalue = [0.0, 0.0, 0.0, 204.0, 71.0, 683.0, 28.0, 752.0]\\nclass = paperback'),\n",
       " Text(0.5876777251184834, 0.0625, 'gini = 0.639\\nsamples = 1210\\nvalue = [0, 0, 0, 147, 47, 423, 22, 571]\\nclass = paperback'),\n",
       " Text(0.5971563981042654, 0.0625, 'gini = 0.626\\nsamples = 528\\nvalue = [0, 0, 0, 57, 24, 260, 6, 181]\\nclass = kindle'),\n",
       " Text(0.6208530805687204, 0.3125, 'n_pages <= 0.017\\ngini = 0.742\\nsamples = 2032\\nvalue = [1, 2, 4, 351, 316, 697, 66, 595]\\nclass = kindle'),\n",
       " Text(0.6113744075829384, 0.1875, 'price <= 0.031\\ngini = 0.733\\nsamples = 588\\nvalue = [1.0, 1.0, 4.0, 149.0, 48.0, 221.0, 29.0, 135.0]\\nclass = kindle'),\n",
       " Text(0.6066350710900474, 0.0625, 'gini = 0.731\\nsamples = 577\\nvalue = [1, 1, 4, 148, 48, 221, 29, 125]\\nclass = kindle'),\n",
       " Text(0.6161137440758294, 0.0625, 'gini = 0.165\\nsamples = 11\\nvalue = [0, 0, 0, 1, 0, 0, 0, 10]\\nclass = paperback'),\n",
       " Text(0.6303317535545023, 0.1875, 'average_rating <= 0.555\\ngini = 0.735\\nsamples = 1444\\nvalue = [0, 1, 0, 202, 268, 476, 37, 460]\\nclass = kindle'),\n",
       " Text(0.6255924170616114, 0.0625, 'gini = 0.715\\nsamples = 396\\nvalue = [0, 0, 0, 37, 128, 89, 4, 138]\\nclass = paperback'),\n",
       " Text(0.6350710900473934, 0.0625, 'gini = 0.726\\nsamples = 1048\\nvalue = [0, 1, 0, 165, 140, 387, 33, 322]\\nclass = kindle'),\n",
       " Text(0.6777251184834123, 0.4375, 'n_reviews <= 0.01\\ngini = 0.557\\nsamples = 1009\\nvalue = [2, 2, 0, 58, 117, 629, 5, 196]\\nclass = kindle'),\n",
       " Text(0.6587677725118484, 0.3125, 'price <= 0.002\\ngini = 0.501\\nsamples = 856\\nvalue = [1.0, 0.0, 0.0, 50.0, 61.0, 577.0, 5.0, 162.0]\\nclass = kindle'),\n",
       " Text(0.6492890995260664, 0.1875, 'publication_year <= 0.97\\ngini = 0.421\\nsamples = 626\\nvalue = [1, 0, 0, 31, 32, 465, 3, 94]\\nclass = kindle'),\n",
       " Text(0.6445497630331753, 0.0625, 'gini = 0.577\\nsamples = 133\\nvalue = [0, 0, 0, 10, 8, 78, 2, 35]\\nclass = kindle'),\n",
       " Text(0.6540284360189573, 0.0625, 'gini = 0.365\\nsamples = 493\\nvalue = [1, 0, 0, 21, 24, 387, 1, 59]\\nclass = kindle'),\n",
       " Text(0.6682464454976303, 0.1875, 'price <= 0.03\\ngini = 0.653\\nsamples = 230\\nvalue = [0, 0, 0, 19, 29, 112, 2, 68]\\nclass = kindle'),\n",
       " Text(0.6635071090047393, 0.0625, 'gini = 0.649\\nsamples = 218\\nvalue = [0, 0, 0, 19, 29, 110, 2, 58]\\nclass = kindle'),\n",
       " Text(0.6729857819905213, 0.0625, 'gini = 0.278\\nsamples = 12\\nvalue = [0, 0, 0, 0, 0, 2, 0, 10]\\nclass = paperback'),\n",
       " Text(0.6966824644549763, 0.3125, 'average_rating <= 0.551\\ngini = 0.698\\nsamples = 153\\nvalue = [1.0, 2.0, 0.0, 8.0, 56.0, 52.0, 0.0, 34.0]\\nclass = hardcover'),\n",
       " Text(0.6872037914691943, 0.1875, 'n_pages <= 0.022\\ngini = 0.611\\nsamples = 35\\nvalue = [1, 0, 0, 2, 20, 6, 0, 6]\\nclass = hardcover'),\n",
       " Text(0.6824644549763034, 0.0625, 'gini = 0.292\\nsamples = 12\\nvalue = [1, 0, 0, 1, 10, 0, 0, 0]\\nclass = hardcover'),\n",
       " Text(0.6919431279620853, 0.0625, 'gini = 0.673\\nsamples = 23\\nvalue = [0, 0, 0, 1, 10, 6, 0, 6]\\nclass = hardcover'),\n",
       " Text(0.7061611374407583, 0.1875, 'n_pages <= 0.025\\ngini = 0.696\\nsamples = 118\\nvalue = [0, 2, 0, 6, 36, 46, 0, 28]\\nclass = kindle'),\n",
       " Text(0.7014218009478673, 0.0625, 'gini = 0.719\\nsamples = 73\\nvalue = [0, 2, 0, 5, 25, 19, 0, 22]\\nclass = hardcover'),\n",
       " Text(0.7109004739336493, 0.0625, 'gini = 0.562\\nsamples = 45\\nvalue = [0, 0, 0, 1, 11, 27, 0, 6]\\nclass = kindle'),\n",
       " Text(0.8595971563981043, 0.6875, 'n_reviews <= 0.003\\ngini = 0.617\\nsamples = 6151\\nvalue = [5.0, 24.0, 35.0, 212.0, 3037.0, 557.0, 63.0, 2218.0]\\nclass = hardcover'),\n",
       " Text(0.7914691943127962, 0.5625, 'price <= 0.058\\ngini = 0.618\\nsamples = 3215\\nvalue = [1.0, 6.0, 8.0, 112.0, 1360.0, 274.0, 36.0, 1418.0]\\nclass = paperback'),\n",
       " Text(0.7535545023696683, 0.4375, 'publication_year <= 0.932\\ngini = 0.623\\nsamples = 1899\\nvalue = [1.0, 2.0, 3.0, 89.0, 621.0, 187.0, 31.0, 965.0]\\nclass = paperback'),\n",
       " Text(0.7345971563981043, 0.3125, 'n_ratings <= 0.001\\ngini = 0.539\\nsamples = 617\\nvalue = [0.0, 1.0, 2.0, 9.0, 241.0, 13.0, 9.0, 342.0]\\nclass = paperback'),\n",
       " Text(0.7251184834123223, 0.1875, 'n_ratings <= 0.0\\ngini = 0.547\\nsamples = 519\\nvalue = [0.0, 1.0, 1.0, 9.0, 220.0, 10.0, 7.0, 271.0]\\nclass = paperback'),\n",
       " Text(0.7203791469194313, 0.0625, 'gini = 0.404\\nsamples = 40\\nvalue = [0, 0, 0, 1, 7, 2, 0, 30]\\nclass = paperback'),\n",
       " Text(0.7298578199052133, 0.0625, 'gini = 0.548\\nsamples = 479\\nvalue = [0.0, 1.0, 1.0, 8.0, 213.0, 8.0, 7.0, 241.0]\\nclass = paperback'),\n",
       " Text(0.7440758293838863, 0.1875, 'n_reviews <= 0.002\\ngini = 0.428\\nsamples = 98\\nvalue = [0.0, 0.0, 1.0, 0.0, 21.0, 3.0, 2.0, 71.0]\\nclass = paperback'),\n",
       " Text(0.7393364928909952, 0.0625, 'gini = 0.0\\nsamples = 16\\nvalue = [0, 0, 0, 0, 0, 0, 0, 16]\\nclass = paperback'),\n",
       " Text(0.7488151658767772, 0.0625, 'gini = 0.482\\nsamples = 82\\nvalue = [0, 0, 1, 0, 21, 3, 2, 55]\\nclass = paperback'),\n",
       " Text(0.7725118483412322, 0.3125, 'n_pages <= 0.012\\ngini = 0.653\\nsamples = 1282\\nvalue = [1.0, 1.0, 1.0, 80.0, 380.0, 174.0, 22.0, 623.0]\\nclass = paperback'),\n",
       " Text(0.7630331753554502, 0.1875, 'n_pages <= 0.007\\ngini = 0.519\\nsamples = 229\\nvalue = [1, 1, 1, 5, 49, 15, 7, 150]\\nclass = paperback'),\n",
       " Text(0.7582938388625592, 0.0625, 'gini = 0.721\\nsamples = 45\\nvalue = [1.0, 1.0, 1.0, 2.0, 18.0, 8.0, 1.0, 13.0]\\nclass = hardcover'),\n",
       " Text(0.7677725118483413, 0.0625, 'gini = 0.414\\nsamples = 184\\nvalue = [0, 0, 0, 3, 31, 7, 6, 137]\\nclass = paperback'),\n",
       " Text(0.7819905213270142, 0.1875, 'average_rating <= 0.542\\ngini = 0.671\\nsamples = 1053\\nvalue = [0, 0, 0, 75, 331, 159, 15, 473]\\nclass = paperback'),\n",
       " Text(0.7772511848341233, 0.0625, 'gini = 0.674\\nsamples = 368\\nvalue = [0.0, 0.0, 0.0, 31.0, 158.0, 46.0, 6.0, 127.0]\\nclass = hardcover'),\n",
       " Text(0.7867298578199052, 0.0625, 'gini = 0.65\\nsamples = 685\\nvalue = [0.0, 0.0, 0.0, 44.0, 173.0, 113.0, 9.0, 346.0]\\nclass = paperback'),\n",
       " Text(0.8293838862559242, 0.4375, 'n_reviews <= 0.0\\ngini = 0.561\\nsamples = 1316\\nvalue = [0, 4, 5, 23, 739, 87, 5, 453]\\nclass = hardcover'),\n",
       " Text(0.8104265402843602, 0.3125, 'n_reviews <= 0.0\\ngini = 0.571\\nsamples = 477\\nvalue = [0, 0, 1, 4, 229, 33, 0, 210]\\nclass = hardcover'),\n",
       " Text(0.8009478672985783, 0.1875, 'average_rating <= 0.625\\ngini = 0.117\\nsamples = 16\\nvalue = [0, 0, 0, 0, 1, 0, 0, 15]\\nclass = paperback'),\n",
       " Text(0.7962085308056872, 0.0625, 'gini = 0.0\\nsamples = 12\\nvalue = [0, 0, 0, 0, 0, 0, 0, 12]\\nclass = paperback'),\n",
       " Text(0.8056872037914692, 0.0625, 'gini = 0.375\\nsamples = 4\\nvalue = [0, 0, 0, 0, 1, 0, 0, 3]\\nclass = paperback'),\n",
       " Text(0.8199052132701422, 0.1875, 'n_pages <= 0.01\\ngini = 0.571\\nsamples = 461\\nvalue = [0, 0, 1, 4, 228, 33, 0, 195]\\nclass = hardcover'),\n",
       " Text(0.8151658767772512, 0.0625, 'gini = 0.415\\nsamples = 34\\nvalue = [0, 0, 1, 1, 7, 0, 0, 25]\\nclass = paperback'),\n",
       " Text(0.8246445497630331, 0.0625, 'gini = 0.568\\nsamples = 427\\nvalue = [0, 0, 0, 3, 221, 33, 0, 170]\\nclass = hardcover'),\n",
       " Text(0.8483412322274881, 0.3125, 'n_pages <= 0.002\\ngini = 0.542\\nsamples = 839\\nvalue = [0.0, 4.0, 4.0, 19.0, 510.0, 54.0, 5.0, 243.0]\\nclass = hardcover'),\n",
       " Text(0.8388625592417062, 0.1875, 'publication_year <= 0.938\\ngini = 0.49\\nsamples = 7\\nvalue = [0, 3, 4, 0, 0, 0, 0, 0]\\nclass = cd'),\n",
       " Text(0.8341232227488151, 0.0625, 'gini = 0.0\\nsamples = 3\\nvalue = [0, 0, 3, 0, 0, 0, 0, 0]\\nclass = cd'),\n",
       " Text(0.8436018957345972, 0.0625, 'gini = 0.375\\nsamples = 4\\nvalue = [0, 3, 1, 0, 0, 0, 0, 0]\\nclass = audiobook'),\n",
       " Text(0.8578199052132701, 0.1875, 'n_ratings <= 0.0\\ngini = 0.534\\nsamples = 832\\nvalue = [0.0, 1.0, 0.0, 19.0, 510.0, 54.0, 5.0, 243.0]\\nclass = hardcover'),\n",
       " Text(0.8530805687203792, 0.0625, 'gini = 0.47\\nsamples = 440\\nvalue = [0.0, 1.0, 0.0, 7.0, 300.0, 22.0, 0.0, 110.0]\\nclass = hardcover'),\n",
       " Text(0.8625592417061612, 0.0625, 'gini = 0.59\\nsamples = 392\\nvalue = [0.0, 0.0, 0.0, 12.0, 210.0, 32.0, 5.0, 133.0]\\nclass = hardcover'),\n",
       " Text(0.9277251184834123, 0.5625, 'n_pages <= 0.001\\ngini = 0.589\\nsamples = 2936\\nvalue = [4.0, 18.0, 27.0, 100.0, 1677.0, 283.0, 27.0, 800.0]\\nclass = hardcover'),\n",
       " Text(0.8933649289099526, 0.4375, 'publication_year <= 0.938\\ngini = 0.563\\nsamples = 41\\nvalue = [3.0, 14.0, 23.0, 0.0, 0.0, 0.0, 1.0, 0.0]\\nclass = cd'),\n",
       " Text(0.8815165876777251, 0.3125, 'n_pages <= 0.001\\ngini = 0.304\\nsamples = 17\\nvalue = [0, 2, 14, 0, 0, 0, 1, 0]\\nclass = cd'),\n",
       " Text(0.8767772511848341, 0.1875, 'n_ratings <= 0.001\\ngini = 0.219\\nsamples = 16\\nvalue = [0, 2, 14, 0, 0, 0, 0, 0]\\nclass = cd'),\n",
       " Text(0.8720379146919431, 0.0625, 'gini = 0.0\\nsamples = 1\\nvalue = [0, 1, 0, 0, 0, 0, 0, 0]\\nclass = audiobook'),\n",
       " Text(0.8815165876777251, 0.0625, 'gini = 0.124\\nsamples = 15\\nvalue = [0, 1, 14, 0, 0, 0, 0, 0]\\nclass = cd'),\n",
       " Text(0.8862559241706162, 0.1875, 'gini = 0.0\\nsamples = 1\\nvalue = [0, 0, 0, 0, 0, 0, 1, 0]\\nclass = other'),\n",
       " Text(0.9052132701421801, 0.3125, 'n_reviews <= 0.01\\ngini = 0.594\\nsamples = 24\\nvalue = [3, 12, 9, 0, 0, 0, 0, 0]\\nclass = audiobook'),\n",
       " Text(0.8957345971563981, 0.1875, 'n_pages <= 0.0\\ngini = 0.375\\nsamples = 12\\nvalue = [0, 9, 3, 0, 0, 0, 0, 0]\\nclass = audiobook'),\n",
       " Text(0.8909952606635071, 0.0625, 'gini = 0.0\\nsamples = 1\\nvalue = [0, 0, 1, 0, 0, 0, 0, 0]\\nclass = cd'),\n",
       " Text(0.9004739336492891, 0.0625, 'gini = 0.298\\nsamples = 11\\nvalue = [0, 9, 2, 0, 0, 0, 0, 0]\\nclass = audiobook'),\n",
       " Text(0.9146919431279621, 0.1875, 'average_rating <= 0.519\\ngini = 0.625\\nsamples = 12\\nvalue = [3, 3, 6, 0, 0, 0, 0, 0]\\nclass = cd'),\n",
       " Text(0.909952606635071, 0.0625, 'gini = 0.0\\nsamples = 2\\nvalue = [0, 2, 0, 0, 0, 0, 0, 0]\\nclass = audiobook'),\n",
       " Text(0.919431279620853, 0.0625, 'gini = 0.54\\nsamples = 10\\nvalue = [3, 1, 6, 0, 0, 0, 0, 0]\\nclass = cd'),\n",
       " Text(0.9620853080568721, 0.4375, 'average_rating <= 0.566\\ngini = 0.577\\nsamples = 2895\\nvalue = [1, 4, 4, 100, 1677, 283, 26, 800]\\nclass = hardcover'),\n",
       " Text(0.943127962085308, 0.3125, 'n_pages <= 0.014\\ngini = 0.487\\nsamples = 967\\nvalue = [0, 0, 1, 29, 657, 66, 6, 208]\\nclass = hardcover'),\n",
       " Text(0.933649289099526, 0.1875, 'publication_year <= 0.959\\ngini = 0.59\\nsamples = 70\\nvalue = [0, 0, 0, 4, 30, 2, 1, 33]\\nclass = paperback'),\n",
       " Text(0.9289099526066351, 0.0625, 'gini = 0.603\\nsamples = 58\\nvalue = [0, 0, 0, 4, 28, 2, 1, 23]\\nclass = hardcover'),\n",
       " Text(0.9383886255924171, 0.0625, 'gini = 0.278\\nsamples = 12\\nvalue = [0, 0, 0, 0, 2, 0, 0, 10]\\nclass = paperback'),\n",
       " Text(0.95260663507109, 0.1875, 'publication_year <= 0.949\\ngini = 0.467\\nsamples = 897\\nvalue = [0, 0, 1, 25, 627, 64, 5, 175]\\nclass = hardcover'),\n",
       " Text(0.9478672985781991, 0.0625, 'gini = 0.45\\nsamples = 510\\nvalue = [0, 0, 0, 12, 359, 19, 3, 117]\\nclass = hardcover'),\n",
       " Text(0.957345971563981, 0.0625, 'gini = 0.483\\nsamples = 387\\nvalue = [0, 0, 1, 13, 268, 45, 2, 58]\\nclass = hardcover'),\n",
       " Text(0.981042654028436, 0.3125, 'publication_year <= 0.949\\ngini = 0.612\\nsamples = 1928\\nvalue = [1, 4, 3, 71, 1020, 217, 20, 592]\\nclass = hardcover'),\n",
       " Text(0.9715639810426541, 0.1875, 'price <= 0.042\\ngini = 0.597\\nsamples = 1088\\nvalue = [0, 2, 2, 31, 543, 76, 16, 418]\\nclass = hardcover'),\n",
       " Text(0.966824644549763, 0.0625, 'gini = 0.595\\nsamples = 244\\nvalue = [0, 0, 0, 8, 82, 20, 4, 130]\\nclass = paperback'),\n",
       " Text(0.976303317535545, 0.0625, 'gini = 0.58\\nsamples = 844\\nvalue = [0.0, 2.0, 2.0, 23.0, 461.0, 56.0, 12.0, 288.0]\\nclass = hardcover'),\n",
       " Text(0.990521327014218, 0.1875, 'n_pages <= 0.013\\ngini = 0.604\\nsamples = 840\\nvalue = [1, 2, 1, 40, 477, 141, 4, 174]\\nclass = hardcover'),\n",
       " Text(0.985781990521327, 0.0625, 'gini = 0.662\\nsamples = 74\\nvalue = [0, 0, 0, 4, 27, 12, 0, 31]\\nclass = paperback'),\n",
       " Text(0.995260663507109, 0.0625, 'gini = 0.589\\nsamples = 766\\nvalue = [1.0, 2.0, 1.0, 36.0, 450.0, 129.0, 4.0, 143.0]\\nclass = hardcover')]"
      ]
     },
     "execution_count": 37,
     "metadata": {},
     "output_type": "execute_result"
    },
    {
     "data": {
      "image/png": "[encoded data removed]",
      "text/plain": [
       "<Figure size 640x480 with 1 Axes>"
      ]
     },
     "metadata": {},
     "output_type": "display_data"
    }
   ],
   "source": [
    "plot_tree(gridsearch.best_estimator_, feature_names=features, class_names=lb.classes_, filled=True)"
   ]
  },
  {
   "cell_type": "markdown",
   "metadata": {},
   "source": [
    "### Random Forest"
   ]
  },
  {
   "cell_type": "code",
   "execution_count": 38,
   "metadata": {},
   "outputs": [
    {
     "name": "stdout",
     "output_type": "stream",
     "text": [
      "Best parameters:  {'max_depth': None, 'n_estimators': 500}\n",
      "Best score:  0.6321353048754864\n"
     ]
    },
    {
     "name": "stderr",
     "output_type": "stream",
     "text": [
      "C:\\Users\\Ethan\\AppData\\Local\\Packages\\PythonSoftwareFoundation.Python.3.11_qbz5n2kfra8p0\\LocalCache\\local-packages\\Python311\\site-packages\\sklearn\\model_selection\\_split.py:737: UserWarning: The least populated class in y has only 8 members, which is less than n_splits=10.\n",
      "  warnings.warn(\n"
     ]
    }
   ],
   "source": [
    "params = {\n",
    "    \"n_estimators\": [100, 250, 500],\n",
    "    \"max_depth\": [50, 100, None]\n",
    "}\n",
    "\n",
    "gridsearch = GridSearchCV(RandomForestClassifier(), params, cv=5)\n",
    "gridsearch = gridsearch.fit(X_format, y_format)\n",
    "\n",
    "print(\"Best parameters: \", gridsearch.best_params_)\n",
    "print(\"Best score: \", gridsearch.best_score_)\n",
    "\n",
    "scores[\"RandomForest\"] = cross_val_score(gridsearch.best_estimator_, X_format, y_format, cv=10)"
   ]
  },
  {
   "cell_type": "markdown",
   "metadata": {},
   "source": [
    "### Support Vector Classifier"
   ]
  },
  {
   "cell_type": "code",
   "execution_count": 39,
   "metadata": {},
   "outputs": [
    {
     "name": "stdout",
     "output_type": "stream",
     "text": [
      "Best parameters:  {'C': 100, 'degree': 2, 'kernel': 'rbf'}\n",
      "Best score:  0.5863023565127373\n"
     ]
    },
    {
     "name": "stderr",
     "output_type": "stream",
     "text": [
      "C:\\Users\\Ethan\\AppData\\Local\\Packages\\PythonSoftwareFoundation.Python.3.11_qbz5n2kfra8p0\\LocalCache\\local-packages\\Python311\\site-packages\\sklearn\\model_selection\\_split.py:737: UserWarning: The least populated class in y has only 8 members, which is less than n_splits=10.\n",
      "  warnings.warn(\n"
     ]
    }
   ],
   "source": [
    "params = {\n",
    "    \"C\": [1, 10, 100],\n",
    "    \"kernel\": [\"rbf\", \"sigmoid\"],\n",
    "    \"degree\": range(2, 5),\n",
    "}\n",
    "\n",
    "gridsearch = GridSearchCV(SVC(), params, cv=5)\n",
    "gridsearch = gridsearch.fit(X_format, y_format)\n",
    "\n",
    "print(\"Best parameters: \", gridsearch.best_params_)\n",
    "print(\"Best score: \", gridsearch.best_score_)\n",
    "\n",
    "scores[\"SVC\"] = cross_val_score(gridsearch.best_estimator_, X_format, y_format, cv=10)"
   ]
  },
  {
   "cell_type": "markdown",
   "metadata": {},
   "source": [
    "### Models Comparison"
   ]
  },
  {
   "cell_type": "code",
   "execution_count": 40,
   "metadata": {},
   "outputs": [
    {
     "name": "stdout",
     "output_type": "stream",
     "text": [
      "Comparing KNN and LogisticRegression\n",
      "\tAccuracy: p = 0.00000\n",
      "Comparing KNN and DecisionTree\n",
      "\tAccuracy: p = 0.00310\n",
      "Comparing KNN and RandomForest\n",
      "\tAccuracy: p = 0.00000\n",
      "Comparing KNN and SVC\n",
      "\tAccuracy: p = 0.00003\n",
      "Comparing LogisticRegression and DecisionTree\n",
      "\tAccuracy: p = 0.00000\n",
      "Comparing LogisticRegression and RandomForest\n",
      "\tAccuracy: p = 0.00000\n",
      "Comparing LogisticRegression and SVC\n",
      "\tAccuracy: p = 0.00323\n",
      "Comparing DecisionTree and RandomForest\n",
      "\tAccuracy: p = 0.00105\n",
      "Comparing DecisionTree and SVC\n",
      "\tAccuracy: p = 0.00000\n",
      "Comparing RandomForest and SVC\n",
      "\tAccuracy: p = 0.00000\n"
     ]
    }
   ],
   "source": [
    "algorithms = list(scores.keys())\n",
    "\n",
    "for algo1, algo2 in combinations(algorithms, 2):\n",
    "    print(f\"Comparing {algo1} and {algo2}\")\n",
    "    t, p = ttest_ind(scores[algo1], scores[algo2])\n",
    "    print(f\"\\tAccuracy: p = {p:.5f}\")"
   ]
  },
  {
   "cell_type": "markdown",
   "metadata": {},
   "source": [
    "## Genres Classification"
   ]
  },
  {
   "cell_type": "code",
   "execution_count": 41,
   "metadata": {},
   "outputs": [
    {
     "name": "stdout",
     "output_type": "stream",
     "text": [
      "Number of features:  6\n"
     ]
    }
   ],
   "source": [
    "features = [\"price\", \"n_ratings\", \"n_reviews\", \"publication_year\", \"n_pages\", \"average_rating\"]\n",
    "print(\"Number of features: \", len(features))"
   ]
  },
  {
   "cell_type": "code",
   "execution_count": 42,
   "metadata": {},
   "outputs": [
    {
     "name": "stdout",
     "output_type": "stream",
     "text": [
      "Number of classes:  1076\n"
     ]
    }
   ],
   "source": [
    "df_genres = df[features + [\"genres\"]].dropna()\n",
    "\n",
    "X_genres = df_genres[features].values\n",
    "X_genres = MinMaxScaler().fit_transform(X_genres)\n",
    "\n",
    "mlb = MultiLabelBinarizer()\n",
    "y_genres = mlb.fit_transform(df_genres[\"genres\"].values)\n",
    "\n",
    "print(\"Number of classes: \", len(mlb.classes_))"
   ]
  },
  {
   "cell_type": "code",
   "execution_count": 43,
   "metadata": {},
   "outputs": [],
   "source": [
    "scores = {}"
   ]
  },
  {
   "cell_type": "markdown",
   "metadata": {},
   "source": [
    "### K Nearest Neighbors"
   ]
  },
  {
   "cell_type": "code",
   "execution_count": 45,
   "metadata": {},
   "outputs": [
    {
     "ename": "KeyboardInterrupt",
     "evalue": "",
     "output_type": "error",
     "traceback": [
      "\u001b[1;31m---------------------------------------------------------------------------\u001b[0m",
      "\u001b[1;31mKeyboardInterrupt\u001b[0m                         Traceback (most recent call last)",
      "Cell \u001b[1;32mIn[45], line 8\u001b[0m\n\u001b[0;32m      1\u001b[0m params \u001b[38;5;241m=\u001b[39m {\n\u001b[0;32m      2\u001b[0m     \u001b[38;5;124m\"\u001b[39m\u001b[38;5;124mn_neighbors\u001b[39m\u001b[38;5;124m\"\u001b[39m: \u001b[38;5;28mrange\u001b[39m(\u001b[38;5;241m15\u001b[39m, \u001b[38;5;241m21\u001b[39m, \u001b[38;5;241m2\u001b[39m),\n\u001b[0;32m      3\u001b[0m     \u001b[38;5;124m\"\u001b[39m\u001b[38;5;124mweights\u001b[39m\u001b[38;5;124m\"\u001b[39m: [\u001b[38;5;124m\"\u001b[39m\u001b[38;5;124muniform\u001b[39m\u001b[38;5;124m\"\u001b[39m, \u001b[38;5;124m\"\u001b[39m\u001b[38;5;124mdistance\u001b[39m\u001b[38;5;124m\"\u001b[39m],\n\u001b[0;32m      4\u001b[0m     \u001b[38;5;124m\"\u001b[39m\u001b[38;5;124mp\u001b[39m\u001b[38;5;124m\"\u001b[39m: [\u001b[38;5;241m1\u001b[39m, \u001b[38;5;241m2\u001b[39m]\n\u001b[0;32m      5\u001b[0m }\n\u001b[0;32m      7\u001b[0m gridsearch \u001b[38;5;241m=\u001b[39m GridSearchCV(KNeighborsClassifier(), params, cv\u001b[38;5;241m=\u001b[39m\u001b[38;5;241m5\u001b[39m)\n\u001b[1;32m----> 8\u001b[0m gridsearch \u001b[38;5;241m=\u001b[39m \u001b[43mgridsearch\u001b[49m\u001b[38;5;241;43m.\u001b[39;49m\u001b[43mfit\u001b[49m\u001b[43m(\u001b[49m\u001b[43mX_genres\u001b[49m\u001b[43m,\u001b[49m\u001b[43m \u001b[49m\u001b[43my_genres\u001b[49m\u001b[43m)\u001b[49m\n\u001b[0;32m     10\u001b[0m \u001b[38;5;28mprint\u001b[39m(\u001b[38;5;124m\"\u001b[39m\u001b[38;5;124mBest parameters: \u001b[39m\u001b[38;5;124m\"\u001b[39m, gridsearch\u001b[38;5;241m.\u001b[39mbest_params_)\n\u001b[0;32m     11\u001b[0m \u001b[38;5;28mprint\u001b[39m(\u001b[38;5;124m\"\u001b[39m\u001b[38;5;124mBest score: \u001b[39m\u001b[38;5;124m\"\u001b[39m, gridsearch\u001b[38;5;241m.\u001b[39mbest_score_)\n",
      "File \u001b[1;32m~\\AppData\\Local\\Packages\\PythonSoftwareFoundation.Python.3.11_qbz5n2kfra8p0\\LocalCache\\local-packages\\Python311\\site-packages\\sklearn\\base.py:1474\u001b[0m, in \u001b[0;36m_fit_context.<locals>.decorator.<locals>.wrapper\u001b[1;34m(estimator, *args, **kwargs)\u001b[0m\n\u001b[0;32m   1467\u001b[0m     estimator\u001b[38;5;241m.\u001b[39m_validate_params()\n\u001b[0;32m   1469\u001b[0m \u001b[38;5;28;01mwith\u001b[39;00m config_context(\n\u001b[0;32m   1470\u001b[0m     skip_parameter_validation\u001b[38;5;241m=\u001b[39m(\n\u001b[0;32m   1471\u001b[0m         prefer_skip_nested_validation \u001b[38;5;129;01mor\u001b[39;00m global_skip_validation\n\u001b[0;32m   1472\u001b[0m     )\n\u001b[0;32m   1473\u001b[0m ):\n\u001b[1;32m-> 1474\u001b[0m     \u001b[38;5;28;01mreturn\u001b[39;00m \u001b[43mfit_method\u001b[49m\u001b[43m(\u001b[49m\u001b[43mestimator\u001b[49m\u001b[43m,\u001b[49m\u001b[43m \u001b[49m\u001b[38;5;241;43m*\u001b[39;49m\u001b[43margs\u001b[49m\u001b[43m,\u001b[49m\u001b[43m \u001b[49m\u001b[38;5;241;43m*\u001b[39;49m\u001b[38;5;241;43m*\u001b[39;49m\u001b[43mkwargs\u001b[49m\u001b[43m)\u001b[49m\n",
      "File \u001b[1;32m~\\AppData\\Local\\Packages\\PythonSoftwareFoundation.Python.3.11_qbz5n2kfra8p0\\LocalCache\\local-packages\\Python311\\site-packages\\sklearn\\model_selection\\_search.py:970\u001b[0m, in \u001b[0;36mBaseSearchCV.fit\u001b[1;34m(self, X, y, **params)\u001b[0m\n\u001b[0;32m    964\u001b[0m     results \u001b[38;5;241m=\u001b[39m \u001b[38;5;28mself\u001b[39m\u001b[38;5;241m.\u001b[39m_format_results(\n\u001b[0;32m    965\u001b[0m         all_candidate_params, n_splits, all_out, all_more_results\n\u001b[0;32m    966\u001b[0m     )\n\u001b[0;32m    968\u001b[0m     \u001b[38;5;28;01mreturn\u001b[39;00m results\n\u001b[1;32m--> 970\u001b[0m \u001b[38;5;28;43mself\u001b[39;49m\u001b[38;5;241;43m.\u001b[39;49m\u001b[43m_run_search\u001b[49m\u001b[43m(\u001b[49m\u001b[43mevaluate_candidates\u001b[49m\u001b[43m)\u001b[49m\n\u001b[0;32m    972\u001b[0m \u001b[38;5;66;03m# multimetric is determined here because in the case of a callable\u001b[39;00m\n\u001b[0;32m    973\u001b[0m \u001b[38;5;66;03m# self.scoring the return type is only known after calling\u001b[39;00m\n\u001b[0;32m    974\u001b[0m first_test_score \u001b[38;5;241m=\u001b[39m all_out[\u001b[38;5;241m0\u001b[39m][\u001b[38;5;124m\"\u001b[39m\u001b[38;5;124mtest_scores\u001b[39m\u001b[38;5;124m\"\u001b[39m]\n",
      "File \u001b[1;32m~\\AppData\\Local\\Packages\\PythonSoftwareFoundation.Python.3.11_qbz5n2kfra8p0\\LocalCache\\local-packages\\Python311\\site-packages\\sklearn\\model_selection\\_search.py:1527\u001b[0m, in \u001b[0;36mGridSearchCV._run_search\u001b[1;34m(self, evaluate_candidates)\u001b[0m\n\u001b[0;32m   1525\u001b[0m \u001b[38;5;28;01mdef\u001b[39;00m \u001b[38;5;21m_run_search\u001b[39m(\u001b[38;5;28mself\u001b[39m, evaluate_candidates):\n\u001b[0;32m   1526\u001b[0m \u001b[38;5;250m    \u001b[39m\u001b[38;5;124;03m\"\"\"Search all candidates in param_grid\"\"\"\u001b[39;00m\n\u001b[1;32m-> 1527\u001b[0m     \u001b[43mevaluate_candidates\u001b[49m\u001b[43m(\u001b[49m\u001b[43mParameterGrid\u001b[49m\u001b[43m(\u001b[49m\u001b[38;5;28;43mself\u001b[39;49m\u001b[38;5;241;43m.\u001b[39;49m\u001b[43mparam_grid\u001b[49m\u001b[43m)\u001b[49m\u001b[43m)\u001b[49m\n",
      "File \u001b[1;32m~\\AppData\\Local\\Packages\\PythonSoftwareFoundation.Python.3.11_qbz5n2kfra8p0\\LocalCache\\local-packages\\Python311\\site-packages\\sklearn\\model_selection\\_search.py:916\u001b[0m, in \u001b[0;36mBaseSearchCV.fit.<locals>.evaluate_candidates\u001b[1;34m(candidate_params, cv, more_results)\u001b[0m\n\u001b[0;32m    908\u001b[0m \u001b[38;5;28;01mif\u001b[39;00m \u001b[38;5;28mself\u001b[39m\u001b[38;5;241m.\u001b[39mverbose \u001b[38;5;241m>\u001b[39m \u001b[38;5;241m0\u001b[39m:\n\u001b[0;32m    909\u001b[0m     \u001b[38;5;28mprint\u001b[39m(\n\u001b[0;32m    910\u001b[0m         \u001b[38;5;124m\"\u001b[39m\u001b[38;5;124mFitting \u001b[39m\u001b[38;5;132;01m{0}\u001b[39;00m\u001b[38;5;124m folds for each of \u001b[39m\u001b[38;5;132;01m{1}\u001b[39;00m\u001b[38;5;124m candidates,\u001b[39m\u001b[38;5;124m\"\u001b[39m\n\u001b[0;32m    911\u001b[0m         \u001b[38;5;124m\"\u001b[39m\u001b[38;5;124m totalling \u001b[39m\u001b[38;5;132;01m{2}\u001b[39;00m\u001b[38;5;124m fits\u001b[39m\u001b[38;5;124m\"\u001b[39m\u001b[38;5;241m.\u001b[39mformat(\n\u001b[0;32m    912\u001b[0m             n_splits, n_candidates, n_candidates \u001b[38;5;241m*\u001b[39m n_splits\n\u001b[0;32m    913\u001b[0m         )\n\u001b[0;32m    914\u001b[0m     )\n\u001b[1;32m--> 916\u001b[0m out \u001b[38;5;241m=\u001b[39m \u001b[43mparallel\u001b[49m\u001b[43m(\u001b[49m\n\u001b[0;32m    917\u001b[0m \u001b[43m    \u001b[49m\u001b[43mdelayed\u001b[49m\u001b[43m(\u001b[49m\u001b[43m_fit_and_score\u001b[49m\u001b[43m)\u001b[49m\u001b[43m(\u001b[49m\n\u001b[0;32m    918\u001b[0m \u001b[43m        \u001b[49m\u001b[43mclone\u001b[49m\u001b[43m(\u001b[49m\u001b[43mbase_estimator\u001b[49m\u001b[43m)\u001b[49m\u001b[43m,\u001b[49m\n\u001b[0;32m    919\u001b[0m \u001b[43m        \u001b[49m\u001b[43mX\u001b[49m\u001b[43m,\u001b[49m\n\u001b[0;32m    920\u001b[0m \u001b[43m        \u001b[49m\u001b[43my\u001b[49m\u001b[43m,\u001b[49m\n\u001b[0;32m    921\u001b[0m \u001b[43m        \u001b[49m\u001b[43mtrain\u001b[49m\u001b[38;5;241;43m=\u001b[39;49m\u001b[43mtrain\u001b[49m\u001b[43m,\u001b[49m\n\u001b[0;32m    922\u001b[0m \u001b[43m        \u001b[49m\u001b[43mtest\u001b[49m\u001b[38;5;241;43m=\u001b[39;49m\u001b[43mtest\u001b[49m\u001b[43m,\u001b[49m\n\u001b[0;32m    923\u001b[0m \u001b[43m        \u001b[49m\u001b[43mparameters\u001b[49m\u001b[38;5;241;43m=\u001b[39;49m\u001b[43mparameters\u001b[49m\u001b[43m,\u001b[49m\n\u001b[0;32m    924\u001b[0m \u001b[43m        \u001b[49m\u001b[43msplit_progress\u001b[49m\u001b[38;5;241;43m=\u001b[39;49m\u001b[43m(\u001b[49m\u001b[43msplit_idx\u001b[49m\u001b[43m,\u001b[49m\u001b[43m \u001b[49m\u001b[43mn_splits\u001b[49m\u001b[43m)\u001b[49m\u001b[43m,\u001b[49m\n\u001b[0;32m    925\u001b[0m \u001b[43m        \u001b[49m\u001b[43mcandidate_progress\u001b[49m\u001b[38;5;241;43m=\u001b[39;49m\u001b[43m(\u001b[49m\u001b[43mcand_idx\u001b[49m\u001b[43m,\u001b[49m\u001b[43m \u001b[49m\u001b[43mn_candidates\u001b[49m\u001b[43m)\u001b[49m\u001b[43m,\u001b[49m\n\u001b[0;32m    926\u001b[0m \u001b[43m        \u001b[49m\u001b[38;5;241;43m*\u001b[39;49m\u001b[38;5;241;43m*\u001b[39;49m\u001b[43mfit_and_score_kwargs\u001b[49m\u001b[43m,\u001b[49m\n\u001b[0;32m    927\u001b[0m \u001b[43m    \u001b[49m\u001b[43m)\u001b[49m\n\u001b[0;32m    928\u001b[0m \u001b[43m    \u001b[49m\u001b[38;5;28;43;01mfor\u001b[39;49;00m\u001b[43m \u001b[49m\u001b[43m(\u001b[49m\u001b[43mcand_idx\u001b[49m\u001b[43m,\u001b[49m\u001b[43m \u001b[49m\u001b[43mparameters\u001b[49m\u001b[43m)\u001b[49m\u001b[43m,\u001b[49m\u001b[43m \u001b[49m\u001b[43m(\u001b[49m\u001b[43msplit_idx\u001b[49m\u001b[43m,\u001b[49m\u001b[43m \u001b[49m\u001b[43m(\u001b[49m\u001b[43mtrain\u001b[49m\u001b[43m,\u001b[49m\u001b[43m \u001b[49m\u001b[43mtest\u001b[49m\u001b[43m)\u001b[49m\u001b[43m)\u001b[49m\u001b[43m \u001b[49m\u001b[38;5;129;43;01min\u001b[39;49;00m\u001b[43m \u001b[49m\u001b[43mproduct\u001b[49m\u001b[43m(\u001b[49m\n\u001b[0;32m    929\u001b[0m \u001b[43m        \u001b[49m\u001b[38;5;28;43menumerate\u001b[39;49m\u001b[43m(\u001b[49m\u001b[43mcandidate_params\u001b[49m\u001b[43m)\u001b[49m\u001b[43m,\u001b[49m\n\u001b[0;32m    930\u001b[0m \u001b[43m        \u001b[49m\u001b[38;5;28;43menumerate\u001b[39;49m\u001b[43m(\u001b[49m\u001b[43mcv\u001b[49m\u001b[38;5;241;43m.\u001b[39;49m\u001b[43msplit\u001b[49m\u001b[43m(\u001b[49m\u001b[43mX\u001b[49m\u001b[43m,\u001b[49m\u001b[43m \u001b[49m\u001b[43my\u001b[49m\u001b[43m,\u001b[49m\u001b[43m \u001b[49m\u001b[38;5;241;43m*\u001b[39;49m\u001b[38;5;241;43m*\u001b[39;49m\u001b[43mrouted_params\u001b[49m\u001b[38;5;241;43m.\u001b[39;49m\u001b[43msplitter\u001b[49m\u001b[38;5;241;43m.\u001b[39;49m\u001b[43msplit\u001b[49m\u001b[43m)\u001b[49m\u001b[43m)\u001b[49m\u001b[43m,\u001b[49m\n\u001b[0;32m    931\u001b[0m \u001b[43m    \u001b[49m\u001b[43m)\u001b[49m\n\u001b[0;32m    932\u001b[0m \u001b[43m\u001b[49m\u001b[43m)\u001b[49m\n\u001b[0;32m    934\u001b[0m \u001b[38;5;28;01mif\u001b[39;00m \u001b[38;5;28mlen\u001b[39m(out) \u001b[38;5;241m<\u001b[39m \u001b[38;5;241m1\u001b[39m:\n\u001b[0;32m    935\u001b[0m     \u001b[38;5;28;01mraise\u001b[39;00m \u001b[38;5;167;01mValueError\u001b[39;00m(\n\u001b[0;32m    936\u001b[0m         \u001b[38;5;124m\"\u001b[39m\u001b[38;5;124mNo fits were performed. \u001b[39m\u001b[38;5;124m\"\u001b[39m\n\u001b[0;32m    937\u001b[0m         \u001b[38;5;124m\"\u001b[39m\u001b[38;5;124mWas the CV iterator empty? \u001b[39m\u001b[38;5;124m\"\u001b[39m\n\u001b[0;32m    938\u001b[0m         \u001b[38;5;124m\"\u001b[39m\u001b[38;5;124mWere there no candidates?\u001b[39m\u001b[38;5;124m\"\u001b[39m\n\u001b[0;32m    939\u001b[0m     )\n",
      "File \u001b[1;32m~\\AppData\\Local\\Packages\\PythonSoftwareFoundation.Python.3.11_qbz5n2kfra8p0\\LocalCache\\local-packages\\Python311\\site-packages\\sklearn\\utils\\parallel.py:67\u001b[0m, in \u001b[0;36mParallel.__call__\u001b[1;34m(self, iterable)\u001b[0m\n\u001b[0;32m     62\u001b[0m config \u001b[38;5;241m=\u001b[39m get_config()\n\u001b[0;32m     63\u001b[0m iterable_with_config \u001b[38;5;241m=\u001b[39m (\n\u001b[0;32m     64\u001b[0m     (_with_config(delayed_func, config), args, kwargs)\n\u001b[0;32m     65\u001b[0m     \u001b[38;5;28;01mfor\u001b[39;00m delayed_func, args, kwargs \u001b[38;5;129;01min\u001b[39;00m iterable\n\u001b[0;32m     66\u001b[0m )\n\u001b[1;32m---> 67\u001b[0m \u001b[38;5;28;01mreturn\u001b[39;00m \u001b[38;5;28;43msuper\u001b[39;49m\u001b[43m(\u001b[49m\u001b[43m)\u001b[49m\u001b[38;5;241;43m.\u001b[39;49m\u001b[38;5;21;43m__call__\u001b[39;49m\u001b[43m(\u001b[49m\u001b[43miterable_with_config\u001b[49m\u001b[43m)\u001b[49m\n",
      "File \u001b[1;32m~\\AppData\\Local\\Packages\\PythonSoftwareFoundation.Python.3.11_qbz5n2kfra8p0\\LocalCache\\local-packages\\Python311\\site-packages\\joblib\\parallel.py:1863\u001b[0m, in \u001b[0;36mParallel.__call__\u001b[1;34m(self, iterable)\u001b[0m\n\u001b[0;32m   1861\u001b[0m     output \u001b[38;5;241m=\u001b[39m \u001b[38;5;28mself\u001b[39m\u001b[38;5;241m.\u001b[39m_get_sequential_output(iterable)\n\u001b[0;32m   1862\u001b[0m     \u001b[38;5;28mnext\u001b[39m(output)\n\u001b[1;32m-> 1863\u001b[0m     \u001b[38;5;28;01mreturn\u001b[39;00m output \u001b[38;5;28;01mif\u001b[39;00m \u001b[38;5;28mself\u001b[39m\u001b[38;5;241m.\u001b[39mreturn_generator \u001b[38;5;28;01melse\u001b[39;00m \u001b[38;5;28mlist\u001b[39m(output)\n\u001b[0;32m   1865\u001b[0m \u001b[38;5;66;03m# Let's create an ID that uniquely identifies the current call. If the\u001b[39;00m\n\u001b[0;32m   1866\u001b[0m \u001b[38;5;66;03m# call is interrupted early and that the same instance is immediately\u001b[39;00m\n\u001b[0;32m   1867\u001b[0m \u001b[38;5;66;03m# re-used, this id will be used to prevent workers that were\u001b[39;00m\n\u001b[0;32m   1868\u001b[0m \u001b[38;5;66;03m# concurrently finalizing a task from the previous call to run the\u001b[39;00m\n\u001b[0;32m   1869\u001b[0m \u001b[38;5;66;03m# callback.\u001b[39;00m\n\u001b[0;32m   1870\u001b[0m \u001b[38;5;28;01mwith\u001b[39;00m \u001b[38;5;28mself\u001b[39m\u001b[38;5;241m.\u001b[39m_lock:\n",
      "File \u001b[1;32m~\\AppData\\Local\\Packages\\PythonSoftwareFoundation.Python.3.11_qbz5n2kfra8p0\\LocalCache\\local-packages\\Python311\\site-packages\\joblib\\parallel.py:1792\u001b[0m, in \u001b[0;36mParallel._get_sequential_output\u001b[1;34m(self, iterable)\u001b[0m\n\u001b[0;32m   1790\u001b[0m \u001b[38;5;28mself\u001b[39m\u001b[38;5;241m.\u001b[39mn_dispatched_batches \u001b[38;5;241m+\u001b[39m\u001b[38;5;241m=\u001b[39m \u001b[38;5;241m1\u001b[39m\n\u001b[0;32m   1791\u001b[0m \u001b[38;5;28mself\u001b[39m\u001b[38;5;241m.\u001b[39mn_dispatched_tasks \u001b[38;5;241m+\u001b[39m\u001b[38;5;241m=\u001b[39m \u001b[38;5;241m1\u001b[39m\n\u001b[1;32m-> 1792\u001b[0m res \u001b[38;5;241m=\u001b[39m \u001b[43mfunc\u001b[49m\u001b[43m(\u001b[49m\u001b[38;5;241;43m*\u001b[39;49m\u001b[43margs\u001b[49m\u001b[43m,\u001b[49m\u001b[43m \u001b[49m\u001b[38;5;241;43m*\u001b[39;49m\u001b[38;5;241;43m*\u001b[39;49m\u001b[43mkwargs\u001b[49m\u001b[43m)\u001b[49m\n\u001b[0;32m   1793\u001b[0m \u001b[38;5;28mself\u001b[39m\u001b[38;5;241m.\u001b[39mn_completed_tasks \u001b[38;5;241m+\u001b[39m\u001b[38;5;241m=\u001b[39m \u001b[38;5;241m1\u001b[39m\n\u001b[0;32m   1794\u001b[0m \u001b[38;5;28mself\u001b[39m\u001b[38;5;241m.\u001b[39mprint_progress()\n",
      "File \u001b[1;32m~\\AppData\\Local\\Packages\\PythonSoftwareFoundation.Python.3.11_qbz5n2kfra8p0\\LocalCache\\local-packages\\Python311\\site-packages\\sklearn\\utils\\parallel.py:129\u001b[0m, in \u001b[0;36m_FuncWrapper.__call__\u001b[1;34m(self, *args, **kwargs)\u001b[0m\n\u001b[0;32m    127\u001b[0m     config \u001b[38;5;241m=\u001b[39m {}\n\u001b[0;32m    128\u001b[0m \u001b[38;5;28;01mwith\u001b[39;00m config_context(\u001b[38;5;241m*\u001b[39m\u001b[38;5;241m*\u001b[39mconfig):\n\u001b[1;32m--> 129\u001b[0m     \u001b[38;5;28;01mreturn\u001b[39;00m \u001b[38;5;28;43mself\u001b[39;49m\u001b[38;5;241;43m.\u001b[39;49m\u001b[43mfunction\u001b[49m\u001b[43m(\u001b[49m\u001b[38;5;241;43m*\u001b[39;49m\u001b[43margs\u001b[49m\u001b[43m,\u001b[49m\u001b[43m \u001b[49m\u001b[38;5;241;43m*\u001b[39;49m\u001b[38;5;241;43m*\u001b[39;49m\u001b[43mkwargs\u001b[49m\u001b[43m)\u001b[49m\n",
      "File \u001b[1;32m~\\AppData\\Local\\Packages\\PythonSoftwareFoundation.Python.3.11_qbz5n2kfra8p0\\LocalCache\\local-packages\\Python311\\site-packages\\sklearn\\model_selection\\_validation.py:917\u001b[0m, in \u001b[0;36m_fit_and_score\u001b[1;34m(estimator, X, y, scorer, train, test, verbose, parameters, fit_params, score_params, return_train_score, return_parameters, return_n_test_samples, return_times, return_estimator, split_progress, candidate_progress, error_score)\u001b[0m\n\u001b[0;32m    914\u001b[0m result[\u001b[38;5;124m\"\u001b[39m\u001b[38;5;124mfit_error\u001b[39m\u001b[38;5;124m\"\u001b[39m] \u001b[38;5;241m=\u001b[39m \u001b[38;5;28;01mNone\u001b[39;00m\n\u001b[0;32m    916\u001b[0m fit_time \u001b[38;5;241m=\u001b[39m time\u001b[38;5;241m.\u001b[39mtime() \u001b[38;5;241m-\u001b[39m start_time\n\u001b[1;32m--> 917\u001b[0m test_scores \u001b[38;5;241m=\u001b[39m \u001b[43m_score\u001b[49m\u001b[43m(\u001b[49m\n\u001b[0;32m    918\u001b[0m \u001b[43m    \u001b[49m\u001b[43mestimator\u001b[49m\u001b[43m,\u001b[49m\u001b[43m \u001b[49m\u001b[43mX_test\u001b[49m\u001b[43m,\u001b[49m\u001b[43m \u001b[49m\u001b[43my_test\u001b[49m\u001b[43m,\u001b[49m\u001b[43m \u001b[49m\u001b[43mscorer\u001b[49m\u001b[43m,\u001b[49m\u001b[43m \u001b[49m\u001b[43mscore_params_test\u001b[49m\u001b[43m,\u001b[49m\u001b[43m \u001b[49m\u001b[43merror_score\u001b[49m\n\u001b[0;32m    919\u001b[0m \u001b[43m\u001b[49m\u001b[43m)\u001b[49m\n\u001b[0;32m    920\u001b[0m score_time \u001b[38;5;241m=\u001b[39m time\u001b[38;5;241m.\u001b[39mtime() \u001b[38;5;241m-\u001b[39m start_time \u001b[38;5;241m-\u001b[39m fit_time\n\u001b[0;32m    921\u001b[0m \u001b[38;5;28;01mif\u001b[39;00m return_train_score:\n",
      "File \u001b[1;32m~\\AppData\\Local\\Packages\\PythonSoftwareFoundation.Python.3.11_qbz5n2kfra8p0\\LocalCache\\local-packages\\Python311\\site-packages\\sklearn\\model_selection\\_validation.py:982\u001b[0m, in \u001b[0;36m_score\u001b[1;34m(estimator, X_test, y_test, scorer, score_params, error_score)\u001b[0m\n\u001b[0;32m    980\u001b[0m         scores \u001b[38;5;241m=\u001b[39m scorer(estimator, X_test, \u001b[38;5;241m*\u001b[39m\u001b[38;5;241m*\u001b[39mscore_params)\n\u001b[0;32m    981\u001b[0m     \u001b[38;5;28;01melse\u001b[39;00m:\n\u001b[1;32m--> 982\u001b[0m         scores \u001b[38;5;241m=\u001b[39m \u001b[43mscorer\u001b[49m\u001b[43m(\u001b[49m\u001b[43mestimator\u001b[49m\u001b[43m,\u001b[49m\u001b[43m \u001b[49m\u001b[43mX_test\u001b[49m\u001b[43m,\u001b[49m\u001b[43m \u001b[49m\u001b[43my_test\u001b[49m\u001b[43m,\u001b[49m\u001b[43m \u001b[49m\u001b[38;5;241;43m*\u001b[39;49m\u001b[38;5;241;43m*\u001b[39;49m\u001b[43mscore_params\u001b[49m\u001b[43m)\u001b[49m\n\u001b[0;32m    983\u001b[0m \u001b[38;5;28;01mexcept\u001b[39;00m \u001b[38;5;167;01mException\u001b[39;00m:\n\u001b[0;32m    984\u001b[0m     \u001b[38;5;28;01mif\u001b[39;00m \u001b[38;5;28misinstance\u001b[39m(scorer, _MultimetricScorer):\n\u001b[0;32m    985\u001b[0m         \u001b[38;5;66;03m# If `_MultimetricScorer` raises exception, the `error_score`\u001b[39;00m\n\u001b[0;32m    986\u001b[0m         \u001b[38;5;66;03m# parameter is equal to \"raise\".\u001b[39;00m\n",
      "File \u001b[1;32m~\\AppData\\Local\\Packages\\PythonSoftwareFoundation.Python.3.11_qbz5n2kfra8p0\\LocalCache\\local-packages\\Python311\\site-packages\\sklearn\\metrics\\_scorer.py:415\u001b[0m, in \u001b[0;36m_PassthroughScorer.__call__\u001b[1;34m(self, estimator, *args, **kwargs)\u001b[0m\n\u001b[0;32m    413\u001b[0m \u001b[38;5;28;01mdef\u001b[39;00m \u001b[38;5;21m__call__\u001b[39m(\u001b[38;5;28mself\u001b[39m, estimator, \u001b[38;5;241m*\u001b[39margs, \u001b[38;5;241m*\u001b[39m\u001b[38;5;241m*\u001b[39mkwargs):\n\u001b[0;32m    414\u001b[0m \u001b[38;5;250m    \u001b[39m\u001b[38;5;124;03m\"\"\"Method that wraps estimator.score\"\"\"\u001b[39;00m\n\u001b[1;32m--> 415\u001b[0m     \u001b[38;5;28;01mreturn\u001b[39;00m \u001b[43mestimator\u001b[49m\u001b[38;5;241;43m.\u001b[39;49m\u001b[43mscore\u001b[49m\u001b[43m(\u001b[49m\u001b[38;5;241;43m*\u001b[39;49m\u001b[43margs\u001b[49m\u001b[43m,\u001b[49m\u001b[43m \u001b[49m\u001b[38;5;241;43m*\u001b[39;49m\u001b[38;5;241;43m*\u001b[39;49m\u001b[43mkwargs\u001b[49m\u001b[43m)\u001b[49m\n",
      "File \u001b[1;32m~\\AppData\\Local\\Packages\\PythonSoftwareFoundation.Python.3.11_qbz5n2kfra8p0\\LocalCache\\local-packages\\Python311\\site-packages\\sklearn\\base.py:764\u001b[0m, in \u001b[0;36mClassifierMixin.score\u001b[1;34m(self, X, y, sample_weight)\u001b[0m\n\u001b[0;32m    739\u001b[0m \u001b[38;5;250m\u001b[39m\u001b[38;5;124;03m\"\"\"\u001b[39;00m\n\u001b[0;32m    740\u001b[0m \u001b[38;5;124;03mReturn the mean accuracy on the given test data and labels.\u001b[39;00m\n\u001b[0;32m    741\u001b[0m \n\u001b[1;32m   (...)\u001b[0m\n\u001b[0;32m    760\u001b[0m \u001b[38;5;124;03m    Mean accuracy of ``self.predict(X)`` w.r.t. `y`.\u001b[39;00m\n\u001b[0;32m    761\u001b[0m \u001b[38;5;124;03m\"\"\"\u001b[39;00m\n\u001b[0;32m    762\u001b[0m \u001b[38;5;28;01mfrom\u001b[39;00m \u001b[38;5;21;01m.\u001b[39;00m\u001b[38;5;21;01mmetrics\u001b[39;00m \u001b[38;5;28;01mimport\u001b[39;00m accuracy_score\n\u001b[1;32m--> 764\u001b[0m \u001b[38;5;28;01mreturn\u001b[39;00m accuracy_score(y, \u001b[38;5;28;43mself\u001b[39;49m\u001b[38;5;241;43m.\u001b[39;49m\u001b[43mpredict\u001b[49m\u001b[43m(\u001b[49m\u001b[43mX\u001b[49m\u001b[43m)\u001b[49m, sample_weight\u001b[38;5;241m=\u001b[39msample_weight)\n",
      "File \u001b[1;32m~\\AppData\\Local\\Packages\\PythonSoftwareFoundation.Python.3.11_qbz5n2kfra8p0\\LocalCache\\local-packages\\Python311\\site-packages\\sklearn\\neighbors\\_classification.py:295\u001b[0m, in \u001b[0;36mKNeighborsClassifier.predict\u001b[1;34m(self, X)\u001b[0m\n\u001b[0;32m    293\u001b[0m \u001b[38;5;28;01mfor\u001b[39;00m k, classes_k \u001b[38;5;129;01min\u001b[39;00m \u001b[38;5;28menumerate\u001b[39m(classes_):\n\u001b[0;32m    294\u001b[0m     \u001b[38;5;28;01mif\u001b[39;00m weights \u001b[38;5;129;01mis\u001b[39;00m \u001b[38;5;28;01mNone\u001b[39;00m:\n\u001b[1;32m--> 295\u001b[0m         mode, _ \u001b[38;5;241m=\u001b[39m \u001b[43m_mode\u001b[49m\u001b[43m(\u001b[49m\u001b[43m_y\u001b[49m\u001b[43m[\u001b[49m\u001b[43mneigh_ind\u001b[49m\u001b[43m,\u001b[49m\u001b[43m \u001b[49m\u001b[43mk\u001b[49m\u001b[43m]\u001b[49m\u001b[43m,\u001b[49m\u001b[43m \u001b[49m\u001b[43maxis\u001b[49m\u001b[38;5;241;43m=\u001b[39;49m\u001b[38;5;241;43m1\u001b[39;49m\u001b[43m)\u001b[49m\n\u001b[0;32m    296\u001b[0m     \u001b[38;5;28;01melse\u001b[39;00m:\n\u001b[0;32m    297\u001b[0m         mode, _ \u001b[38;5;241m=\u001b[39m weighted_mode(_y[neigh_ind, k], weights, axis\u001b[38;5;241m=\u001b[39m\u001b[38;5;241m1\u001b[39m)\n",
      "File \u001b[1;32m~\\AppData\\Local\\Packages\\PythonSoftwareFoundation.Python.3.11_qbz5n2kfra8p0\\LocalCache\\local-packages\\Python311\\site-packages\\sklearn\\utils\\fixes.py:124\u001b[0m, in \u001b[0;36m_mode\u001b[1;34m(a, axis)\u001b[0m\n\u001b[0;32m    122\u001b[0m \u001b[38;5;28;01mdef\u001b[39;00m \u001b[38;5;21m_mode\u001b[39m(a, axis\u001b[38;5;241m=\u001b[39m\u001b[38;5;241m0\u001b[39m):\n\u001b[0;32m    123\u001b[0m     \u001b[38;5;28;01mif\u001b[39;00m sp_version \u001b[38;5;241m>\u001b[39m\u001b[38;5;241m=\u001b[39m parse_version(\u001b[38;5;124m\"\u001b[39m\u001b[38;5;124m1.9.0\u001b[39m\u001b[38;5;124m\"\u001b[39m):\n\u001b[1;32m--> 124\u001b[0m         mode \u001b[38;5;241m=\u001b[39m \u001b[43mscipy\u001b[49m\u001b[38;5;241;43m.\u001b[39;49m\u001b[43mstats\u001b[49m\u001b[38;5;241;43m.\u001b[39;49m\u001b[43mmode\u001b[49m\u001b[43m(\u001b[49m\u001b[43ma\u001b[49m\u001b[43m,\u001b[49m\u001b[43m \u001b[49m\u001b[43maxis\u001b[49m\u001b[38;5;241;43m=\u001b[39;49m\u001b[43maxis\u001b[49m\u001b[43m,\u001b[49m\u001b[43m \u001b[49m\u001b[43mkeepdims\u001b[49m\u001b[38;5;241;43m=\u001b[39;49m\u001b[38;5;28;43;01mTrue\u001b[39;49;00m\u001b[43m)\u001b[49m\n\u001b[0;32m    125\u001b[0m         \u001b[38;5;28;01mif\u001b[39;00m sp_version \u001b[38;5;241m>\u001b[39m\u001b[38;5;241m=\u001b[39m parse_version(\u001b[38;5;124m\"\u001b[39m\u001b[38;5;124m1.10.999\u001b[39m\u001b[38;5;124m\"\u001b[39m):\n\u001b[0;32m    126\u001b[0m             \u001b[38;5;66;03m# scipy.stats.mode has changed returned array shape with axis=None\u001b[39;00m\n\u001b[0;32m    127\u001b[0m             \u001b[38;5;66;03m# and keepdims=True, see https://github.com/scipy/scipy/pull/17561\u001b[39;00m\n\u001b[0;32m    128\u001b[0m             \u001b[38;5;28;01mif\u001b[39;00m axis \u001b[38;5;129;01mis\u001b[39;00m \u001b[38;5;28;01mNone\u001b[39;00m:\n",
      "File \u001b[1;32m~\\AppData\\Local\\Packages\\PythonSoftwareFoundation.Python.3.11_qbz5n2kfra8p0\\LocalCache\\local-packages\\Python311\\site-packages\\scipy\\stats\\_axis_nan_policy.py:591\u001b[0m, in \u001b[0;36m_axis_nan_policy_factory.<locals>.axis_nan_policy_decorator.<locals>.axis_nan_policy_wrapper\u001b[1;34m(***failed resolving arguments***)\u001b[0m\n\u001b[0;32m    588\u001b[0m         \u001b[38;5;28;01mreturn\u001b[39;00m result_to_tuple(hypotest_fun_out(\u001b[38;5;241m*\u001b[39msamples, \u001b[38;5;241m*\u001b[39m\u001b[38;5;241m*\u001b[39mkwds))\n\u001b[0;32m    590\u001b[0m x \u001b[38;5;241m=\u001b[39m np\u001b[38;5;241m.\u001b[39mmoveaxis(x, axis, \u001b[38;5;241m0\u001b[39m)\n\u001b[1;32m--> 591\u001b[0m res \u001b[38;5;241m=\u001b[39m \u001b[43mnp\u001b[49m\u001b[38;5;241;43m.\u001b[39;49m\u001b[43mapply_along_axis\u001b[49m\u001b[43m(\u001b[49m\u001b[43mhypotest_fun\u001b[49m\u001b[43m,\u001b[49m\u001b[43m \u001b[49m\u001b[43maxis\u001b[49m\u001b[38;5;241;43m=\u001b[39;49m\u001b[38;5;241;43m0\u001b[39;49m\u001b[43m,\u001b[49m\u001b[43m \u001b[49m\u001b[43marr\u001b[49m\u001b[38;5;241;43m=\u001b[39;49m\u001b[43mx\u001b[49m\u001b[43m)\u001b[49m\n\u001b[0;32m    592\u001b[0m res \u001b[38;5;241m=\u001b[39m _add_reduced_axes(res, reduced_axes, keepdims)\n\u001b[0;32m    593\u001b[0m \u001b[38;5;28;01mreturn\u001b[39;00m tuple_to_result(\u001b[38;5;241m*\u001b[39mres)\n",
      "File \u001b[1;32m~\\AppData\\Local\\Packages\\PythonSoftwareFoundation.Python.3.11_qbz5n2kfra8p0\\LocalCache\\local-packages\\Python311\\site-packages\\numpy\\lib\\shape_base.py:402\u001b[0m, in \u001b[0;36mapply_along_axis\u001b[1;34m(func1d, axis, arr, *args, **kwargs)\u001b[0m\n\u001b[0;32m    400\u001b[0m buff[ind0] \u001b[38;5;241m=\u001b[39m res\n\u001b[0;32m    401\u001b[0m \u001b[38;5;28;01mfor\u001b[39;00m ind \u001b[38;5;129;01min\u001b[39;00m inds:\n\u001b[1;32m--> 402\u001b[0m     buff[ind] \u001b[38;5;241m=\u001b[39m asanyarray(\u001b[43mfunc1d\u001b[49m\u001b[43m(\u001b[49m\u001b[43minarr_view\u001b[49m\u001b[43m[\u001b[49m\u001b[43mind\u001b[49m\u001b[43m]\u001b[49m\u001b[43m,\u001b[49m\u001b[43m \u001b[49m\u001b[38;5;241;43m*\u001b[39;49m\u001b[43margs\u001b[49m\u001b[43m,\u001b[49m\u001b[43m \u001b[49m\u001b[38;5;241;43m*\u001b[39;49m\u001b[38;5;241;43m*\u001b[39;49m\u001b[43mkwargs\u001b[49m\u001b[43m)\u001b[49m)\n\u001b[0;32m    404\u001b[0m \u001b[38;5;28;01mif\u001b[39;00m \u001b[38;5;129;01mnot\u001b[39;00m \u001b[38;5;28misinstance\u001b[39m(res, matrix):\n\u001b[0;32m    405\u001b[0m     \u001b[38;5;66;03m# wrap the array, to preserve subclasses\u001b[39;00m\n\u001b[0;32m    406\u001b[0m     buff \u001b[38;5;241m=\u001b[39m res\u001b[38;5;241m.\u001b[39m__array_wrap__(buff)\n",
      "File \u001b[1;32m~\\AppData\\Local\\Packages\\PythonSoftwareFoundation.Python.3.11_qbz5n2kfra8p0\\LocalCache\\local-packages\\Python311\\site-packages\\scipy\\stats\\_axis_nan_policy.py:588\u001b[0m, in \u001b[0;36m_axis_nan_policy_factory.<locals>.axis_nan_policy_decorator.<locals>.axis_nan_policy_wrapper.<locals>.hypotest_fun\u001b[1;34m(x)\u001b[0m\n\u001b[0;32m    586\u001b[0m \u001b[38;5;28;01mif\u001b[39;00m is_too_small(samples):\n\u001b[0;32m    587\u001b[0m     \u001b[38;5;28;01mreturn\u001b[39;00m np\u001b[38;5;241m.\u001b[39mfull(n_out, np\u001b[38;5;241m.\u001b[39mnan)\n\u001b[1;32m--> 588\u001b[0m \u001b[38;5;28;01mreturn\u001b[39;00m result_to_tuple(\u001b[43mhypotest_fun_out\u001b[49m\u001b[43m(\u001b[49m\u001b[38;5;241;43m*\u001b[39;49m\u001b[43msamples\u001b[49m\u001b[43m,\u001b[49m\u001b[43m \u001b[49m\u001b[38;5;241;43m*\u001b[39;49m\u001b[38;5;241;43m*\u001b[39;49m\u001b[43mkwds\u001b[49m\u001b[43m)\u001b[49m)\n",
      "File \u001b[1;32m~\\AppData\\Local\\Packages\\PythonSoftwareFoundation.Python.3.11_qbz5n2kfra8p0\\LocalCache\\local-packages\\Python311\\site-packages\\scipy\\stats\\_stats_py.py:517\u001b[0m, in \u001b[0;36mmode\u001b[1;34m(a, axis, nan_policy, keepdims)\u001b[0m\n\u001b[0;32m    514\u001b[0m     NaN \u001b[38;5;241m=\u001b[39m _get_nan(a)\n\u001b[0;32m    515\u001b[0m     \u001b[38;5;28;01mreturn\u001b[39;00m ModeResult(\u001b[38;5;241m*\u001b[39mnp\u001b[38;5;241m.\u001b[39marray([NaN, \u001b[38;5;241m0\u001b[39m], dtype\u001b[38;5;241m=\u001b[39mNaN\u001b[38;5;241m.\u001b[39mdtype))\n\u001b[1;32m--> 517\u001b[0m vals, cnts \u001b[38;5;241m=\u001b[39m \u001b[43mnp\u001b[49m\u001b[38;5;241;43m.\u001b[39;49m\u001b[43munique\u001b[49m\u001b[43m(\u001b[49m\u001b[43ma\u001b[49m\u001b[43m,\u001b[49m\u001b[43m \u001b[49m\u001b[43mreturn_counts\u001b[49m\u001b[38;5;241;43m=\u001b[39;49m\u001b[38;5;28;43;01mTrue\u001b[39;49;00m\u001b[43m)\u001b[49m\n\u001b[0;32m    518\u001b[0m modes, counts \u001b[38;5;241m=\u001b[39m vals[cnts\u001b[38;5;241m.\u001b[39margmax()], cnts\u001b[38;5;241m.\u001b[39mmax()\n\u001b[0;32m    519\u001b[0m \u001b[38;5;28;01mreturn\u001b[39;00m ModeResult(modes[()], counts[()])\n",
      "File \u001b[1;32m~\\AppData\\Local\\Packages\\PythonSoftwareFoundation.Python.3.11_qbz5n2kfra8p0\\LocalCache\\local-packages\\Python311\\site-packages\\numpy\\lib\\arraysetops.py:274\u001b[0m, in \u001b[0;36munique\u001b[1;34m(ar, return_index, return_inverse, return_counts, axis, equal_nan)\u001b[0m\n\u001b[0;32m    272\u001b[0m ar \u001b[38;5;241m=\u001b[39m np\u001b[38;5;241m.\u001b[39masanyarray(ar)\n\u001b[0;32m    273\u001b[0m \u001b[38;5;28;01mif\u001b[39;00m axis \u001b[38;5;129;01mis\u001b[39;00m \u001b[38;5;28;01mNone\u001b[39;00m:\n\u001b[1;32m--> 274\u001b[0m     ret \u001b[38;5;241m=\u001b[39m \u001b[43m_unique1d\u001b[49m\u001b[43m(\u001b[49m\u001b[43mar\u001b[49m\u001b[43m,\u001b[49m\u001b[43m \u001b[49m\u001b[43mreturn_index\u001b[49m\u001b[43m,\u001b[49m\u001b[43m \u001b[49m\u001b[43mreturn_inverse\u001b[49m\u001b[43m,\u001b[49m\u001b[43m \u001b[49m\u001b[43mreturn_counts\u001b[49m\u001b[43m,\u001b[49m\u001b[43m \u001b[49m\n\u001b[0;32m    275\u001b[0m \u001b[43m                    \u001b[49m\u001b[43mequal_nan\u001b[49m\u001b[38;5;241;43m=\u001b[39;49m\u001b[43mequal_nan\u001b[49m\u001b[43m)\u001b[49m\n\u001b[0;32m    276\u001b[0m     \u001b[38;5;28;01mreturn\u001b[39;00m _unpack_tuple(ret)\n\u001b[0;32m    278\u001b[0m \u001b[38;5;66;03m# axis was specified and not None\u001b[39;00m\n",
      "File \u001b[1;32m~\\AppData\\Local\\Packages\\PythonSoftwareFoundation.Python.3.11_qbz5n2kfra8p0\\LocalCache\\local-packages\\Python311\\site-packages\\numpy\\lib\\arraysetops.py:363\u001b[0m, in \u001b[0;36m_unique1d\u001b[1;34m(ar, return_index, return_inverse, return_counts, equal_nan)\u001b[0m\n\u001b[0;32m    361\u001b[0m     ret \u001b[38;5;241m+\u001b[39m\u001b[38;5;241m=\u001b[39m (inv_idx,)\n\u001b[0;32m    362\u001b[0m \u001b[38;5;28;01mif\u001b[39;00m return_counts:\n\u001b[1;32m--> 363\u001b[0m     idx \u001b[38;5;241m=\u001b[39m \u001b[43mnp\u001b[49m\u001b[38;5;241;43m.\u001b[39;49m\u001b[43mconcatenate\u001b[49m\u001b[43m(\u001b[49m\u001b[43mnp\u001b[49m\u001b[38;5;241;43m.\u001b[39;49m\u001b[43mnonzero\u001b[49m\u001b[43m(\u001b[49m\u001b[43mmask\u001b[49m\u001b[43m)\u001b[49m\u001b[43m \u001b[49m\u001b[38;5;241;43m+\u001b[39;49m\u001b[43m \u001b[49m\u001b[43m(\u001b[49m\u001b[43m[\u001b[49m\u001b[43mmask\u001b[49m\u001b[38;5;241;43m.\u001b[39;49m\u001b[43msize\u001b[49m\u001b[43m]\u001b[49m\u001b[43m,\u001b[49m\u001b[43m)\u001b[49m\u001b[43m)\u001b[49m\n\u001b[0;32m    364\u001b[0m     ret \u001b[38;5;241m+\u001b[39m\u001b[38;5;241m=\u001b[39m (np\u001b[38;5;241m.\u001b[39mdiff(idx),)\n\u001b[0;32m    365\u001b[0m \u001b[38;5;28;01mreturn\u001b[39;00m ret\n",
      "\u001b[1;31mKeyboardInterrupt\u001b[0m: "
     ]
    }
   ],
   "source": [
    "params = {\n",
    "    \"n_neighbors\": range(15, 21, 2),\n",
    "    \"weights\": [\"uniform\", \"distance\"],\n",
    "    \"p\": [1, 2]\n",
    "}\n",
    "\n",
    "gridsearch = GridSearchCV(KNeighborsClassifier(), params, cv=5)\n",
    "gridsearch = gridsearch.fit(X_genres, y_genres)\n",
    "\n",
    "print(\"Best parameters: \", gridsearch.best_params_)\n",
    "print(\"Best score: \", gridsearch.best_score_)\n",
    "\n",
    "scores[\"KNN\"] = cross_val_score(gridsearch.best_estimator_, X_genres, y_genres, cv=10)"
   ]
  },
  {
   "cell_type": "markdown",
   "metadata": {},
   "source": [
    "### Logistic Regression"
   ]
  },
  {
   "cell_type": "code",
   "execution_count": 47,
   "metadata": {},
   "outputs": [
    {
     "ename": "ValueError",
     "evalue": "\nAll the 240 fits failed.\nIt is very likely that your model is misconfigured.\nYou can try to debug the error by setting error_score='raise'.\n\nBelow are more details about the failures:\n--------------------------------------------------------------------------------\n144 fits failed with the following error:\nTraceback (most recent call last):\n  File \"C:\\Users\\Ethan\\AppData\\Local\\Packages\\PythonSoftwareFoundation.Python.3.11_qbz5n2kfra8p0\\LocalCache\\local-packages\\Python311\\site-packages\\sklearn\\model_selection\\_validation.py\", line 895, in _fit_and_score\n    estimator.fit(X_train, y_train, **fit_params)\n  File \"C:\\Users\\Ethan\\AppData\\Local\\Packages\\PythonSoftwareFoundation.Python.3.11_qbz5n2kfra8p0\\LocalCache\\local-packages\\Python311\\site-packages\\sklearn\\base.py\", line 1474, in wrapper\n    return fit_method(estimator, *args, **kwargs)\n           ^^^^^^^^^^^^^^^^^^^^^^^^^^^^^^^^^^^^^^\n  File \"C:\\Users\\Ethan\\AppData\\Local\\Packages\\PythonSoftwareFoundation.Python.3.11_qbz5n2kfra8p0\\LocalCache\\local-packages\\Python311\\site-packages\\sklearn\\linear_model\\_logistic.py\", line 1201, in fit\n    X, y = self._validate_data(\n           ^^^^^^^^^^^^^^^^^^^^\n  File \"C:\\Users\\Ethan\\AppData\\Local\\Packages\\PythonSoftwareFoundation.Python.3.11_qbz5n2kfra8p0\\LocalCache\\local-packages\\Python311\\site-packages\\sklearn\\base.py\", line 650, in _validate_data\n    X, y = check_X_y(X, y, **check_params)\n           ^^^^^^^^^^^^^^^^^^^^^^^^^^^^^^^\n  File \"C:\\Users\\Ethan\\AppData\\Local\\Packages\\PythonSoftwareFoundation.Python.3.11_qbz5n2kfra8p0\\LocalCache\\local-packages\\Python311\\site-packages\\sklearn\\utils\\validation.py\", line 1279, in check_X_y\n    y = _check_y(y, multi_output=multi_output, y_numeric=y_numeric, estimator=estimator)\n        ^^^^^^^^^^^^^^^^^^^^^^^^^^^^^^^^^^^^^^^^^^^^^^^^^^^^^^^^^^^^^^^^^^^^^^^^^^^^^^^^\n  File \"C:\\Users\\Ethan\\AppData\\Local\\Packages\\PythonSoftwareFoundation.Python.3.11_qbz5n2kfra8p0\\LocalCache\\local-packages\\Python311\\site-packages\\sklearn\\utils\\validation.py\", line 1300, in _check_y\n    y = column_or_1d(y, warn=True)\n        ^^^^^^^^^^^^^^^^^^^^^^^^^^\n  File \"C:\\Users\\Ethan\\AppData\\Local\\Packages\\PythonSoftwareFoundation.Python.3.11_qbz5n2kfra8p0\\LocalCache\\local-packages\\Python311\\site-packages\\sklearn\\utils\\validation.py\", line 1367, in column_or_1d\n    raise ValueError(\nValueError: y should be a 1d array, got an array of shape (15290, 1076) instead.\n\n--------------------------------------------------------------------------------\n96 fits failed with the following error:\nTraceback (most recent call last):\n  File \"C:\\Users\\Ethan\\AppData\\Local\\Packages\\PythonSoftwareFoundation.Python.3.11_qbz5n2kfra8p0\\LocalCache\\local-packages\\Python311\\site-packages\\sklearn\\model_selection\\_validation.py\", line 895, in _fit_and_score\n    estimator.fit(X_train, y_train, **fit_params)\n  File \"C:\\Users\\Ethan\\AppData\\Local\\Packages\\PythonSoftwareFoundation.Python.3.11_qbz5n2kfra8p0\\LocalCache\\local-packages\\Python311\\site-packages\\sklearn\\base.py\", line 1474, in wrapper\n    return fit_method(estimator, *args, **kwargs)\n           ^^^^^^^^^^^^^^^^^^^^^^^^^^^^^^^^^^^^^^\n  File \"C:\\Users\\Ethan\\AppData\\Local\\Packages\\PythonSoftwareFoundation.Python.3.11_qbz5n2kfra8p0\\LocalCache\\local-packages\\Python311\\site-packages\\sklearn\\linear_model\\_logistic.py\", line 1201, in fit\n    X, y = self._validate_data(\n           ^^^^^^^^^^^^^^^^^^^^\n  File \"C:\\Users\\Ethan\\AppData\\Local\\Packages\\PythonSoftwareFoundation.Python.3.11_qbz5n2kfra8p0\\LocalCache\\local-packages\\Python311\\site-packages\\sklearn\\base.py\", line 650, in _validate_data\n    X, y = check_X_y(X, y, **check_params)\n           ^^^^^^^^^^^^^^^^^^^^^^^^^^^^^^^\n  File \"C:\\Users\\Ethan\\AppData\\Local\\Packages\\PythonSoftwareFoundation.Python.3.11_qbz5n2kfra8p0\\LocalCache\\local-packages\\Python311\\site-packages\\sklearn\\utils\\validation.py\", line 1279, in check_X_y\n    y = _check_y(y, multi_output=multi_output, y_numeric=y_numeric, estimator=estimator)\n        ^^^^^^^^^^^^^^^^^^^^^^^^^^^^^^^^^^^^^^^^^^^^^^^^^^^^^^^^^^^^^^^^^^^^^^^^^^^^^^^^\n  File \"C:\\Users\\Ethan\\AppData\\Local\\Packages\\PythonSoftwareFoundation.Python.3.11_qbz5n2kfra8p0\\LocalCache\\local-packages\\Python311\\site-packages\\sklearn\\utils\\validation.py\", line 1300, in _check_y\n    y = column_or_1d(y, warn=True)\n        ^^^^^^^^^^^^^^^^^^^^^^^^^^\n  File \"C:\\Users\\Ethan\\AppData\\Local\\Packages\\PythonSoftwareFoundation.Python.3.11_qbz5n2kfra8p0\\LocalCache\\local-packages\\Python311\\site-packages\\sklearn\\utils\\validation.py\", line 1367, in column_or_1d\n    raise ValueError(\nValueError: y should be a 1d array, got an array of shape (15291, 1076) instead.\n",
     "output_type": "error",
     "traceback": [
      "\u001b[1;31m---------------------------------------------------------------------------\u001b[0m",
      "\u001b[1;31mValueError\u001b[0m                                Traceback (most recent call last)",
      "Cell \u001b[1;32mIn[47], line 9\u001b[0m\n\u001b[0;32m      1\u001b[0m params \u001b[38;5;241m=\u001b[39m {\n\u001b[0;32m      2\u001b[0m     \u001b[38;5;124m\"\u001b[39m\u001b[38;5;124mmax_iter\u001b[39m\u001b[38;5;124m\"\u001b[39m: [\u001b[38;5;241m500\u001b[39m, \u001b[38;5;241m1000\u001b[39m, \u001b[38;5;241m2000\u001b[39m],\n\u001b[0;32m      3\u001b[0m     \u001b[38;5;124m\"\u001b[39m\u001b[38;5;124mC\u001b[39m\u001b[38;5;124m\"\u001b[39m: [\u001b[38;5;241m0.1\u001b[39m, \u001b[38;5;241m1\u001b[39m, \u001b[38;5;241m10\u001b[39m, \u001b[38;5;241m100\u001b[39m],\n\u001b[0;32m      4\u001b[0m     \u001b[38;5;124m\"\u001b[39m\u001b[38;5;124mclass_weight\u001b[39m\u001b[38;5;124m\"\u001b[39m: [\u001b[38;5;124m\"\u001b[39m\u001b[38;5;124mbalanced\u001b[39m\u001b[38;5;124m\"\u001b[39m, \u001b[38;5;28;01mNone\u001b[39;00m],\n\u001b[0;32m      5\u001b[0m     \u001b[38;5;124m\"\u001b[39m\u001b[38;5;124msolver\u001b[39m\u001b[38;5;124m\"\u001b[39m: [\u001b[38;5;124m\"\u001b[39m\u001b[38;5;124mliblinear\u001b[39m\u001b[38;5;124m\"\u001b[39m, \u001b[38;5;124m\"\u001b[39m\u001b[38;5;124mlbfgs\u001b[39m\u001b[38;5;124m\"\u001b[39m]\n\u001b[0;32m      6\u001b[0m }\n\u001b[0;32m      8\u001b[0m gridsearch \u001b[38;5;241m=\u001b[39m GridSearchCV(LogisticRegression(), params, cv\u001b[38;5;241m=\u001b[39m\u001b[38;5;241m5\u001b[39m)\n\u001b[1;32m----> 9\u001b[0m gridsearch \u001b[38;5;241m=\u001b[39m \u001b[43mgridsearch\u001b[49m\u001b[38;5;241;43m.\u001b[39;49m\u001b[43mfit\u001b[49m\u001b[43m(\u001b[49m\u001b[43mX_genres\u001b[49m\u001b[43m,\u001b[49m\u001b[43m \u001b[49m\u001b[43my_genres\u001b[49m\u001b[43m)\u001b[49m\n\u001b[0;32m     11\u001b[0m \u001b[38;5;28mprint\u001b[39m(\u001b[38;5;124m\"\u001b[39m\u001b[38;5;124mBest parameters: \u001b[39m\u001b[38;5;124m\"\u001b[39m, gridsearch\u001b[38;5;241m.\u001b[39mbest_params_)\n\u001b[0;32m     12\u001b[0m \u001b[38;5;28mprint\u001b[39m(\u001b[38;5;124m\"\u001b[39m\u001b[38;5;124mBest score: \u001b[39m\u001b[38;5;124m\"\u001b[39m, gridsearch\u001b[38;5;241m.\u001b[39mbest_score_)\n",
      "File \u001b[1;32m~\\AppData\\Local\\Packages\\PythonSoftwareFoundation.Python.3.11_qbz5n2kfra8p0\\LocalCache\\local-packages\\Python311\\site-packages\\sklearn\\base.py:1474\u001b[0m, in \u001b[0;36m_fit_context.<locals>.decorator.<locals>.wrapper\u001b[1;34m(estimator, *args, **kwargs)\u001b[0m\n\u001b[0;32m   1467\u001b[0m     estimator\u001b[38;5;241m.\u001b[39m_validate_params()\n\u001b[0;32m   1469\u001b[0m \u001b[38;5;28;01mwith\u001b[39;00m config_context(\n\u001b[0;32m   1470\u001b[0m     skip_parameter_validation\u001b[38;5;241m=\u001b[39m(\n\u001b[0;32m   1471\u001b[0m         prefer_skip_nested_validation \u001b[38;5;129;01mor\u001b[39;00m global_skip_validation\n\u001b[0;32m   1472\u001b[0m     )\n\u001b[0;32m   1473\u001b[0m ):\n\u001b[1;32m-> 1474\u001b[0m     \u001b[38;5;28;01mreturn\u001b[39;00m \u001b[43mfit_method\u001b[49m\u001b[43m(\u001b[49m\u001b[43mestimator\u001b[49m\u001b[43m,\u001b[49m\u001b[43m \u001b[49m\u001b[38;5;241;43m*\u001b[39;49m\u001b[43margs\u001b[49m\u001b[43m,\u001b[49m\u001b[43m \u001b[49m\u001b[38;5;241;43m*\u001b[39;49m\u001b[38;5;241;43m*\u001b[39;49m\u001b[43mkwargs\u001b[49m\u001b[43m)\u001b[49m\n",
      "File \u001b[1;32m~\\AppData\\Local\\Packages\\PythonSoftwareFoundation.Python.3.11_qbz5n2kfra8p0\\LocalCache\\local-packages\\Python311\\site-packages\\sklearn\\model_selection\\_search.py:970\u001b[0m, in \u001b[0;36mBaseSearchCV.fit\u001b[1;34m(self, X, y, **params)\u001b[0m\n\u001b[0;32m    964\u001b[0m     results \u001b[38;5;241m=\u001b[39m \u001b[38;5;28mself\u001b[39m\u001b[38;5;241m.\u001b[39m_format_results(\n\u001b[0;32m    965\u001b[0m         all_candidate_params, n_splits, all_out, all_more_results\n\u001b[0;32m    966\u001b[0m     )\n\u001b[0;32m    968\u001b[0m     \u001b[38;5;28;01mreturn\u001b[39;00m results\n\u001b[1;32m--> 970\u001b[0m \u001b[38;5;28;43mself\u001b[39;49m\u001b[38;5;241;43m.\u001b[39;49m\u001b[43m_run_search\u001b[49m\u001b[43m(\u001b[49m\u001b[43mevaluate_candidates\u001b[49m\u001b[43m)\u001b[49m\n\u001b[0;32m    972\u001b[0m \u001b[38;5;66;03m# multimetric is determined here because in the case of a callable\u001b[39;00m\n\u001b[0;32m    973\u001b[0m \u001b[38;5;66;03m# self.scoring the return type is only known after calling\u001b[39;00m\n\u001b[0;32m    974\u001b[0m first_test_score \u001b[38;5;241m=\u001b[39m all_out[\u001b[38;5;241m0\u001b[39m][\u001b[38;5;124m\"\u001b[39m\u001b[38;5;124mtest_scores\u001b[39m\u001b[38;5;124m\"\u001b[39m]\n",
      "File \u001b[1;32m~\\AppData\\Local\\Packages\\PythonSoftwareFoundation.Python.3.11_qbz5n2kfra8p0\\LocalCache\\local-packages\\Python311\\site-packages\\sklearn\\model_selection\\_search.py:1527\u001b[0m, in \u001b[0;36mGridSearchCV._run_search\u001b[1;34m(self, evaluate_candidates)\u001b[0m\n\u001b[0;32m   1525\u001b[0m \u001b[38;5;28;01mdef\u001b[39;00m \u001b[38;5;21m_run_search\u001b[39m(\u001b[38;5;28mself\u001b[39m, evaluate_candidates):\n\u001b[0;32m   1526\u001b[0m \u001b[38;5;250m    \u001b[39m\u001b[38;5;124;03m\"\"\"Search all candidates in param_grid\"\"\"\u001b[39;00m\n\u001b[1;32m-> 1527\u001b[0m     \u001b[43mevaluate_candidates\u001b[49m\u001b[43m(\u001b[49m\u001b[43mParameterGrid\u001b[49m\u001b[43m(\u001b[49m\u001b[38;5;28;43mself\u001b[39;49m\u001b[38;5;241;43m.\u001b[39;49m\u001b[43mparam_grid\u001b[49m\u001b[43m)\u001b[49m\u001b[43m)\u001b[49m\n",
      "File \u001b[1;32m~\\AppData\\Local\\Packages\\PythonSoftwareFoundation.Python.3.11_qbz5n2kfra8p0\\LocalCache\\local-packages\\Python311\\site-packages\\sklearn\\model_selection\\_search.py:947\u001b[0m, in \u001b[0;36mBaseSearchCV.fit.<locals>.evaluate_candidates\u001b[1;34m(candidate_params, cv, more_results)\u001b[0m\n\u001b[0;32m    940\u001b[0m \u001b[38;5;28;01melif\u001b[39;00m \u001b[38;5;28mlen\u001b[39m(out) \u001b[38;5;241m!=\u001b[39m n_candidates \u001b[38;5;241m*\u001b[39m n_splits:\n\u001b[0;32m    941\u001b[0m     \u001b[38;5;28;01mraise\u001b[39;00m \u001b[38;5;167;01mValueError\u001b[39;00m(\n\u001b[0;32m    942\u001b[0m         \u001b[38;5;124m\"\u001b[39m\u001b[38;5;124mcv.split and cv.get_n_splits returned \u001b[39m\u001b[38;5;124m\"\u001b[39m\n\u001b[0;32m    943\u001b[0m         \u001b[38;5;124m\"\u001b[39m\u001b[38;5;124minconsistent results. Expected \u001b[39m\u001b[38;5;132;01m{}\u001b[39;00m\u001b[38;5;124m \u001b[39m\u001b[38;5;124m\"\u001b[39m\n\u001b[0;32m    944\u001b[0m         \u001b[38;5;124m\"\u001b[39m\u001b[38;5;124msplits, got \u001b[39m\u001b[38;5;132;01m{}\u001b[39;00m\u001b[38;5;124m\"\u001b[39m\u001b[38;5;241m.\u001b[39mformat(n_splits, \u001b[38;5;28mlen\u001b[39m(out) \u001b[38;5;241m/\u001b[39m\u001b[38;5;241m/\u001b[39m n_candidates)\n\u001b[0;32m    945\u001b[0m     )\n\u001b[1;32m--> 947\u001b[0m \u001b[43m_warn_or_raise_about_fit_failures\u001b[49m\u001b[43m(\u001b[49m\u001b[43mout\u001b[49m\u001b[43m,\u001b[49m\u001b[43m \u001b[49m\u001b[38;5;28;43mself\u001b[39;49m\u001b[38;5;241;43m.\u001b[39;49m\u001b[43merror_score\u001b[49m\u001b[43m)\u001b[49m\n\u001b[0;32m    949\u001b[0m \u001b[38;5;66;03m# For callable self.scoring, the return type is only know after\u001b[39;00m\n\u001b[0;32m    950\u001b[0m \u001b[38;5;66;03m# calling. If the return type is a dictionary, the error scores\u001b[39;00m\n\u001b[0;32m    951\u001b[0m \u001b[38;5;66;03m# can now be inserted with the correct key. The type checking\u001b[39;00m\n\u001b[0;32m    952\u001b[0m \u001b[38;5;66;03m# of out will be done in `_insert_error_scores`.\u001b[39;00m\n\u001b[0;32m    953\u001b[0m \u001b[38;5;28;01mif\u001b[39;00m \u001b[38;5;28mcallable\u001b[39m(\u001b[38;5;28mself\u001b[39m\u001b[38;5;241m.\u001b[39mscoring):\n",
      "File \u001b[1;32m~\\AppData\\Local\\Packages\\PythonSoftwareFoundation.Python.3.11_qbz5n2kfra8p0\\LocalCache\\local-packages\\Python311\\site-packages\\sklearn\\model_selection\\_validation.py:536\u001b[0m, in \u001b[0;36m_warn_or_raise_about_fit_failures\u001b[1;34m(results, error_score)\u001b[0m\n\u001b[0;32m    529\u001b[0m \u001b[38;5;28;01mif\u001b[39;00m num_failed_fits \u001b[38;5;241m==\u001b[39m num_fits:\n\u001b[0;32m    530\u001b[0m     all_fits_failed_message \u001b[38;5;241m=\u001b[39m (\n\u001b[0;32m    531\u001b[0m         \u001b[38;5;124mf\u001b[39m\u001b[38;5;124m\"\u001b[39m\u001b[38;5;130;01m\\n\u001b[39;00m\u001b[38;5;124mAll the \u001b[39m\u001b[38;5;132;01m{\u001b[39;00mnum_fits\u001b[38;5;132;01m}\u001b[39;00m\u001b[38;5;124m fits failed.\u001b[39m\u001b[38;5;130;01m\\n\u001b[39;00m\u001b[38;5;124m\"\u001b[39m\n\u001b[0;32m    532\u001b[0m         \u001b[38;5;124m\"\u001b[39m\u001b[38;5;124mIt is very likely that your model is misconfigured.\u001b[39m\u001b[38;5;130;01m\\n\u001b[39;00m\u001b[38;5;124m\"\u001b[39m\n\u001b[0;32m    533\u001b[0m         \u001b[38;5;124m\"\u001b[39m\u001b[38;5;124mYou can try to debug the error by setting error_score=\u001b[39m\u001b[38;5;124m'\u001b[39m\u001b[38;5;124mraise\u001b[39m\u001b[38;5;124m'\u001b[39m\u001b[38;5;124m.\u001b[39m\u001b[38;5;130;01m\\n\u001b[39;00m\u001b[38;5;130;01m\\n\u001b[39;00m\u001b[38;5;124m\"\u001b[39m\n\u001b[0;32m    534\u001b[0m         \u001b[38;5;124mf\u001b[39m\u001b[38;5;124m\"\u001b[39m\u001b[38;5;124mBelow are more details about the failures:\u001b[39m\u001b[38;5;130;01m\\n\u001b[39;00m\u001b[38;5;132;01m{\u001b[39;00mfit_errors_summary\u001b[38;5;132;01m}\u001b[39;00m\u001b[38;5;124m\"\u001b[39m\n\u001b[0;32m    535\u001b[0m     )\n\u001b[1;32m--> 536\u001b[0m     \u001b[38;5;28;01mraise\u001b[39;00m \u001b[38;5;167;01mValueError\u001b[39;00m(all_fits_failed_message)\n\u001b[0;32m    538\u001b[0m \u001b[38;5;28;01melse\u001b[39;00m:\n\u001b[0;32m    539\u001b[0m     some_fits_failed_message \u001b[38;5;241m=\u001b[39m (\n\u001b[0;32m    540\u001b[0m         \u001b[38;5;124mf\u001b[39m\u001b[38;5;124m\"\u001b[39m\u001b[38;5;130;01m\\n\u001b[39;00m\u001b[38;5;132;01m{\u001b[39;00mnum_failed_fits\u001b[38;5;132;01m}\u001b[39;00m\u001b[38;5;124m fits failed out of a total of \u001b[39m\u001b[38;5;132;01m{\u001b[39;00mnum_fits\u001b[38;5;132;01m}\u001b[39;00m\u001b[38;5;124m.\u001b[39m\u001b[38;5;130;01m\\n\u001b[39;00m\u001b[38;5;124m\"\u001b[39m\n\u001b[0;32m    541\u001b[0m         \u001b[38;5;124m\"\u001b[39m\u001b[38;5;124mThe score on these train-test partitions for these parameters\u001b[39m\u001b[38;5;124m\"\u001b[39m\n\u001b[1;32m   (...)\u001b[0m\n\u001b[0;32m    545\u001b[0m         \u001b[38;5;124mf\u001b[39m\u001b[38;5;124m\"\u001b[39m\u001b[38;5;124mBelow are more details about the failures:\u001b[39m\u001b[38;5;130;01m\\n\u001b[39;00m\u001b[38;5;132;01m{\u001b[39;00mfit_errors_summary\u001b[38;5;132;01m}\u001b[39;00m\u001b[38;5;124m\"\u001b[39m\n\u001b[0;32m    546\u001b[0m     )\n",
      "\u001b[1;31mValueError\u001b[0m: \nAll the 240 fits failed.\nIt is very likely that your model is misconfigured.\nYou can try to debug the error by setting error_score='raise'.\n\nBelow are more details about the failures:\n--------------------------------------------------------------------------------\n144 fits failed with the following error:\nTraceback (most recent call last):\n  File \"C:\\Users\\Ethan\\AppData\\Local\\Packages\\PythonSoftwareFoundation.Python.3.11_qbz5n2kfra8p0\\LocalCache\\local-packages\\Python311\\site-packages\\sklearn\\model_selection\\_validation.py\", line 895, in _fit_and_score\n    estimator.fit(X_train, y_train, **fit_params)\n  File \"C:\\Users\\Ethan\\AppData\\Local\\Packages\\PythonSoftwareFoundation.Python.3.11_qbz5n2kfra8p0\\LocalCache\\local-packages\\Python311\\site-packages\\sklearn\\base.py\", line 1474, in wrapper\n    return fit_method(estimator, *args, **kwargs)\n           ^^^^^^^^^^^^^^^^^^^^^^^^^^^^^^^^^^^^^^\n  File \"C:\\Users\\Ethan\\AppData\\Local\\Packages\\PythonSoftwareFoundation.Python.3.11_qbz5n2kfra8p0\\LocalCache\\local-packages\\Python311\\site-packages\\sklearn\\linear_model\\_logistic.py\", line 1201, in fit\n    X, y = self._validate_data(\n           ^^^^^^^^^^^^^^^^^^^^\n  File \"C:\\Users\\Ethan\\AppData\\Local\\Packages\\PythonSoftwareFoundation.Python.3.11_qbz5n2kfra8p0\\LocalCache\\local-packages\\Python311\\site-packages\\sklearn\\base.py\", line 650, in _validate_data\n    X, y = check_X_y(X, y, **check_params)\n           ^^^^^^^^^^^^^^^^^^^^^^^^^^^^^^^\n  File \"C:\\Users\\Ethan\\AppData\\Local\\Packages\\PythonSoftwareFoundation.Python.3.11_qbz5n2kfra8p0\\LocalCache\\local-packages\\Python311\\site-packages\\sklearn\\utils\\validation.py\", line 1279, in check_X_y\n    y = _check_y(y, multi_output=multi_output, y_numeric=y_numeric, estimator=estimator)\n        ^^^^^^^^^^^^^^^^^^^^^^^^^^^^^^^^^^^^^^^^^^^^^^^^^^^^^^^^^^^^^^^^^^^^^^^^^^^^^^^^\n  File \"C:\\Users\\Ethan\\AppData\\Local\\Packages\\PythonSoftwareFoundation.Python.3.11_qbz5n2kfra8p0\\LocalCache\\local-packages\\Python311\\site-packages\\sklearn\\utils\\validation.py\", line 1300, in _check_y\n    y = column_or_1d(y, warn=True)\n        ^^^^^^^^^^^^^^^^^^^^^^^^^^\n  File \"C:\\Users\\Ethan\\AppData\\Local\\Packages\\PythonSoftwareFoundation.Python.3.11_qbz5n2kfra8p0\\LocalCache\\local-packages\\Python311\\site-packages\\sklearn\\utils\\validation.py\", line 1367, in column_or_1d\n    raise ValueError(\nValueError: y should be a 1d array, got an array of shape (15290, 1076) instead.\n\n--------------------------------------------------------------------------------\n96 fits failed with the following error:\nTraceback (most recent call last):\n  File \"C:\\Users\\Ethan\\AppData\\Local\\Packages\\PythonSoftwareFoundation.Python.3.11_qbz5n2kfra8p0\\LocalCache\\local-packages\\Python311\\site-packages\\sklearn\\model_selection\\_validation.py\", line 895, in _fit_and_score\n    estimator.fit(X_train, y_train, **fit_params)\n  File \"C:\\Users\\Ethan\\AppData\\Local\\Packages\\PythonSoftwareFoundation.Python.3.11_qbz5n2kfra8p0\\LocalCache\\local-packages\\Python311\\site-packages\\sklearn\\base.py\", line 1474, in wrapper\n    return fit_method(estimator, *args, **kwargs)\n           ^^^^^^^^^^^^^^^^^^^^^^^^^^^^^^^^^^^^^^\n  File \"C:\\Users\\Ethan\\AppData\\Local\\Packages\\PythonSoftwareFoundation.Python.3.11_qbz5n2kfra8p0\\LocalCache\\local-packages\\Python311\\site-packages\\sklearn\\linear_model\\_logistic.py\", line 1201, in fit\n    X, y = self._validate_data(\n           ^^^^^^^^^^^^^^^^^^^^\n  File \"C:\\Users\\Ethan\\AppData\\Local\\Packages\\PythonSoftwareFoundation.Python.3.11_qbz5n2kfra8p0\\LocalCache\\local-packages\\Python311\\site-packages\\sklearn\\base.py\", line 650, in _validate_data\n    X, y = check_X_y(X, y, **check_params)\n           ^^^^^^^^^^^^^^^^^^^^^^^^^^^^^^^\n  File \"C:\\Users\\Ethan\\AppData\\Local\\Packages\\PythonSoftwareFoundation.Python.3.11_qbz5n2kfra8p0\\LocalCache\\local-packages\\Python311\\site-packages\\sklearn\\utils\\validation.py\", line 1279, in check_X_y\n    y = _check_y(y, multi_output=multi_output, y_numeric=y_numeric, estimator=estimator)\n        ^^^^^^^^^^^^^^^^^^^^^^^^^^^^^^^^^^^^^^^^^^^^^^^^^^^^^^^^^^^^^^^^^^^^^^^^^^^^^^^^\n  File \"C:\\Users\\Ethan\\AppData\\Local\\Packages\\PythonSoftwareFoundation.Python.3.11_qbz5n2kfra8p0\\LocalCache\\local-packages\\Python311\\site-packages\\sklearn\\utils\\validation.py\", line 1300, in _check_y\n    y = column_or_1d(y, warn=True)\n        ^^^^^^^^^^^^^^^^^^^^^^^^^^\n  File \"C:\\Users\\Ethan\\AppData\\Local\\Packages\\PythonSoftwareFoundation.Python.3.11_qbz5n2kfra8p0\\LocalCache\\local-packages\\Python311\\site-packages\\sklearn\\utils\\validation.py\", line 1367, in column_or_1d\n    raise ValueError(\nValueError: y should be a 1d array, got an array of shape (15291, 1076) instead.\n"
     ]
    }
   ],
   "source": [
    "params = {\n",
    "    \"max_iter\": [500, 1000, 2000],\n",
    "    \"C\": [0.1, 1, 10, 100],\n",
    "    \"class_weight\": [\"balanced\", None],\n",
    "    \"solver\": [\"liblinear\", \"lbfgs\"]\n",
    "}\n",
    "\n",
    "gridsearch = GridSearchCV(LogisticRegression(), params, cv=5)\n",
    "gridsearch = gridsearch.fit(X_genres, y_genres)\n",
    "\n",
    "print(\"Best parameters: \", gridsearch.best_params_)\n",
    "print(\"Best score: \", gridsearch.best_score_)\n",
    "\n",
    "scores[\"LogisticRegression\"] = cross_val_score(gridsearch.best_estimator_, X_genres, y_genres, cv=10)"
   ]
  },
  {
   "cell_type": "markdown",
   "metadata": {},
   "source": [
    "### Decision Tree"
   ]
  },
  {
   "cell_type": "code",
   "execution_count": 48,
   "metadata": {},
   "outputs": [
    {
     "name": "stdout",
     "output_type": "stream",
     "text": [
      "Best parameters:  {'criterion': 'gini', 'max_depth': 10}\n",
      "Best score:  0.0005755190464282053\n"
     ]
    }
   ],
   "source": [
    "params = {\n",
    "    \"criterion\": [\"gini\", \"entropy\"],\n",
    "    \"max_depth\": range(3, 11),\n",
    "}\n",
    "\n",
    "gridsearch = GridSearchCV(DecisionTreeClassifier(), params, cv=5)\n",
    "gridsearch = gridsearch.fit(X_genres, y_genres)\n",
    "\n",
    "print(\"Best parameters: \", gridsearch.best_params_)\n",
    "print(\"Best score: \", gridsearch.best_score_)\n",
    "\n",
    "scores[\"DecisionTree\"] = cross_val_score(gridsearch.best_estimator_, X_genres, y_genres, cv=10)"
   ]
  },
  {
   "cell_type": "code",
   "execution_count": null,
   "metadata": {},
   "outputs": [],
   "source": [
    "plot_tree(gridsearch.best_estimator_, feature_names=features, class_names=lb.classes_, filled=True)"
   ]
  },
  {
   "cell_type": "markdown",
   "metadata": {},
   "source": [
    "### Random Forest"
   ]
  },
  {
   "cell_type": "code",
   "execution_count": null,
   "metadata": {},
   "outputs": [],
   "source": [
    "params = {\n",
    "    \"n_estimators\": [100, 250, 500],\n",
    "    \"max_depth\": [50, 100, None]\n",
    "}\n",
    "\n",
    "gridsearch = GridSearchCV(RandomForestClassifier(), params, cv=5)\n",
    "gridsearch = gridsearch.fit(X_genres, y_genres)\n",
    "\n",
    "print(\"Best parameters: \", gridsearch.best_params_)\n",
    "print(\"Best score: \", gridsearch.best_score_)\n",
    "\n",
    "scores[\"RandomForest\"] = cross_val_score(gridsearch.best_estimator_, X_genres, y_genres, cv=10)"
   ]
  },
  {
   "cell_type": "markdown",
   "metadata": {},
   "source": [
    "### Models Comparison"
   ]
  },
  {
   "cell_type": "code",
   "execution_count": null,
   "metadata": {},
   "outputs": [],
   "source": [
    "algorithms = list(scores.keys())\n",
    "\n",
    "for algo1, algo2 in combinations(algorithms, 2):\n",
    "    print(f\"Comparing {algo1} and {algo2}\")\n",
    "    t, p = ttest_ind(scores[algo1], scores[algo2])\n",
    "    print(f\"\\tAccuracy: p = {p:.5f}\")"
   ]
  },
  {
   "cell_type": "markdown",
   "metadata": {},
   "source": [
    "## Prices Prediction"
   ]
  },
  {
   "cell_type": "code",
   "execution_count": null,
   "metadata": {},
   "outputs": [
    {
     "name": "stdout",
     "output_type": "stream",
     "text": [
      "Number of features:  5\n"
     ]
    }
   ],
   "source": [
    "features = [\"n_ratings\", \"n_reviews\", \"publication_year\", \"n_pages\", \"average_rating\"]\n",
    "print(\"Number of features: \", len(features))"
   ]
  },
  {
   "cell_type": "code",
   "execution_count": null,
   "metadata": {},
   "outputs": [],
   "source": [
    "df_prices = df[features + [\"price\"]]\n",
    "df_prices = (df_prices - df_prices.mean()) / df_prices.std()"
   ]
  },
  {
   "cell_type": "code",
   "execution_count": null,
   "metadata": {},
   "outputs": [],
   "source": [
    "mlb = MultiLabelBinarizer()\n",
    "df_genres_one_hot = pd.DataFrame(mlb.fit_transform(df[\"genres\"]), columns=mlb.classes_, index=df.index)\n",
    "\n",
    "lb = LabelBinarizer()\n",
    "df_format_one_hot = pd.DataFrame(lb.fit_transform(df[\"format\"]), columns=lb.classes_, index=df.index)"
   ]
  },
  {
   "cell_type": "code",
   "execution_count": null,
   "metadata": {},
   "outputs": [
    {
     "data": {
      "text/html": [
       "<div>\n",
       "<style scoped>\n",
       "    .dataframe tbody tr th:only-of-type {\n",
       "        vertical-align: middle;\n",
       "    }\n",
       "\n",
       "    .dataframe tbody tr th {\n",
       "        vertical-align: top;\n",
       "    }\n",
       "\n",
       "    .dataframe thead th {\n",
       "        text-align: right;\n",
       "    }\n",
       "</style>\n",
       "<table border=\"1\" class=\"dataframe\">\n",
       "  <thead>\n",
       "    <tr style=\"text-align: right;\">\n",
       "      <th></th>\n",
       "      <th>n_ratings</th>\n",
       "      <th>n_reviews</th>\n",
       "      <th>publication_year</th>\n",
       "      <th>n_pages</th>\n",
       "      <th>average_rating</th>\n",
       "      <th>price</th>\n",
       "      <th>'...more'</th>\n",
       "      <th>'12th Century'</th>\n",
       "      <th>'13th Century'</th>\n",
       "      <th>'14th Century'</th>\n",
       "      <th>...</th>\n",
       "      <th>'Zambia'</th>\n",
       "      <th>'Zombies'</th>\n",
       "      <th>audio</th>\n",
       "      <th>audiobook</th>\n",
       "      <th>cd</th>\n",
       "      <th>ebook</th>\n",
       "      <th>hardcover</th>\n",
       "      <th>kindle</th>\n",
       "      <th>other</th>\n",
       "      <th>paperback</th>\n",
       "    </tr>\n",
       "  </thead>\n",
       "  <tbody>\n",
       "    <tr>\n",
       "      <th>0</th>\n",
       "      <td>0.101439</td>\n",
       "      <td>0.421215</td>\n",
       "      <td>0.179883</td>\n",
       "      <td>0.162318</td>\n",
       "      <td>-0.000783</td>\n",
       "      <td>-0.418172</td>\n",
       "      <td>1</td>\n",
       "      <td>0</td>\n",
       "      <td>0</td>\n",
       "      <td>0</td>\n",
       "      <td>...</td>\n",
       "      <td>0</td>\n",
       "      <td>0</td>\n",
       "      <td>0</td>\n",
       "      <td>0</td>\n",
       "      <td>0</td>\n",
       "      <td>0</td>\n",
       "      <td>1</td>\n",
       "      <td>0</td>\n",
       "      <td>0</td>\n",
       "      <td>0</td>\n",
       "    </tr>\n",
       "    <tr>\n",
       "      <th>1</th>\n",
       "      <td>-0.153332</td>\n",
       "      <td>-0.215356</td>\n",
       "      <td>-0.487601</td>\n",
       "      <td>0.109364</td>\n",
       "      <td>-0.489705</td>\n",
       "      <td>0.654207</td>\n",
       "      <td>1</td>\n",
       "      <td>0</td>\n",
       "      <td>0</td>\n",
       "      <td>0</td>\n",
       "      <td>...</td>\n",
       "      <td>0</td>\n",
       "      <td>0</td>\n",
       "      <td>0</td>\n",
       "      <td>0</td>\n",
       "      <td>0</td>\n",
       "      <td>0</td>\n",
       "      <td>0</td>\n",
       "      <td>0</td>\n",
       "      <td>0</td>\n",
       "      <td>1</td>\n",
       "    </tr>\n",
       "    <tr>\n",
       "      <th>2</th>\n",
       "      <td>-0.167741</td>\n",
       "      <td>-0.234717</td>\n",
       "      <td>0.179883</td>\n",
       "      <td>0.038760</td>\n",
       "      <td>0.483106</td>\n",
       "      <td>-1.182625</td>\n",
       "      <td>1</td>\n",
       "      <td>0</td>\n",
       "      <td>0</td>\n",
       "      <td>0</td>\n",
       "      <td>...</td>\n",
       "      <td>0</td>\n",
       "      <td>0</td>\n",
       "      <td>0</td>\n",
       "      <td>0</td>\n",
       "      <td>0</td>\n",
       "      <td>0</td>\n",
       "      <td>0</td>\n",
       "      <td>0</td>\n",
       "      <td>0</td>\n",
       "      <td>1</td>\n",
       "    </tr>\n",
       "    <tr>\n",
       "      <th>3</th>\n",
       "      <td>-0.161502</td>\n",
       "      <td>-0.192847</td>\n",
       "      <td>0.847367</td>\n",
       "      <td>0.828646</td>\n",
       "      <td>-0.258333</td>\n",
       "      <td>-0.111778</td>\n",
       "      <td>1</td>\n",
       "      <td>0</td>\n",
       "      <td>0</td>\n",
       "      <td>0</td>\n",
       "      <td>...</td>\n",
       "      <td>0</td>\n",
       "      <td>0</td>\n",
       "      <td>0</td>\n",
       "      <td>0</td>\n",
       "      <td>0</td>\n",
       "      <td>1</td>\n",
       "      <td>0</td>\n",
       "      <td>0</td>\n",
       "      <td>0</td>\n",
       "      <td>0</td>\n",
       "    </tr>\n",
       "    <tr>\n",
       "      <th>4</th>\n",
       "      <td>-0.177847</td>\n",
       "      <td>-0.241248</td>\n",
       "      <td>0.465947</td>\n",
       "      <td>-0.027432</td>\n",
       "      <td>0.885004</td>\n",
       "      <td>-1.182625</td>\n",
       "      <td>1</td>\n",
       "      <td>0</td>\n",
       "      <td>0</td>\n",
       "      <td>0</td>\n",
       "      <td>...</td>\n",
       "      <td>0</td>\n",
       "      <td>0</td>\n",
       "      <td>0</td>\n",
       "      <td>0</td>\n",
       "      <td>0</td>\n",
       "      <td>0</td>\n",
       "      <td>0</td>\n",
       "      <td>0</td>\n",
       "      <td>0</td>\n",
       "      <td>1</td>\n",
       "    </tr>\n",
       "  </tbody>\n",
       "</table>\n",
       "<p>5 rows × 1095 columns</p>\n",
       "</div>"
      ],
      "text/plain": [
       "   n_ratings  n_reviews  publication_year   n_pages  average_rating     price  \\\n",
       "0   0.101439   0.421215          0.179883  0.162318       -0.000783 -0.418172   \n",
       "1  -0.153332  -0.215356         -0.487601  0.109364       -0.489705  0.654207   \n",
       "2  -0.167741  -0.234717          0.179883  0.038760        0.483106 -1.182625   \n",
       "3  -0.161502  -0.192847          0.847367  0.828646       -0.258333 -0.111778   \n",
       "4  -0.177847  -0.241248          0.465947 -0.027432        0.885004 -1.182625   \n",
       "\n",
       "    '...more'   '12th Century'   '13th Century'   '14th Century'  ...  \\\n",
       "0           1                0                0                0  ...   \n",
       "1           1                0                0                0  ...   \n",
       "2           1                0                0                0  ...   \n",
       "3           1                0                0                0  ...   \n",
       "4           1                0                0                0  ...   \n",
       "\n",
       "   'Zambia'  'Zombies'  audio  audiobook  cd  ebook  hardcover  kindle  other  \\\n",
       "0         0          0      0          0   0      0          1       0      0   \n",
       "1         0          0      0          0   0      0          0       0      0   \n",
       "2         0          0      0          0   0      0          0       0      0   \n",
       "3         0          0      0          0   0      1          0       0      0   \n",
       "4         0          0      0          0   0      0          0       0      0   \n",
       "\n",
       "   paperback  \n",
       "0          0  \n",
       "1          1  \n",
       "2          1  \n",
       "3          0  \n",
       "4          1  \n",
       "\n",
       "[5 rows x 1095 columns]"
      ]
     },
     "execution_count": 19,
     "metadata": {},
     "output_type": "execute_result"
    }
   ],
   "source": [
    "df_prices = pd.concat([df_prices, df_genres_one_hot, df_format_one_hot], axis=1)\n",
    "df_prices = df_prices.dropna()\n",
    "\n",
    "df_prices.head(5)"
   ]
  },
  {
   "cell_type": "code",
   "execution_count": null,
   "metadata": {},
   "outputs": [],
   "source": [
    "X_prices = df_prices[df_prices.columns.difference([\"price\"])].values\n",
    "y_prices = df_prices[\"price\"].values"
   ]
  },
  {
   "cell_type": "code",
   "execution_count": null,
   "metadata": {},
   "outputs": [],
   "source": [
    "scores = {}"
   ]
  },
  {
   "cell_type": "markdown",
   "metadata": {},
   "source": [
    "### Linear Regression"
   ]
  },
  {
   "cell_type": "code",
   "execution_count": null,
   "metadata": {},
   "outputs": [],
   "source": [
    "scores[\"LinearRegression\"] = cross_val_score(LinearRegression(), X_prices, y_prices, cv=10)"
   ]
  },
  {
   "cell_type": "markdown",
   "metadata": {},
   "source": [
    "### Support Vector Regression"
   ]
  },
  {
   "cell_type": "code",
   "execution_count": null,
   "metadata": {},
   "outputs": [],
   "source": [
    "params = {\n",
    "    \"C\": [0.1, 1, 10],\n",
    "    \"kernel\": [\"rbf\", \"sigmoid\"],\n",
    "    \"degree\": range(2, 5),\n",
    "}\n",
    "\n",
    "gridsearch = GridSearchCV(SVR(), params, cv=5)\n",
    "gridsearch = gridsearch.fit(X_prices, y_prices)\n",
    "\n",
    "print(\"Best parameters: \", gridsearch.best_params_)\n",
    "print(\"Best score: \", gridsearch.best_score_)\n",
    "\n",
    "scores[\"SVR\"] = cross_val_score(gridsearch.best_estimator_, X_prices, y_prices, cv=10)"
   ]
  },
  {
   "cell_type": "markdown",
   "metadata": {},
   "source": [
    "### Models Comparison"
   ]
  },
  {
   "cell_type": "code",
   "execution_count": null,
   "metadata": {},
   "outputs": [],
   "source": [
    "algorithms = list(scores.keys())\n",
    "\n",
    "for algo1, algo2 in combinations(algorithms, 2):\n",
    "    print(f\"Comparing {algo1} and {algo2}\")\n",
    "    t, p = ttest_ind(scores[algo1], scores[algo2])\n",
    "    print(f\"\\tAccuracy: p = {p:.5f}\")"
   ]
  },
  {
   "cell_type": "markdown",
   "metadata": {},
   "source": [
    "## Ratings Prediction"
   ]
  },
  {
   "cell_type": "code",
   "execution_count": 4,
   "metadata": {},
   "outputs": [
    {
     "name": "stdout",
     "output_type": "stream",
     "text": [
      "Number of features:  5\n"
     ]
    }
   ],
   "source": [
    "features = [\"price\", \"n_ratings\", \"n_reviews\", \"publication_year\", \"n_pages\"]\n",
    "print(\"Number of features: \", len(features))"
   ]
  },
  {
   "cell_type": "code",
   "execution_count": 10,
   "metadata": {},
   "outputs": [],
   "source": [
    "df_ratings = df[features + [\"average_rating\"]].dropna()\n",
    "df_ratings = (df_ratings - df_ratings.mean()) / df_ratings.std()"
   ]
  },
  {
   "cell_type": "code",
   "execution_count": 11,
   "metadata": {},
   "outputs": [],
   "source": [
    "X_ratings = df_ratings[features].values\n",
    "y_ratings = df_ratings[\"average_rating\"].values"
   ]
  },
  {
   "cell_type": "code",
   "execution_count": 12,
   "metadata": {},
   "outputs": [],
   "source": [
    "scores = {}"
   ]
  },
  {
   "cell_type": "markdown",
   "metadata": {},
   "source": [
    "### Linear Regression"
   ]
  },
  {
   "cell_type": "code",
   "execution_count": 13,
   "metadata": {},
   "outputs": [],
   "source": [
    "scores[\"LinearRegression\"] = cross_val_score(LinearRegression(), X_ratings, y_ratings, cv=10)"
   ]
  },
  {
   "cell_type": "markdown",
   "metadata": {},
   "source": [
    "### Support Vector Regression"
   ]
  },
  {
   "cell_type": "code",
   "execution_count": 19,
   "metadata": {},
   "outputs": [],
   "source": [
    "params = {\n",
    "    \"C\": [0.1, 1, 10],\n",
    "    \"kernel\": [\"rbf\", \"sigmoid\"],\n",
    "    \"degree\": range(2, 10),\n",
    "}\n",
    "\n",
    "gridsearch = GridSearchCV(SVR(), params, cv=5)\n",
    "gridsearch = gridsearch.fit(X_ratings, y_ratings)\n",
    "\n",
    "print(\"Best parameters: \", gridsearch.best_params_)\n",
    "print(\"Best score: \", gridsearch.best_score_)\n",
    "\n",
    "scores[\"SVR\"] = cross_val_score(gridsearch.best_estimator_, X_ratings, y_ratings, cv=10)"
   ]
  },
  {
   "cell_type": "markdown",
   "metadata": {},
   "source": [
    "### Models Comparison"
   ]
  },
  {
   "cell_type": "code",
   "execution_count": 17,
   "metadata": {},
   "outputs": [
    {
     "name": "stdout",
     "output_type": "stream",
     "text": [
      "Comparing LinearRegression and SVR\n",
      "\tp = 0.00000\n"
     ]
    }
   ],
   "source": [
    "algorithms = list(scores.keys())\n",
    "\n",
    "for algo1, algo2 in combinations(algorithms, 2):\n",
    "    print(f\"Comparing {algo1} and {algo2}\")\n",
    "    t, p = ttest_ind(scores[algo1], scores[algo2])\n",
    "    print(f\"\\tp = {p:.5f}\")"
   ]
  },
  {
   "cell_type": "code",
   "execution_count": null,
   "metadata": {},
   "outputs": [
    {
     "name": "stdout",
     "output_type": "stream",
     "text": [
      "{'LinearRegression': array([-0.00335131,  0.03877197,  0.0295104 ,  0.03388785,  0.03109899,\n",
      "        0.01950547,  0.02612045, -0.02493832,  0.02223991,  0.02578424]), 'SVR': array([0.10771509, 0.13500509, 0.10265311, 0.12967594, 0.11753781,\n",
      "       0.10040945, 0.12694459, 0.10609586, 0.13315985, 0.10748348])}\n"
     ]
    }
   ],
   "source": [
    "print(scores)"
   ]
  }
 ],
 "metadata": {
  "kernelspec": {
   "display_name": "Python 3",
   "language": "python",
   "name": "python3"
  },
  "language_info": {
   "codemirror_mode": {
    "name": "ipython",
    "version": 3
   },
   "file_extension": ".py",
   "mimetype": "text/x-python",
   "name": "python",
   "nbconvert_exporter": "python",
   "pygments_lexer": "ipython3",
   "version": "3.10.11"
  }
 },
 "nbformat": 4,
 "nbformat_minor": 2
}
