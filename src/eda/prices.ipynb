{
 "cells": [
  {
   "cell_type": "markdown",
   "metadata": {},
   "source": [
    "# Exploratory Data Analysis"
   ]
  },
  {
   "cell_type": "markdown",
   "metadata": {},
   "source": [
    "Notes à moi-même :\n",
    "- Essayer de normaliser les données pour voir ce que ça donne\n",
    "- Détecter les outliers et reprendre les études pour voir ce que ça donne (ex : \"...more\" pour les genres, les prix trop élevés, les livres avec très peu de notes, ...)\n",
    "- Anova pour les prix\n",
    "- Rating moyen des auteurs en fonction de leur nombre de livres parus (distributions)"
   ]
  },
  {
   "cell_type": "code",
   "execution_count": 55,
   "metadata": {},
   "outputs": [],
   "source": [
    "import matplotlib.pyplot as plt\n",
    "import numpy as np\n",
    "import pandas as pd\n",
    "import seaborn as sns\n",
    "import wordcloud as wc"
   ]
  },
  {
   "cell_type": "markdown",
   "metadata": {},
   "source": [
    "## Preprocessing"
   ]
  },
  {
   "cell_type": "code",
   "execution_count": 56,
   "metadata": {},
   "outputs": [
    {
     "data": {
      "text/html": [
       "<div>\n",
       "<style scoped>\n",
       "    .dataframe tbody tr th:only-of-type {\n",
       "        vertical-align: middle;\n",
       "    }\n",
       "\n",
       "    .dataframe tbody tr th {\n",
       "        vertical-align: top;\n",
       "    }\n",
       "\n",
       "    .dataframe thead th {\n",
       "        text-align: right;\n",
       "    }\n",
       "</style>\n",
       "<table border=\"1\" class=\"dataframe\">\n",
       "  <thead>\n",
       "    <tr style=\"text-align: right;\">\n",
       "      <th></th>\n",
       "      <th>title</th>\n",
       "      <th>author</th>\n",
       "      <th>price</th>\n",
       "      <th>description</th>\n",
       "      <th>author_description</th>\n",
       "      <th>genres</th>\n",
       "      <th>n_ratings</th>\n",
       "      <th>n_reviews</th>\n",
       "      <th>ratings</th>\n",
       "      <th>pages_format</th>\n",
       "      <th>publication_info</th>\n",
       "      <th>literary_awards</th>\n",
       "      <th>original_title</th>\n",
       "      <th>series</th>\n",
       "      <th>characters</th>\n",
       "      <th>format</th>\n",
       "      <th>published</th>\n",
       "      <th>isbn</th>\n",
       "      <th>language</th>\n",
       "      <th>setting</th>\n",
       "    </tr>\n",
       "  </thead>\n",
       "  <tbody>\n",
       "    <tr>\n",
       "      <th>0</th>\n",
       "      <td>The Weed That Strings the Hangman's Bag</td>\n",
       "      <td>Alan Bradley</td>\n",
       "      <td>4.99</td>\n",
       "      <td>From Dagger Award-winning and internationally ...</td>\n",
       "      <td>Librarian Note: There is more than one author ...</td>\n",
       "      <td>['Mystery',  'Fiction',  'Historical Fiction',...</td>\n",
       "      <td>55692.0</td>\n",
       "      <td>5756.0</td>\n",
       "      <td>[395.0, 1540.0, 12237.0, 25714.0, 15806.0]</td>\n",
       "      <td>364 pages, Hardcover</td>\n",
       "      <td>First published March 9, 2010</td>\n",
       "      <td>['Goodreads Choice Award Nominee for Mystery &amp;...</td>\n",
       "      <td>The Weed That Strings the Hangman's Bag</td>\n",
       "      <td>['Flavia de Luce ']</td>\n",
       "      <td>['Flavia de Luce', 'Ophelia de Luce', 'Daphne ...</td>\n",
       "      <td>364 pages, Hardcover</td>\n",
       "      <td>March 9, 2010 by Delacorte Press</td>\n",
       "      <td>9780385342315 (ISBN10: 0385342314)</td>\n",
       "      <td>English</td>\n",
       "      <td>NaN</td>\n",
       "    </tr>\n",
       "    <tr>\n",
       "      <th>1</th>\n",
       "      <td>A Good Man in Africa</td>\n",
       "      <td>William  Boyd</td>\n",
       "      <td>11.99</td>\n",
       "      <td>In the small African republic of Kinjanja, Bri...</td>\n",
       "      <td>Note: William^^BoydOf Scottish descent, Boyd w...</td>\n",
       "      <td>['Fiction',  'Africa',  'Humor',  'Novels',  '...</td>\n",
       "      <td>5018.0</td>\n",
       "      <td>298.0</td>\n",
       "      <td>[90.0, 257.0, 1222.0, 2184.0, 1265.0]</td>\n",
       "      <td>352 pages, Paperback</td>\n",
       "      <td>First published January 1, 1981</td>\n",
       "      <td>['Whitbread Award for First Novel (1981)', 'So...</td>\n",
       "      <td>A Good Man in Africa</td>\n",
       "      <td>NaN</td>\n",
       "      <td>['Morgan Leafy']</td>\n",
       "      <td>352 pages, Paperback</td>\n",
       "      <td>January 14, 2003 by Vintage</td>\n",
       "      <td>9781400030026 (ISBN10: 1400030021)</td>\n",
       "      <td>English</td>\n",
       "      <td>['Kinjanja']</td>\n",
       "    </tr>\n",
       "    <tr>\n",
       "      <th>2</th>\n",
       "      <td>It Had to Be You</td>\n",
       "      <td>Janice  Thompson</td>\n",
       "      <td>0.00</td>\n",
       "      <td>Bella couldn't be happier that her long-feudin...</td>\n",
       "      <td>Welcome to the wacky, wonderful world of inspi...</td>\n",
       "      <td>['Christian Fiction',  'Romance',  'Christian'...</td>\n",
       "      <td>2152.0</td>\n",
       "      <td>132.0</td>\n",
       "      <td>[14.0, 86.0, 421.0, 735.0, 896.0]</td>\n",
       "      <td>336 pages, Paperback</td>\n",
       "      <td>First published January 1, 2010</td>\n",
       "      <td>NaN</td>\n",
       "      <td>NaN</td>\n",
       "      <td>['Weddings by Bella', 'Galveston Weddings']</td>\n",
       "      <td>NaN</td>\n",
       "      <td>336 pages, Paperback</td>\n",
       "      <td>May 1, 2010 by Revell</td>\n",
       "      <td>9780800733445 (ISBN10: 0800733444)</td>\n",
       "      <td>English</td>\n",
       "      <td>['Galveston, Texas']</td>\n",
       "    </tr>\n",
       "    <tr>\n",
       "      <th>3</th>\n",
       "      <td>Missing</td>\n",
       "      <td>Kelley Armstrong</td>\n",
       "      <td>6.99</td>\n",
       "      <td>Everyone knows they left. No one knows they're...</td>\n",
       "      <td>Kelley Armstrong has been telling stories sinc...</td>\n",
       "      <td>['Young Adult',  'Mystery',  'Thriller',  'Fic...</td>\n",
       "      <td>3393.0</td>\n",
       "      <td>491.0</td>\n",
       "      <td>[54.0, 185.0, 799.0, 1308.0, 1047.0]</td>\n",
       "      <td>515 pages, ebook</td>\n",
       "      <td>First published April 18, 2017</td>\n",
       "      <td>NaN</td>\n",
       "      <td>Reeve's End (working title only)</td>\n",
       "      <td>NaN</td>\n",
       "      <td>['Edie Greene', 'Winter Crane', 'Tanner Robson...</td>\n",
       "      <td>515 pages, ebook</td>\n",
       "      <td>April 18, 2017 by Crown Books for Young Readers</td>\n",
       "      <td>9780399550348 (ISBN10: 0399550348)</td>\n",
       "      <td>English</td>\n",
       "      <td>NaN</td>\n",
       "    </tr>\n",
       "    <tr>\n",
       "      <th>4</th>\n",
       "      <td>Dawn of Rebellion</td>\n",
       "      <td>Michelle  Lynn</td>\n",
       "      <td>0.00</td>\n",
       "      <td>My name is Dawn Nolan, and I've grown up on th...</td>\n",
       "      <td>Michelle moved around the Midwest most of her ...</td>\n",
       "      <td>['Young Adult',  'Dystopia',  'Romance',  'Sci...</td>\n",
       "      <td>142.0</td>\n",
       "      <td>76.0</td>\n",
       "      <td>[1.0, 6.0, 23.0, 41.0, 71.0]</td>\n",
       "      <td>321 pages, Paperback</td>\n",
       "      <td>First published January 1, 2013</td>\n",
       "      <td>NaN</td>\n",
       "      <td>Dawn of Rebellion</td>\n",
       "      <td>['Dawn of Rebellion']</td>\n",
       "      <td>NaN</td>\n",
       "      <td>321 pages, Paperback</td>\n",
       "      <td>October 17, 2013 by CreateSpace Independent Pu...</td>\n",
       "      <td>9781492942429 (ISBN10: 1492942421)</td>\n",
       "      <td>English</td>\n",
       "      <td>NaN</td>\n",
       "    </tr>\n",
       "  </tbody>\n",
       "</table>\n",
       "</div>"
      ],
      "text/plain": [
       "                                     title            author  price  \\\n",
       "0  The Weed That Strings the Hangman's Bag      Alan Bradley   4.99   \n",
       "1                     A Good Man in Africa     William  Boyd  11.99   \n",
       "2                         It Had to Be You  Janice  Thompson   0.00   \n",
       "3                                  Missing  Kelley Armstrong   6.99   \n",
       "4                        Dawn of Rebellion    Michelle  Lynn   0.00   \n",
       "\n",
       "                                         description  \\\n",
       "0  From Dagger Award-winning and internationally ...   \n",
       "1  In the small African republic of Kinjanja, Bri...   \n",
       "2  Bella couldn't be happier that her long-feudin...   \n",
       "3  Everyone knows they left. No one knows they're...   \n",
       "4  My name is Dawn Nolan, and I've grown up on th...   \n",
       "\n",
       "                                  author_description  \\\n",
       "0  Librarian Note: There is more than one author ...   \n",
       "1  Note: William^^BoydOf Scottish descent, Boyd w...   \n",
       "2  Welcome to the wacky, wonderful world of inspi...   \n",
       "3  Kelley Armstrong has been telling stories sinc...   \n",
       "4  Michelle moved around the Midwest most of her ...   \n",
       "\n",
       "                                              genres  n_ratings  n_reviews  \\\n",
       "0  ['Mystery',  'Fiction',  'Historical Fiction',...    55692.0     5756.0   \n",
       "1  ['Fiction',  'Africa',  'Humor',  'Novels',  '...     5018.0      298.0   \n",
       "2  ['Christian Fiction',  'Romance',  'Christian'...     2152.0      132.0   \n",
       "3  ['Young Adult',  'Mystery',  'Thriller',  'Fic...     3393.0      491.0   \n",
       "4  ['Young Adult',  'Dystopia',  'Romance',  'Sci...      142.0       76.0   \n",
       "\n",
       "                                      ratings          pages_format  \\\n",
       "0  [395.0, 1540.0, 12237.0, 25714.0, 15806.0]  364 pages, Hardcover   \n",
       "1       [90.0, 257.0, 1222.0, 2184.0, 1265.0]  352 pages, Paperback   \n",
       "2           [14.0, 86.0, 421.0, 735.0, 896.0]  336 pages, Paperback   \n",
       "3        [54.0, 185.0, 799.0, 1308.0, 1047.0]      515 pages, ebook   \n",
       "4                [1.0, 6.0, 23.0, 41.0, 71.0]  321 pages, Paperback   \n",
       "\n",
       "                  publication_info  \\\n",
       "0    First published March 9, 2010   \n",
       "1  First published January 1, 1981   \n",
       "2  First published January 1, 2010   \n",
       "3   First published April 18, 2017   \n",
       "4  First published January 1, 2013   \n",
       "\n",
       "                                     literary_awards  \\\n",
       "0  ['Goodreads Choice Award Nominee for Mystery &...   \n",
       "1  ['Whitbread Award for First Novel (1981)', 'So...   \n",
       "2                                                NaN   \n",
       "3                                                NaN   \n",
       "4                                                NaN   \n",
       "\n",
       "                            original_title  \\\n",
       "0  The Weed That Strings the Hangman's Bag   \n",
       "1                     A Good Man in Africa   \n",
       "2                                      NaN   \n",
       "3         Reeve's End (working title only)   \n",
       "4                        Dawn of Rebellion   \n",
       "\n",
       "                                        series  \\\n",
       "0                          ['Flavia de Luce ']   \n",
       "1                                          NaN   \n",
       "2  ['Weddings by Bella', 'Galveston Weddings']   \n",
       "3                                          NaN   \n",
       "4                        ['Dawn of Rebellion']   \n",
       "\n",
       "                                          characters                format  \\\n",
       "0  ['Flavia de Luce', 'Ophelia de Luce', 'Daphne ...  364 pages, Hardcover   \n",
       "1                                   ['Morgan Leafy']  352 pages, Paperback   \n",
       "2                                                NaN  336 pages, Paperback   \n",
       "3  ['Edie Greene', 'Winter Crane', 'Tanner Robson...      515 pages, ebook   \n",
       "4                                                NaN  321 pages, Paperback   \n",
       "\n",
       "                                           published  \\\n",
       "0                   March 9, 2010 by Delacorte Press   \n",
       "1                        January 14, 2003 by Vintage   \n",
       "2                              May 1, 2010 by Revell   \n",
       "3    April 18, 2017 by Crown Books for Young Readers   \n",
       "4  October 17, 2013 by CreateSpace Independent Pu...   \n",
       "\n",
       "                                 isbn language               setting  \n",
       "0  9780385342315 (ISBN10: 0385342314)  English                   NaN  \n",
       "1  9781400030026 (ISBN10: 1400030021)  English          ['Kinjanja']  \n",
       "2  9780800733445 (ISBN10: 0800733444)  English  ['Galveston, Texas']  \n",
       "3  9780399550348 (ISBN10: 0399550348)  English                   NaN  \n",
       "4  9781492942429 (ISBN10: 1492942421)  English                   NaN  "
      ]
     },
     "execution_count": 56,
     "metadata": {},
     "output_type": "execute_result"
    }
   ],
   "source": [
    "df = pd.read_csv(\"./../../data/goodreads_data.csv\", converters={\"genres\": lambda x: x[1:-1].split(\",\")})\n",
    "df.head(5)"
   ]
  },
  {
   "cell_type": "code",
   "execution_count": 57,
   "metadata": {},
   "outputs": [
    {
     "name": "stdout",
     "output_type": "stream",
     "text": [
      "Number of books (with duplicates) :  24630\n",
      "Number of books (without duplicates) :  19666\n"
     ]
    }
   ],
   "source": [
    "print(\"Number of books (with duplicates) : \", len(df))\n",
    "df.drop_duplicates(subset=[\"title\", \"author\"], keep='first', inplace=True, ignore_index=True)\n",
    "print(\"Number of books (without duplicates) : \", len(df))"
   ]
  },
  {
   "cell_type": "markdown",
   "metadata": {},
   "source": [
    "## Prices Analysis"
   ]
  },
  {
   "cell_type": "code",
   "execution_count": 65,
   "metadata": {},
   "outputs": [
    {
     "data": {
      "text/plain": [
       "count    19666.000000\n",
       "mean         7.719634\n",
       "std          6.527542\n",
       "min          0.000000\n",
       "25%          2.990000\n",
       "50%          7.990000\n",
       "75%         11.577500\n",
       "max        199.730000\n",
       "Name: price, dtype: float64"
      ]
     },
     "execution_count": 65,
     "metadata": {},
     "output_type": "execute_result"
    }
   ],
   "source": [
    "prices = df[\"price\"].dropna()\n",
    "prices.describe()"
   ]
  },
  {
   "cell_type": "code",
   "execution_count": 66,
   "metadata": {},
   "outputs": [
    {
     "data": {
      "text/plain": [
       "<Axes: ylabel='price'>"
      ]
     },
     "execution_count": 66,
     "metadata": {},
     "output_type": "execute_result"
    },
    {
     "data": {
      "image/png": "[encoded data removed]",
      "text/plain": [
       "<Figure size 640x480 with 1 Axes>"
      ]
     },
     "metadata": {},
     "output_type": "display_data"
    }
   ],
   "source": [
    "sns.boxplot(data=prices)"
   ]
  }
 ],
 "metadata": {
  "kernelspec": {
   "display_name": "Python 3",
   "language": "python",
   "name": "python3"
  },
  "language_info": {
   "codemirror_mode": {
    "name": "ipython",
    "version": 3
   },
   "file_extension": ".py",
   "mimetype": "text/x-python",
   "name": "python",
   "nbconvert_exporter": "python",
   "pygments_lexer": "ipython3",
   "version": "3.10.11"
  }
 },
 "nbformat": 4,
 "nbformat_minor": 2
}
