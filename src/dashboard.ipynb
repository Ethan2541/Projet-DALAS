{
 "cells": [
  {
   "cell_type": "code",
   "execution_count": 1,
   "metadata": {},
   "outputs": [],
   "source": [
    "from dash import Dash, html, dash_table, dcc, callback, Output, Input\n",
    "import numpy as np\n",
    "import pandas as pd\n",
    "import plotly.express as px"
   ]
  },
  {
   "cell_type": "code",
   "execution_count": 2,
   "metadata": {},
   "outputs": [],
   "source": [
    "df = pd.read_csv(\"./../data/goodreads_data.csv\", converters={\"genres\": lambda x: x[1:-1].split(\",\")})\n",
    "df[\"publication_date\"] = pd.to_datetime(df[\"published\"].apply(lambda x: \" \".join(str(x).split()[:3])), errors=\"coerce\")\n",
    "df[\"publication_year\"] = df[\"publication_date\"].dt.year.astype(\"float\")\n",
    "df[\"n_pages\"] = df[\"pages_format\"].apply(lambda x: int(x.split()[0]) if x.split()[0].isdigit() else np.nan).astype(\"float\")\n",
    "df[\"format\"] = df[\"pages_format\"].apply(lambda x: x.replace(\"Kindle Edition\", \"Kindle\").split()[-1].lower() if x.replace(\"Kindle Edition\", \"Kindle\").split()[-1].lower() in [\"hardcover\", \"paperback\", \"ebook\", \"audiobook\", \"audio\", \"cd\", \"kindle\"] else \"other\").astype(\"category\")\n",
    "\n",
    "dic_rating = {1: \"one_star\", 2: \"two_stars\", 3: \"three_stars\", 4: \"four_stars\", 5: \"five_stars\"}\n",
    "for key, value in dic_rating.items():\n",
    "    df[value] = df[\"ratings\"].apply(lambda x: float(x[1:-1].split(\",\")[key-1])) / df[\"n_ratings\"]\n",
    "df[\"average_rating\"] = df[\"ratings\"].apply(lambda x: sum([(i+1) * float(x[1:-1].split(\",\")[i]) for i in range(5)])) / df[\"n_ratings\"]\n",
    "df[\"average_rating\"] = df[\"average_rating\"].round(1)"
   ]
  },
  {
   "cell_type": "code",
   "execution_count": 4,
   "metadata": {},
   "outputs": [],
   "source": [
    "app = Dash(__name__)\n",
    "\n",
    "app.layout = html.Div([\n",
    "    html.H1(children=\"ÉCRITURE D'UN LIVRE POPULAIRE\", style={'text-align': 'center'}),\n",
    "    html.Hr(style={\"height\": \"3px\", \"color\": \"#026b9c\", \"border\": \"none\", \"background-color\": \"#026b9c\"}),\n",
    "    html.Div([\n",
    "        html.H2(children=\"Jeu de Données\", style={\"text-align\": \"center\", \"margin\": \"0\", \"color\": \"#2a303b\"}),\n",
    "        dcc.RadioItems(options=[\"Aperçu\", \"Détaillé\", \"Résumé Statistique\"], value=\"Aperçu\", id=\"radio-data\", style={\"display\": \"flex\", \"justify-content\": \"space-around\", \"margin\": \"20px 0 10px 0\"}),\n",
    "        dash_table.DataTable(data=df[[\"title\", \"author\", \"average_rating\", \"n_ratings\", \"n_reviews\", \"n_pages\", \"publication_year\", \"format\", \"language\"]].to_dict(\"records\"), page_size=10, id=\"data-table\", style_table={\"overflowX\": \"auto\"})\n",
    "    ], style={\"background-color\": \"#f5f6f8\", \"padding\": \"20px\", \"border-radius\": \"10px\", \"margin-bottom\": \"30px\"}),\n",
    "\n",
    "    html.Div([\n",
    "        html.Div([\n",
    "            html.H2(children=\"Corrélations\", style={\"text-align\": \"center\", \"margin\": \"0\", \"color\": \"#2a303b\"}),\n",
    "            dcc.Graph(figure=px.imshow(df[[\"average_rating\", \"n_ratings\", \"n_reviews\", \"price\", \"publication_year\", \"n_pages\"]].corr(), title=\"Matrice de corrélation entre les variables quantitatives les plus importantes\"), id=\"correlation_matrix\"),\n",
    "        ], style={\"background-color\": \"#f5f6f8\", \"padding\": \"20px\", \"border-radius\": \"10px\"}),\n",
    "        html.Div([\n",
    "            html.Div([\n",
    "                html.H2(children=\"Accessibilité\", style={\"text-align\": \"center\", \"margin\": \"0\", \"color\": \"#2a303b\"}),\n",
    "            ], style={\"background-color\": \"#f5f6f8\", \"padding\": \"20px\", \"border-radius\": \"10px\"}),\n",
    "            html.Div([\n",
    "                html.H2(children=\"Prix\", style={\"text-align\": \"center\", \"margin\": \"0\", \"color\": \"#2a303b\"}),\n",
    "            ], style={\"display\": \"grid\", \"grid-template-rows\": \"1fr 1fr\", \"background-color\": \"#f5f6f8\", \"padding\": \"20px\", \"border-radius\": \"10px\"}),\n",
    "        ], style={\"display\": \"grid\", \"grid-template\": \"1fr 1fr / 1fr\", \"gap\": \"10px\"})\n",
    "    ], style={\"display\": \"grid\", \"grid-template-columns\": \"1fr 1fr\", \"gap\": \"10px\", \"margin-bottom\": \"30px\"}),\n",
    "\n",
    "    html.Div([\n",
    "        html.Div([\n",
    "            html.H2(children=\"Genres Littéraires\", style={\"text-align\": \"center\", \"margin\": \"0\", \"color\": \"#2a303b\"}),\n",
    "        ], style={\"background-color\": \"#f5f6f8\", \"padding\": \"20px\", \"border-radius\": \"10px\"}),\n",
    "        html.Div([\n",
    "            html.H2(children=\"Notes Attribuées\", style={\"text-align\": \"center\", \"margin\": \"0\", \"color\": \"#2a303b\"}),\n",
    "        ], style={\"background-color\": \"#f5f6f8\", \"padding\": \"20px\", \"border-radius\": \"10px\"}),\n",
    "    ], style={\"display\": \"grid\", \"grid-template-columns\": \"1fr 1fr\", \"gap\": \"10px\", \"margin-bottom\": \"30px\"}),\n",
    "\n",
    "    html.Div([\n",
    "        html.H2(children=\"Groupes de Lecteurs\", style={\"text-align\": \"center\", \"margin\": \"0\", \"color\": \"#2a303b\"}),\n",
    "    ], style={\"background-color\": \"#f5f6f8\", \"padding\": \"20px\", \"border-radius\": \"10px\", \"margin-bottom\": \"30px\"}),\n",
    "\n",
    "\n",
    "#     html.Div([\n",
    "#         html.H2(children='Exploration des Données', style={'text-align': 'center', 'margin': '0', 'color': '#2a303b'}),\n",
    "#         dcc.Graph(figure=px.bar(df, x='bins', y='freq', labels={'bins': 'Catégorie de Revenu', 'freq': 'Proportion'}, title='Médiane des revenus selon la localisation géographique'), id='freq-income-bar'),\n",
    "#         html.Div([\n",
    "#             dcc.Graph(figure=px.histogram(df, x='winner', y='votes_gop', labels={'winner': 'Parti gagnant', 'votes_gop': 'Nombre de votes'}, title='Résultats des élections'), id='votes-gop-hist'),\n",
    "#             dcc.Graph(figure=px.bar(df, x='bins', y='freq', labels={'bins': 'Catégorie selon le nombre de votes', 'freq': 'Proportion des votes'}, title='Répartition des voix selon la localisation'), id='zipf-bar')\n",
    "#         ], style={'display': 'grid', 'grid-template-columns': '1fr 2fr', 'gap': '10px'})\n",
    "#     ], style={'padding': '20px', 'border-radius': '5px'})\n",
    "\n",
    "\n",
    "], style={\"font-family\": \"Helvetica\", \"background-color\": \"white\", \"padding\": \"10px\", \"border-radius\": \"5px\", \"margin-bottom\": \"10px\"})\n",
    "\n",
    "@callback(\n",
    "    Output(component_id=\"data-table\", component_property=\"data\"),\n",
    "    Input(component_id=\"radio-data\", component_property=\"value\")\n",
    ")\n",
    "\n",
    "def update_table(mode):\n",
    "    if mode == \"Aperçu\":\n",
    "        features = [\"title\", \"author\", \"average_rating\", \"n_ratings\", \"format\", \"publication_year\", \"language\"]\n",
    "        return df[features].to_dict(\"records\")\n",
    "    elif mode == \"Détaillé\":\n",
    "        features = [\"title\", \"author\", \"average_rating\", \"n_ratings\", \"n_reviews\", \"n_pages\", \"publication_year\", \"format\", \"language\"]\n",
    "        return df[features].to_dict(\"records\")\n",
    "    elif mode == \"Résumé Statistique\":\n",
    "        features = [\"average_rating\", \"n_ratings\", \"n_reviews\", \"n_pages\", \"publication_year\"]\n",
    "        return df[features].describe().round(2).to_dict(\"records\")"
   ]
  },
  {
   "cell_type": "code",
   "execution_count": 5,
   "metadata": {},
   "outputs": [
    {
     "data": {
      "text/html": [
       "\n",
       "        <iframe\n",
       "            width=\"100%\"\n",
       "            height=\"650\"\n",
       "            src=\"http://127.0.0.1:8050/\"\n",
       "            frameborder=\"0\"\n",
       "            allowfullscreen\n",
       "            \n",
       "        ></iframe>\n",
       "        "
      ],
      "text/plain": [
       "<IPython.lib.display.IFrame at 0x1f213e8afe0>"
      ]
     },
     "metadata": {},
     "output_type": "display_data"
    }
   ],
   "source": [
    "app.run(debug=True)"
   ]
  },
  {
   "cell_type": "code",
   "execution_count": null,
   "metadata": {},
   "outputs": [],
   "source": [
    "# Ajouter :\n",
    "# Prix : Boxplot, prix moyen par année\n",
    "# Notes : Boxplot, Violinplot, convergence, temps?, relation avec la nombre de livres écrits\n",
    "# Genres : mostcommon, top5\n",
    "# Accessibilité : pie chart et hist\n",
    "# Matrice de corrélation"
   ]
  }
 ],
 "metadata": {
  "kernelspec": {
   "display_name": "Python 3",
   "language": "python",
   "name": "python3"
  },
  "language_info": {
   "codemirror_mode": {
    "name": "ipython",
    "version": 3
   },
   "file_extension": ".py",
   "mimetype": "text/x-python",
   "name": "python",
   "nbconvert_exporter": "python",
   "pygments_lexer": "ipython3",
   "version": "3.10.11"
  }
 },
 "nbformat": 4,
 "nbformat_minor": 2
}
